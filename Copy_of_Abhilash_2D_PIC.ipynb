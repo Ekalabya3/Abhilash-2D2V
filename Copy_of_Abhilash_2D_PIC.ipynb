{
  "cells": [
    {
      "cell_type": "markdown",
      "metadata": {
        "id": "view-in-github",
        "colab_type": "text"
      },
      "source": [
        "<a href=\"https://colab.research.google.com/github/Ekalabya3/Abhilash-2D2V/blob/main/Copy_of_Abhilash_2D_PIC.ipynb\" target=\"_parent\"><img src=\"https://colab.research.google.com/assets/colab-badge.svg\" alt=\"Open In Colab\"/></a>"
      ]
    },
    {
      "cell_type": "code",
      "execution_count": 18,
      "metadata": {
        "id": "XWmuh4zk-hVr"
      },
      "outputs": [],
      "source": [
        "import numpy as np\n",
        "from scipy.fft import fftfreq, fft2, ifft2\n",
        "import matplotlib.pyplot as plt"
      ]
    },
    {
      "cell_type": "code",
      "execution_count": 19,
      "metadata": {
        "id": "V_3KrgUA-wMQ"
      },
      "outputs": [],
      "source": [
        "def periodic_particles(x, y, length):\n",
        "\n",
        "    rem_x = x % length;\n",
        "    if x > length:\n",
        "      x = rem_x;\n",
        "    elif x < 0:\n",
        "      x = length - rem_x;\n",
        "\n",
        "    rem_y = y % length\n",
        "    if y > length:\n",
        "      y = rem_y;\n",
        "    elif y < 0:\n",
        "      y = length - rem_y ;\n",
        "\n",
        "    return x, y"
      ]
    },
    {
      "cell_type": "code",
      "source": [
        "def ghost(rho):\n",
        "    Nx, Ny = rho.shape\n",
        "    for i in range(Nx):\n",
        "        rho[i, 0] = rho[i, Ny - 2]\n",
        "        rho[i, Ny - 1] = rho[i, 1]\n",
        "\n",
        "    for j in range(Ny):\n",
        "        rho[0, j] = rho[Nx - 2, j]\n",
        "        rho[Nx - 1, j] = rho[1, j]\n",
        "    return rho"
      ],
      "metadata": {
        "id": "pcnP1CldDavw"
      },
      "execution_count": 20,
      "outputs": []
    },
    {
      "cell_type": "code",
      "execution_count": 21,
      "metadata": {
        "id": "MWfvh_oQ-zvb"
      },
      "outputs": [],
      "source": [
        "def charge_density(pos_x, pos_y, dx, dy, length):    #DONE\n",
        "\n",
        "    charge_density = np.zeros((int(ncell ** 0.5)+1 +2  , int(ncell ** 0.5)+1 +2 ))    # + 2                             #+ 2*nghost\n",
        "\n",
        "    # LOOPING\n",
        "    for p in range(nparticles):\n",
        "        pos_x[p], pos_y[p] = periodic_particles(pos_x[p], pos_y[p], length)\n",
        "\n",
        "        # GRID POINT FINDER\n",
        "        i = int(pos_x[p] / dx)   +1\n",
        "        j = int(pos_y[p] / dy)   +1\n",
        "\n",
        "        # FRACTION FINDER\n",
        "        x_frac = ((pos_x[p]+dx) - (i * dx)) / dx   #+dx\n",
        "        y_frac = ((pos_y[p]+dy)  - (j * dy)) / dy   #+dy\n",
        "        # WEIGHT FINDER\n",
        "        weight_ii  = (1 - x_frac) * (1 - y_frac)    # FOR X=0, Y=0\n",
        "        weight_ji  = x_frac * (1 - y_frac)          # FOR X=1, Y=0\n",
        "        weight_ij  = (1 - x_frac) * y_frac          # FOR X=0, Y=1\n",
        "        weight_jj  = x_frac * y_frac                # FOR X=1, Y=1\n",
        "\n",
        "        charge_density[i][j]     =   charge_density[i][j]     + (particle_charge * weight_ii)           #/ (dx*dy)\n",
        "        charge_density[(i+1)][j]   =   charge_density[(i+1)][j]   + (particle_charge * weight_ji)       #/ (dx*dy)\n",
        "        charge_density[i][(j+1)]   =   charge_density[i][(j+1)]   + (particle_charge * weight_ij)       #/ (dx*dy)\n",
        "        charge_density[(i+1)][(j+1)] =   charge_density[(i+1)][(j+1)] + (particle_charge * weight_jj)   #/ (dx*dy)\n",
        "\n",
        "\n",
        "        #transpose_charge_density = np.transpose(charge_density_without_ghost)\n",
        "        #rho_1 = (np.flip(transpose_charge_density, 0)) / (dx*dy)\n",
        "\n",
        "        rho_1 = charge_density / (dx * dy)\n",
        "\n",
        "    return  rho_1"
      ]
    },
    {
      "cell_type": "code",
      "execution_count": 22,
      "metadata": {
        "id": "gmcTO138-6B9"
      },
      "outputs": [],
      "source": [
        "\n",
        "def calculate_background_charge_density(dx, dy, length, particle_charge, nparticles):  #DONE\n",
        "\n",
        "    # FIRST: TOTAL CHARGE CALCULATION\n",
        "    total_particle_charge = particle_charge * nparticles\n",
        "\n",
        "    # SECOND: TOTAL NUMBER OF GRID POINTS\n",
        "    num_x_grid_points = int(ncell ** 0.5) + 1\n",
        "    num_y_grid_points = int(ncell ** 0.5) + 1\n",
        "    total_grid_points = num_x_grid_points * num_y_grid_points\n",
        "\n",
        "    # THIRD: CHARGE DENSITY BY BACKGROUND PARTICLES (IONS)\n",
        "    background_charge_density = (np.ones((num_x_grid_points, num_y_grid_points)) * (-total_particle_charge / total_grid_points)) / (dx * dy)  #(length*length)\n",
        "\n",
        "    background_charge_density_frame = np.zeros((num_x_grid_points + 2, num_y_grid_points + 2))\n",
        "    background_charge_density_frame [1:-1, 1:-1] = background_charge_density\n",
        "\n",
        "    return background_charge_density, background_charge_density_frame\n"
      ]
    },
    {
      "cell_type": "code",
      "execution_count": 23,
      "metadata": {
        "id": "pHcqHRKW-9f_",
        "outputId": "caf2afbf-fb42-4c48-9e6b-1b148c94d0d7",
        "colab": {
          "base_uri": "https://localhost:8080/",
          "height": 122
        }
      },
      "outputs": [
        {
          "output_type": "execute_result",
          "data": {
            "text/plain": [
              "\"\\ndef poisson_solver(rho, dx, dy):\\n    # Calculate Wavenumbers\\n    k_x = fftfreq(rho.shape[1], dx)\\n    k_y = fftfreq(rho.shape[0], dy)\\n\\n    # Compute Fourier transform of charge density\\n    rho_hat = fft2(rho)\\n\\n    # Compute potential in Fourier space\\n    kx_grid, ky_grid = np.meshgrid(k_x, k_y, indexing='ij')\\n    kx_grid_sq = kx_grid ** 2\\n    ky_grid_sq = ky_grid ** 2\\n    k_sq = kx_grid_sq + ky_grid_sq\\n\\n    # Avoid division by zero at zero frequency\\n    k_sq[0, 0] = 1.0\\n    potential_hat = rho_hat / (4 * np.pi ** 2 * k_sq)\\n\\n    # Compute electric field components in Fourier space\\n    E_x_hat = -1j * 2 * np.pi * kx_grid * potential_hat\\n    E_y_hat = -1j * 2 * np.pi * ky_grid * potential_hat\\n\\n    # Compute inverse Fourier transform to get electric field in real space\\n    E_x = np.real(ifft2(E_x_hat))\\n    E_y = np.real(ifft2(E_y_hat))\\n    electric_potential = np.real(ifft2(potential_hat))\\n\\n    return E_x, E_y, k_sq, electric_potential\\n\""
            ],
            "application/vnd.google.colaboratory.intrinsic+json": {
              "type": "string"
            }
          },
          "metadata": {},
          "execution_count": 23
        }
      ],
      "source": [
        "'''\n",
        "def poisson_solver(rho, dx, dy):\n",
        "    # Calculate Wavenumbers\n",
        "    k_x = fftfreq(rho.shape[1], dx)\n",
        "    k_y = fftfreq(rho.shape[0], dy)\n",
        "\n",
        "    # Compute Fourier transform of charge density\n",
        "    rho_hat = fft2(rho)\n",
        "\n",
        "    # Compute potential in Fourier space\n",
        "    kx_grid, ky_grid = np.meshgrid(k_x, k_y, indexing='ij')\n",
        "    kx_grid_sq = kx_grid ** 2\n",
        "    ky_grid_sq = ky_grid ** 2\n",
        "    k_sq = kx_grid_sq + ky_grid_sq\n",
        "\n",
        "    # Avoid division by zero at zero frequency\n",
        "    k_sq[0, 0] = 1.0\n",
        "    potential_hat = rho_hat / (4 * np.pi ** 2 * k_sq)\n",
        "\n",
        "    # Compute electric field components in Fourier space\n",
        "    E_x_hat = -1j * 2 * np.pi * kx_grid * potential_hat\n",
        "    E_y_hat = -1j * 2 * np.pi * ky_grid * potential_hat\n",
        "\n",
        "    # Compute inverse Fourier transform to get electric field in real space\n",
        "    E_x = np.real(ifft2(E_x_hat))\n",
        "    E_y = np.real(ifft2(E_y_hat))\n",
        "    electric_potential = np.real(ifft2(potential_hat))\n",
        "\n",
        "    return E_x, E_y, k_sq, electric_potential\n",
        "'''"
      ]
    },
    {
      "cell_type": "code",
      "source": [
        "\n",
        "def calculate_potential(charge_density, dx, dy, max_iterations=1000, tolerance=1e-5):\n",
        "    # Get dimensions of charge density array\n",
        "    nx, ny = charge_density.shape\n",
        "\n",
        "    # Initialize potential array\n",
        "    potential = np.zeros((nx, ny))\n",
        "\n",
        "    # Calculate the squared grid spacing\n",
        "    hsq = dx * dy\n",
        "\n",
        "    # Main loop for relaxation\n",
        "    for _ in range(max_iterations):\n",
        "        # Copy the potential for comparison later\n",
        "        old_potential = potential.copy()\n",
        "\n",
        "        # Iterate over all points in the grid except boundaries\n",
        "        for i in range(1, nx - 1):\n",
        "            for j in range(1, ny - 1):\n",
        "                # Update potential using finite difference method\n",
        "                potential[i, j] = 0.25 * (potential[i+1, j] + potential[i-1, j] + potential[i, j+1] + potential[i, j-1] + hsq * charge_density[i, j])\n",
        "\n",
        "        # Check for convergence\n",
        "        if np.allclose(potential, old_potential, atol=tolerance):\n",
        "            break\n",
        "\n",
        "    return potential\n"
      ],
      "metadata": {
        "id": "egco6aWXAy6W"
      },
      "execution_count": 24,
      "outputs": []
    },
    {
      "cell_type": "code",
      "source": [
        "\n",
        "def calculate_electric_field(potential, dx, dy):\n",
        "    # Get dimensions of potential array\n",
        "    nx, ny = potential.shape\n",
        "\n",
        "    # Calculate electric field components\n",
        "    Ex = np.zeros((nx, ny))\n",
        "    Ey = np.zeros((nx, ny))\n",
        "\n",
        "    # Calculate derivatives using finite differences\n",
        "    for i in range(1, nx - 1):\n",
        "        for j in range(1, ny - 1):\n",
        "            # Central differences\n",
        "            Ex[i, j] = -(potential[i+1, j] - potential[i-1, j]) / (2 * dx)\n",
        "            Ey[i, j] = -(potential[i, j+1] - potential[i, j-1]) / (2 * dy)\n",
        "\n",
        "    return Ex, Ey\n"
      ],
      "metadata": {
        "id": "y9S3p1XwCJhr"
      },
      "execution_count": null,
      "outputs": []
    },
    {
      "cell_type": "code",
      "execution_count": 25,
      "metadata": {
        "id": "2QZrAlCT_EO1",
        "outputId": "62506975-b809-47d2-b7d2-67cc89d0f501",
        "colab": {
          "base_uri": "https://localhost:8080/",
          "height": 123
        }
      },
      "outputs": [
        {
          "output_type": "execute_result",
          "data": {
            "text/plain": [
              "'\\ndef interpolate_field (pos_x, pos_y, dx, dy, length, E_x, E_y):\\n\\n    Ex_at_particle = np.zeros(len(pos_x))\\n    Ey_at_particle = np.zeros(len(pos_y))\\n\\n    # LOOPING\\n    for p in range(nparticles):\\n        pos_x[p], pos_y[p] = periodic_particles(pos_x[p], pos_y[p], length)\\n\\n        # GRID POINT FINDER\\n        i = (int(pos_x[p] / dx)) # +1\\n        j = (int(pos_y[p] / dy)) # +1\\n\\n        # FRACTION FINDER\\n        x_frac = ((pos_x[p]) - (i * dx)) / dx  #+dx\\n        y_frac = ((pos_y[p]) - (j * dy)) / dy#+dy\\n\\n        # WEIGHT FINDER\\n        weight_ii  = (1 - x_frac) * (1 - y_frac)    # FOR X=0, Y=0\\n        weight_ji  = x_frac * (1 - y_frac)          # FOR X=1, Y=0\\n        weight_ij  = (1 - x_frac) * y_frac          # FOR X=0, Y=1\\n        weight_jj  = x_frac * y_frac                # FOR X=1, Y=1\\n\\n        Ex_at_particle[p] = weight_ii * E_x[i][j] + weight_ji * E_x[(i+1)][j] + weight_ij * E_x[i][(j+1)] + weight_jj * E_x[(i+1)][(j+1)]\\n        Ey_at_particle[p] = weight_ii * E_y[i][j] + weight_ji * E_y[(i + 1)][j] + weight_ij * E_y[i][(j + 1)] + weight_jj * E_y[(i + 1)][(j + 1)]\\n        force_x = particle_charge * Ex_at_particle[p]\\n        force_y = particle_charge * Ey_at_particle[p]\\n        acc_x = force_x / particle_mass\\n        acc_y = force_y / particle_mass\\n\\n    return Ex_at_particle, Ey_at_particle, force_x, force_y, acc_x, acc_y\\n'"
            ],
            "application/vnd.google.colaboratory.intrinsic+json": {
              "type": "string"
            }
          },
          "metadata": {},
          "execution_count": 25
        }
      ],
      "source": [
        "'''\n",
        "def interpolate_field (pos_x, pos_y, dx, dy, length, E_x, E_y):\n",
        "\n",
        "    Ex_at_particle = np.zeros(len(pos_x))\n",
        "    Ey_at_particle = np.zeros(len(pos_y))\n",
        "\n",
        "    # LOOPING\n",
        "    for p in range(nparticles):\n",
        "        pos_x[p], pos_y[p] = periodic_particles(pos_x[p], pos_y[p], length)\n",
        "\n",
        "        # GRID POINT FINDER\n",
        "        i = (int(pos_x[p] / dx)) # +1\n",
        "        j = (int(pos_y[p] / dy)) # +1\n",
        "\n",
        "        # FRACTION FINDER\n",
        "        x_frac = ((pos_x[p]) - (i * dx)) / dx  #+dx\n",
        "        y_frac = ((pos_y[p]) - (j * dy)) / dy#+dy\n",
        "\n",
        "        # WEIGHT FINDER\n",
        "        weight_ii  = (1 - x_frac) * (1 - y_frac)    # FOR X=0, Y=0\n",
        "        weight_ji  = x_frac * (1 - y_frac)          # FOR X=1, Y=0\n",
        "        weight_ij  = (1 - x_frac) * y_frac          # FOR X=0, Y=1\n",
        "        weight_jj  = x_frac * y_frac                # FOR X=1, Y=1\n",
        "\n",
        "        Ex_at_particle[p] = weight_ii * E_x[i][j] + weight_ji * E_x[(i+1)][j] + weight_ij * E_x[i][(j+1)] + weight_jj * E_x[(i+1)][(j+1)]\n",
        "        Ey_at_particle[p] = weight_ii * E_y[i][j] + weight_ji * E_y[(i + 1)][j] + weight_ij * E_y[i][(j + 1)] + weight_jj * E_y[(i + 1)][(j + 1)]\n",
        "        force_x = particle_charge * Ex_at_particle[p]\n",
        "        force_y = particle_charge * Ey_at_particle[p]\n",
        "        acc_x = force_x / particle_mass\n",
        "        acc_y = force_y / particle_mass\n",
        "\n",
        "    return Ex_at_particle, Ey_at_particle, force_x, force_y, acc_x, acc_y\n",
        "'''"
      ]
    },
    {
      "cell_type": "code",
      "source": [
        "'''def kinetic_energy(vel_x, vel_y, particle_mass):\n",
        "    vel_sq = vel_x**2 + vel_y**2\n",
        "    vel_resultant = np.sqrt(vel_sq)\n",
        "    ke_particle = 0.5 * particle_mass * vel_resultant\n",
        "\n",
        "    # Calculate total kinetic energy of the system\n",
        "    ke_system = np.sum(ke_particle)\n",
        "\n",
        "    return ke_particle, ke_system, vel_resultant'''"
      ],
      "metadata": {
        "id": "KXroRbP_smuH",
        "outputId": "7eac7266-e0ab-4c20-da69-5f4139606952",
        "colab": {
          "base_uri": "https://localhost:8080/",
          "height": 53
        }
      },
      "execution_count": 26,
      "outputs": [
        {
          "output_type": "execute_result",
          "data": {
            "text/plain": [
              "'def kinetic_energy(vel_x, vel_y, particle_mass):\\n    vel_sq = vel_x**2 + vel_y**2\\n    vel_resultant = np.sqrt(vel_sq)\\n    ke_particle = 0.5 * particle_mass * vel_resultant\\n\\n    # Calculate total kinetic energy of the system\\n    ke_system = np.sum(ke_particle)\\n\\n    return ke_particle, ke_system, vel_resultant'"
            ],
            "application/vnd.google.colaboratory.intrinsic+json": {
              "type": "string"
            }
          },
          "metadata": {},
          "execution_count": 26
        }
      ]
    },
    {
      "cell_type": "code",
      "execution_count": 27,
      "metadata": {
        "id": "yp4F1mlh_JA2"
      },
      "outputs": [],
      "source": [
        "nparticles =        8   # 100000\n",
        "ncell =             9   # 10000\n",
        "length =            10                                           # DO NOT CHANGE\n",
        "n_step =            2500\n",
        "t =                 0\n",
        "dt =                0.01\n",
        "particle_charge =   1\n",
        "particle_mass =     1\n",
        "iteration =         0"
      ]
    },
    {
      "cell_type": "code",
      "execution_count": 28,
      "metadata": {
        "id": "h0opa0eR_MmJ"
      },
      "outputs": [],
      "source": [
        "position_x = np.random.uniform(0, length, nparticles)\n",
        "position_y = np.random.uniform(0, length, nparticles)\n",
        "vel_x = np.random.uniform(-0.5, 0.5, nparticles)\n",
        "vel_y = np.random.uniform(-0.5, 0.5, nparticles)"
      ]
    },
    {
      "cell_type": "code",
      "execution_count": 29,
      "metadata": {
        "id": "sQenGZMd_YGA"
      },
      "outputs": [],
      "source": [
        "dx = length / abs(ncell ** 0.5 )\n",
        "dy = length / abs(ncell ** 0.5 )"
      ]
    },
    {
      "cell_type": "code",
      "execution_count": 30,
      "metadata": {
        "id": "_g2MxB8j_cL9"
      },
      "outputs": [],
      "source": [
        "#pos_x_list = []\n",
        "#vel_x_list = []\n",
        "#rho_total_list = []\n",
        "ke_system_list = []\n",
        "timesteps_list = []"
      ]
    },
    {
      "cell_type": "code",
      "execution_count": 31,
      "metadata": {
        "colab": {
          "base_uri": "https://localhost:8080/",
          "height": 972
        },
        "id": "BFapLynW_go1",
        "outputId": "cf78eac5-df5d-4794-da7e-b31a340d9853"
      },
      "outputs": [
        {
          "output_type": "stream",
          "name": "stdout",
          "text": [
            "RHO_ELECTRON \n",
            " [[0.         0.         0.         0.         0.         0.        ]\n",
            " [0.         0.         0.         0.01585194 0.01449475 0.        ]\n",
            " [0.         0.07235631 0.06637027 0.08796613 0.09791531 0.        ]\n",
            " [0.         0.01819758 0.02853528 0.09273571 0.10476296 0.        ]\n",
            " [0.         0.         0.0064005  0.10806807 0.0063452  0.        ]\n",
            " [0.         0.         0.         0.         0.         0.        ]]\n",
            "Total charge electron :  0.72\n",
            "RHO_Background \n",
            " [[-0.045 -0.045 -0.045 -0.045]\n",
            " [-0.045 -0.045 -0.045 -0.045]\n",
            " [-0.045 -0.045 -0.045 -0.045]\n",
            " [-0.045 -0.045 -0.045 -0.045]]\n",
            "RHO_Background frame \n",
            " [[ 0.     0.     0.     0.     0.     0.   ]\n",
            " [ 0.    -0.045 -0.045 -0.045 -0.045  0.   ]\n",
            " [ 0.    -0.045 -0.045 -0.045 -0.045  0.   ]\n",
            " [ 0.    -0.045 -0.045 -0.045 -0.045  0.   ]\n",
            " [ 0.    -0.045 -0.045 -0.045 -0.045  0.   ]\n",
            " [ 0.     0.     0.     0.     0.     0.   ]]\n",
            "Total background charge :  -0.7199999999999999\n",
            "RHO total \n",
            " [[ 0.          0.          0.          0.          0.          0.        ]\n",
            " [ 0.         -0.045      -0.045      -0.02914806 -0.03050525  0.        ]\n",
            " [ 0.          0.02735631  0.02137027  0.04296613  0.05291531  0.        ]\n",
            " [ 0.         -0.02680242 -0.01646472  0.04773571  0.05976296  0.        ]\n",
            " [ 0.         -0.045      -0.0385995   0.06306807 -0.0386548   0.        ]\n",
            " [ 0.          0.          0.          0.          0.          0.        ]]\n",
            "Total charge system :  8.326672684688674e-17\n",
            "RHO WITH GHOST \n",
            " [[-0.0386548  -0.045      -0.0385995   0.06306807 -0.0386548  -0.045     ]\n",
            " [-0.03050525 -0.045      -0.045      -0.02914806 -0.03050525 -0.045     ]\n",
            " [ 0.05291531  0.02735631  0.02137027  0.04296613  0.05291531  0.02735631]\n",
            " [ 0.05976296 -0.02680242 -0.01646472  0.04773571  0.05976296 -0.02680242]\n",
            " [-0.0386548  -0.045      -0.0385995   0.06306807 -0.0386548  -0.045     ]\n",
            " [-0.03050525 -0.045      -0.045      -0.02914806 -0.03050525 -0.045     ]]\n",
            "v_ELECTRON \n",
            " [[ 0.          0.          0.          0.          0.          0.        ]\n",
            " [ 0.         -0.15008978 -0.14417002 -0.04549263 -0.01990857  0.        ]\n",
            " [ 0.          0.04382668  0.11891903  0.30598701  0.30480977  0.        ]\n",
            " [ 0.         -0.09746481  0.03260168  0.36832132  0.34521612  0.        ]\n",
            " [ 0.         -0.16847137 -0.0764165   0.2590904   0.0437022   0.        ]\n",
            " [ 0.          0.          0.          0.          0.          0.        ]]\n",
            "1.1204605247201533\n",
            "v_ELECTRON \n",
            " [[ 0.0437022  -0.16847137 -0.0764165   0.2590904   0.0437022  -0.16847137]\n",
            " [-0.01990857 -0.15008978 -0.14417002 -0.04549263 -0.01990857 -0.15008978]\n",
            " [ 0.30480977  0.04382668  0.11891903  0.30598701  0.30480977  0.04382668]\n",
            " [ 0.34521612 -0.09746481  0.03260168  0.36832132  0.34521612 -0.09746481]\n",
            " [ 0.0437022  -0.16847137 -0.0764165   0.2590904   0.0437022  -0.16847137]\n",
            " [-0.01990857 -0.15008978 -0.14417002 -0.04549263 -0.01990857 -0.15008978]]\n"
          ]
        },
        {
          "output_type": "execute_result",
          "data": {
            "text/plain": [
              "'\\nE_x_at_grid, E_y_at_grid, k_sq, electric_potential_grid = poisson_solver(rho_total, dx, dy)\\nprint(\" EX AT GRID : \\n\",E_x_at_grid)\\nprint(np.sum(E_x_at_grid))\\nprint(\" EY AT GRID : \\n\",E_y_at_grid)\\nprint(np.sum(E_y_at_grid))\\nprint(\"K SQUARE : \\n\",k_sq)\\nprint(np.sum(k_sq))\\nprint(\" Electric potential at grid : \\n\",electric_potential_grid)\\nprint(np.sum(electric_potential_grid))\\n\\nEx_at_particle, Ey_at_particle, force_x, force_y, acc_x, acc_y = interpolate_field (position_x, position_y, dx, dy, length, E_x_at_grid, E_y_at_grid)\\nprint(\" EX AT PARTICLE : \\n\",Ex_at_particle)\\nprint(np.sum(Ex_at_particle))\\nprint(\" EY AT PARTICLE : \\n\",Ey_at_particle)\\nprint(np.sum(Ey_at_particle))\\n'"
            ],
            "application/vnd.google.colaboratory.intrinsic+json": {
              "type": "string"
            }
          },
          "metadata": {},
          "execution_count": 31
        }
      ],
      "source": [
        "' TESTS '\n",
        "\n",
        "rho_electron = charge_density(position_x, position_y, dx, dy, length)\n",
        "print(\"RHO_ELECTRON \\n\", rho_electron)\n",
        "print(\"Total charge electron : \", np.sum(rho_electron))\n",
        "#rho = ghost(rho_electron)\n",
        "#print('RHO GHOST\\n', rho)\n",
        "\n",
        "\n",
        "\n",
        "background_charge_density, background_charge_density_frame = calculate_background_charge_density(dx, dy, length, particle_charge, nparticles)\n",
        "print(\"RHO_Background \\n\", background_charge_density)\n",
        "print(\"RHO_Background frame \\n\", background_charge_density_frame)\n",
        "print(\"Total background charge : \", np.sum(background_charge_density))\n",
        "\n",
        "rho_total = background_charge_density_frame + rho_electron\n",
        "print(\"RHO total \\n\", rho_total)\n",
        "print(\"Total charge system : \", np.sum(rho_total))\n",
        "\n",
        "rho = ghost(rho_total)\n",
        "print(\"RHO WITH GHOST \\n\", rho_total)\n",
        "\n",
        "potential = calculate_potential(rho, dx, dy)\n",
        "print(\"v_ELECTRON \\n\", potential)\n",
        "print(np.sum(potential))\n",
        "\n",
        "potential_ghost = ghost(potential)\n",
        "print(\"v_ELECTRON \\n\", potential_ghost)\n",
        "\"\"\"\n",
        "E_x_at_grid, E_y_at_grid, k_sq, electric_potential_grid = poisson_solver(rho_total, dx, dy)\n",
        "print(\" EX AT GRID : \\n\",E_x_at_grid)\n",
        "print(np.sum(E_x_at_grid))\n",
        "print(\" EY AT GRID : \\n\",E_y_at_grid)\n",
        "print(np.sum(E_y_at_grid))\n",
        "print(\"K SQUARE : \\n\",k_sq)\n",
        "print(np.sum(k_sq))\n",
        "print(\" Electric potential at grid : \\n\",electric_potential_grid)\n",
        "print(np.sum(electric_potential_grid))\n",
        "\n",
        "Ex_at_particle, Ey_at_particle, force_x, force_y, acc_x, acc_y = interpolate_field (position_x, position_y, dx, dy, length, E_x_at_grid, E_y_at_grid)\n",
        "print(\" EX AT PARTICLE : \\n\",Ex_at_particle)\n",
        "print(np.sum(Ex_at_particle))\n",
        "print(\" EY AT PARTICLE : \\n\",Ey_at_particle)\n",
        "print(np.sum(Ey_at_particle))\n",
        "\"\"\""
      ]
    },
    {
      "cell_type": "code",
      "execution_count": 32,
      "metadata": {
        "colab": {
          "base_uri": "https://localhost:8080/",
          "height": 123
        },
        "id": "EpUIQ8hp_kBH",
        "outputId": "c6e7dc14-eddd-44b8-aeca-a7ebf4334513"
      },
      "outputs": [
        {
          "output_type": "execute_result",
          "data": {
            "text/plain": [
              "'\\nfor step in range(n_step):\\n    timesteps_list.append(iteration)\\n    #pos_x_list = position_x\\n    #print(\" POSITION X COORDINATES FOR EACH ITERATIONS \\n\", pos_x_list)\\n    #vel_x_list.append(vel_x)\\n\\n    ke_particle, ke_system, vel_resultant = kinetic_energy(vel_x, vel_y, particle_mass)\\n    ke_system_list.append(ke_system)\\n\\n\\n    rho_electron = charge_density(position_x, position_y, dx, dy, length)\\n    background_charge_density= calculate_background_charge_density(dx, dy, length, particle_charge, nparticles)   #, background_charge_density_frame\\n    rho_total = background_charge_density + rho_electron\\n    #rho = ghost(rho_total)\\n\\n    E_grid_x, E_grid_y, k_square, electric_potential_grid = poisson_solver(rho_total, dx, dy)\\n\\n    Ex_at_particle, Ey_at_particle, force_x, force_y, acceleration_x, acceleration_y = interpolate_field(position_x, position_y, dx, dy, length, E_grid_x, E_grid_y)\\n\\n    vx_half = vel_x + (0.5 * dt * acceleration_x)\\n    vy_half = vel_y + (0.5 * dt * acceleration_y)\\n\\n    position_x += vx_half * dt\\n    position_y += vy_half * dt\\n\\n    rho_electron = charge_density(position_x, position_y, dx, dy, length)\\n    background_charge_density = calculate_background_charge_density(dx, dy, length, particle_charge, nparticles)    #, background_charge_density_frame\\n    rho_total = background_charge_density + rho_electron\\n    #rho = ghost(rho_total)\\n\\n    E_grid_x, E_grid_y, k_square, electric_potential_grid = poisson_solver(rho_total, dx, dy)\\n\\n    Ex_at_particle, Ey_at_particle, force_x, force_y, acceleration_x, acceleration_y = interpolate_field(position_x, position_y, dx, dy, length, E_grid_x, E_grid_y)\\n\\n    vel_x = vx_half + 0.5 * dt * acceleration_x\\n    vel_y = vy_half + 0.5 * dt * acceleration_y\\n\\n    iteration += 1\\n    print(\"ITERATION : \", iteration)\\n\\n\\n\\n    # Plotting histogram\\n    #plt.hist(vel_resultant, bins=150, density=True, alpha=0.75)\\n    #plt.xlabel(\\'Velocity\\')\\n    #plt.ylabel(\\'Probability Density\\')\\n    #plt.title(\\'Probability Distribution of Particle Velocities\\')\\n    #plt.grid(True)\\n    #plt.xlim([0, 1])  # Replace min_velocity and max_velocity with your desired limits\\n    #plt.ylim([0, 20])\\n    #plt.show()\\n\\n    plt.imshow(E_grid_x, origin=\\'lower\\', cmap=\\'viridis\\')\\n    plt.colorbar(label=\\'Charge Density\\')\\n    plt.xlabel(\\'x\\')\\n    plt.ylabel(\\'y\\')\\n    plt.title(\\'Charge Density Heatmap\\')\\n    plt.show()\\n    \\n    t += dt\\n'"
            ],
            "application/vnd.google.colaboratory.intrinsic+json": {
              "type": "string"
            }
          },
          "metadata": {},
          "execution_count": 32
        }
      ],
      "source": [
        "'''\n",
        "for step in range(n_step):\n",
        "    timesteps_list.append(iteration)\n",
        "    #pos_x_list = position_x\n",
        "    #print(\" POSITION X COORDINATES FOR EACH ITERATIONS \\n\", pos_x_list)\n",
        "    #vel_x_list.append(vel_x)\n",
        "\n",
        "    ke_particle, ke_system, vel_resultant = kinetic_energy(vel_x, vel_y, particle_mass)\n",
        "    ke_system_list.append(ke_system)\n",
        "\n",
        "\n",
        "    rho_electron = charge_density(position_x, position_y, dx, dy, length)\n",
        "    background_charge_density= calculate_background_charge_density(dx, dy, length, particle_charge, nparticles)   #, background_charge_density_frame\n",
        "    rho_total = background_charge_density + rho_electron\n",
        "    #rho = ghost(rho_total)\n",
        "\n",
        "    E_grid_x, E_grid_y, k_square, electric_potential_grid = poisson_solver(rho_total, dx, dy)\n",
        "\n",
        "    Ex_at_particle, Ey_at_particle, force_x, force_y, acceleration_x, acceleration_y = interpolate_field(position_x, position_y, dx, dy, length, E_grid_x, E_grid_y)\n",
        "\n",
        "    vx_half = vel_x + (0.5 * dt * acceleration_x)\n",
        "    vy_half = vel_y + (0.5 * dt * acceleration_y)\n",
        "\n",
        "    position_x += vx_half * dt\n",
        "    position_y += vy_half * dt\n",
        "\n",
        "    rho_electron = charge_density(position_x, position_y, dx, dy, length)\n",
        "    background_charge_density = calculate_background_charge_density(dx, dy, length, particle_charge, nparticles)    #, background_charge_density_frame\n",
        "    rho_total = background_charge_density + rho_electron\n",
        "    #rho = ghost(rho_total)\n",
        "\n",
        "    E_grid_x, E_grid_y, k_square, electric_potential_grid = poisson_solver(rho_total, dx, dy)\n",
        "\n",
        "    Ex_at_particle, Ey_at_particle, force_x, force_y, acceleration_x, acceleration_y = interpolate_field(position_x, position_y, dx, dy, length, E_grid_x, E_grid_y)\n",
        "\n",
        "    vel_x = vx_half + 0.5 * dt * acceleration_x\n",
        "    vel_y = vy_half + 0.5 * dt * acceleration_y\n",
        "\n",
        "    iteration += 1\n",
        "    print(\"ITERATION : \", iteration)\n",
        "\n",
        "\n",
        "\n",
        "    # Plotting histogram\n",
        "    #plt.hist(vel_resultant, bins=150, density=True, alpha=0.75)\n",
        "    #plt.xlabel('Velocity')\n",
        "    #plt.ylabel('Probability Density')\n",
        "    #plt.title('Probability Distribution of Particle Velocities')\n",
        "    #plt.grid(True)\n",
        "    #plt.xlim([0, 1])  # Replace min_velocity and max_velocity with your desired limits\n",
        "    #plt.ylim([0, 20])\n",
        "    #plt.show()\n",
        "\n",
        "    plt.imshow(E_grid_x, origin='lower', cmap='viridis')\n",
        "    plt.colorbar(label='Charge Density')\n",
        "    plt.xlabel('x')\n",
        "    plt.ylabel('y')\n",
        "    plt.title('Charge Density Heatmap')\n",
        "    plt.show()\n",
        "\n",
        "    t += dt\n",
        "'''"
      ]
    },
    {
      "cell_type": "code",
      "execution_count": 33,
      "metadata": {
        "id": "qKcAA_vM_tHp",
        "outputId": "2ffb4cbd-a8e8-4dcf-b12a-e7760fb33e41",
        "colab": {
          "base_uri": "https://localhost:8080/",
          "height": 36
        }
      },
      "outputs": [
        {
          "output_type": "execute_result",
          "data": {
            "text/plain": [
              "'\\n#print(\"END POSITION X COORDINATES : \\n \",pos_x_list)\\nprint(\"Length of timesteps_list:\", len(timesteps_list))\\nprint(\"Length of ke_system_list:\", len(ke_system_list))\\n'"
            ],
            "application/vnd.google.colaboratory.intrinsic+json": {
              "type": "string"
            }
          },
          "metadata": {},
          "execution_count": 33
        }
      ],
      "source": [
        "'''\n",
        "#print(\"END POSITION X COORDINATES : \\n \",pos_x_list)\n",
        "print(\"Length of timesteps_list:\", len(timesteps_list))\n",
        "print(\"Length of ke_system_list:\", len(ke_system_list))\n",
        "'''"
      ]
    },
    {
      "cell_type": "code",
      "execution_count": 34,
      "metadata": {
        "id": "gPKQnU-v_xbZ",
        "colab": {
          "base_uri": "https://localhost:8080/",
          "height": 88
        },
        "outputId": "ba32da2a-f142-40d2-f2f4-5458a869ddb8"
      },
      "outputs": [
        {
          "output_type": "execute_result",
          "data": {
            "text/plain": [
              "\"\\nplt.imshow(rho_electron, extent=(0, length, 0, length), origin='lower', cmap='viridis')\\nplt.colorbar(label='Charge Density')\\nplt.xlabel('x')\\nplt.ylabel('y')\\nplt.title('Charge Density Heatmap')\\nplt.show()\\n\\nplt.imshow(background_charge_density, extent=(0, length, 0, length), origin='lower', cmap='viridis')\\nplt.colorbar(label='Charge Density')\\nplt.xlabel('x')\\nplt.ylabel('y')\\nplt.title('Charge Density Heatmap')\\nplt.show()\\n\\nplt.imshow(rho_total, extent=(0, length, 0, length), origin='lower', cmap='viridis')\\nplt.colorbar(label='Charge Density')\\nplt.xlabel('x')\\nplt.ylabel('y')\\nplt.title('Charge Density Heatmap')\\nplt.show()\\n\""
            ],
            "application/vnd.google.colaboratory.intrinsic+json": {
              "type": "string"
            }
          },
          "metadata": {},
          "execution_count": 34
        }
      ],
      "source": [
        "'''\n",
        "plt.plot(timesteps_list, ke_system_list, linestyle='-')\n",
        "plt.title('Kinetic Energy vs Timestep')\n",
        "plt.xlabel('Timestep')\n",
        "plt.ylabel('Kinetic Energy')\n",
        "#plt.grid(True)\n",
        "plt.show()\n",
        "\n",
        "\n",
        "\n",
        "\n",
        "plt.imshow(rho, extent=(0, length, 0, length), origin='lower', cmap='viridis')\n",
        "plt.colorbar(label='Charge Density')\n",
        "plt.xlabel('x')\n",
        "plt.ylabel('y')\n",
        "plt.title('Charge Density Heatmap')\n",
        "plt.show()\n",
        "\n",
        "\n",
        "plt.imshow(electric_potential_grid, extent=(0, length, 0, length), origin='lower', cmap='viridis')\n",
        "plt.colorbar(label='ELECTRIC POTENTIAL')\n",
        "plt.xlabel('x')\n",
        "plt.ylabel('y')\n",
        "plt.title('ELECTRIC POTENTIAL HEAT MAP')\n",
        "plt.show()\n",
        "\n",
        "plt.imshow(k_square, extent=(0, length, 0, length), origin='lower', cmap='viridis')\n",
        "plt.colorbar(label='K SQUARE')\n",
        "plt.xlabel('x')\n",
        "plt.ylabel('y')\n",
        "plt.title('K SQUARE HEAT MAP')\n",
        "plt.show()\n",
        "'''\n",
        "\n",
        "\n",
        "'''\n",
        "plt.imshow(rho_electron, extent=(0, length, 0, length), origin='lower', cmap='viridis')\n",
        "plt.colorbar(label='Charge Density')\n",
        "plt.xlabel('x')\n",
        "plt.ylabel('y')\n",
        "plt.title('Charge Density Heatmap')\n",
        "plt.show()\n",
        "\n",
        "plt.imshow(background_charge_density, extent=(0, length, 0, length), origin='lower', cmap='viridis')\n",
        "plt.colorbar(label='Charge Density')\n",
        "plt.xlabel('x')\n",
        "plt.ylabel('y')\n",
        "plt.title('Charge Density Heatmap')\n",
        "plt.show()\n",
        "\n",
        "plt.imshow(rho_total, extent=(0, length, 0, length), origin='lower', cmap='viridis')\n",
        "plt.colorbar(label='Charge Density')\n",
        "plt.xlabel('x')\n",
        "plt.ylabel('y')\n",
        "plt.title('Charge Density Heatmap')\n",
        "plt.show()\n",
        "'''"
      ]
    }
  ],
  "metadata": {
    "colab": {
      "provenance": [],
      "authorship_tag": "ABX9TyOxcJarvQhKV31wsUgQaURu",
      "include_colab_link": true
    },
    "kernelspec": {
      "display_name": "Python 3",
      "name": "python3"
    },
    "language_info": {
      "name": "python"
    }
  },
  "nbformat": 4,
  "nbformat_minor": 0
}