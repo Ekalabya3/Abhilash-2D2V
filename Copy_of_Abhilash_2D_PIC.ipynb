{
  "cells": [
    {
      "cell_type": "markdown",
      "metadata": {
        "id": "view-in-github",
        "colab_type": "text"
      },
      "source": [
        "<a href=\"https://colab.research.google.com/github/Ekalabya3/Abhilash-2D2V/blob/main/Copy_of_Abhilash_2D_PIC.ipynb\" target=\"_parent\"><img src=\"https://colab.research.google.com/assets/colab-badge.svg\" alt=\"Open In Colab\"/></a>"
      ]
    },
    {
      "cell_type": "code",
      "execution_count": 106,
      "metadata": {
        "id": "XWmuh4zk-hVr"
      },
      "outputs": [],
      "source": [
        "import numpy as np\n",
        "from scipy.fft import fftfreq, fft2, ifft2\n",
        "import matplotlib.pyplot as plt"
      ]
    },
    {
      "cell_type": "code",
      "execution_count": 107,
      "metadata": {
        "id": "V_3KrgUA-wMQ"
      },
      "outputs": [],
      "source": [
        "#'''\n",
        "def periodic_particles(x, y, length):\n",
        "\n",
        "    rem_x = x % length;\n",
        "    if x > length:\n",
        "      x = rem_x;\n",
        "    elif x < 0:\n",
        "      x = length - rem_x;\n",
        "\n",
        "    rem_y = y % length\n",
        "    if y > length:\n",
        "      y = rem_y;\n",
        "    elif y < 0:\n",
        "      y = length - rem_y ;\n",
        "\n",
        "    return x, y\n",
        "#'''"
      ]
    },
    {
      "cell_type": "code",
      "source": [
        "'''\n",
        "def ghost(rho):\n",
        "    Nx, Ny = rho.shape\n",
        "    for i in range(Nx):\n",
        "        rho[i, 0] = rho[i, Ny - 2]\n",
        "        rho[i, Ny - 1] = rho[i, 1]\n",
        "\n",
        "    for j in range(Ny):\n",
        "        rho[0, j] = rho[Nx - 2, j]\n",
        "        rho[Nx - 1, j] = rho[1, j]\n",
        "    return rho\n",
        "'''"
      ],
      "metadata": {
        "id": "pcnP1CldDavw",
        "colab": {
          "base_uri": "https://localhost:8080/",
          "height": 53
        },
        "outputId": "5d19f173-f6cc-492d-ad57-0086a503fd92"
      },
      "execution_count": 108,
      "outputs": [
        {
          "output_type": "execute_result",
          "data": {
            "text/plain": [
              "'\\ndef ghost(rho):\\n    Nx, Ny = rho.shape\\n    for i in range(Nx):\\n        rho[i, 0] = rho[i, Ny - 2]\\n        rho[i, Ny - 1] = rho[i, 1]\\n\\n    for j in range(Ny):\\n        rho[0, j] = rho[Nx - 2, j]\\n        rho[Nx - 1, j] = rho[1, j]\\n    return rho\\n'"
            ],
            "application/vnd.google.colaboratory.intrinsic+json": {
              "type": "string"
            }
          },
          "metadata": {},
          "execution_count": 108
        }
      ]
    },
    {
      "cell_type": "code",
      "execution_count": 109,
      "metadata": {
        "id": "MWfvh_oQ-zvb"
      },
      "outputs": [],
      "source": [
        "#'''\n",
        "def charge_density(pos_x, pos_y, dx, dy, length):    #DONE\n",
        "\n",
        "    charge = np.zeros((int(ncell ** 0.5)+1  , int(ncell ** 0.5)+1 ))    # + 2\n",
        "\n",
        "    # LOOPING\n",
        "    for p in range(nparticles):\n",
        "\n",
        "\n",
        "        pos_x[p], pos_y[p] = periodic_particles(pos_x[p], pos_y[p], length)\n",
        "\n",
        "        # GRID POINT FINDER\n",
        "        i = int(pos_x[p] / dx)\n",
        "        j = int(pos_y[p] / dy)\n",
        "\n",
        "        # FRACTION FINDER\n",
        "        x_frac = ((pos_x[p]) - (i * dx)) / dx   #+dx\n",
        "        y_frac = ((pos_y[p])  - (j * dy)) / dy   #+dy\n",
        "        # WEIGHT FINDER\n",
        "        weight_ii  = (1 - x_frac) * (1 - y_frac)    # FOR X=0, Y=0\n",
        "        weight_ji  = x_frac * (1 - y_frac)          # FOR X=1, Y=0\n",
        "        weight_ij  = (1 - x_frac) * y_frac          # FOR X=0, Y=1\n",
        "        weight_jj  = x_frac * y_frac                # FOR X=1, Y=1\n",
        "\n",
        "        charge[i][j]     =   charge[i][j]     + (particle_charge * weight_ii)           #/ (dx*dy)\n",
        "        charge[(i+1)][j]   =   charge[(i+1)][j]   + (particle_charge * weight_ji)       #/ (dx*dy)\n",
        "        charge[i][(j+1)]   =   charge[i][(j+1)]   + (particle_charge * weight_ij)       #/ (dx*dy)\n",
        "        charge[(i+1)][(j+1)] =   charge[(i+1)][(j+1)] + (particle_charge * weight_jj)   #/ (dx*dy)\n",
        "\n",
        "\n",
        "        #transpose_charge_density = np.transpose(charge_density_without_ghost)\n",
        "        #rho_1 = (np.flip(transpose_charge_density, 0)) / (dx*dy)\n",
        "\n",
        "\n",
        "\n",
        "    return  charge\n",
        "#'''"
      ]
    },
    {
      "cell_type": "code",
      "source": [
        "\n"
      ],
      "metadata": {
        "id": "Z94niVzQy88p"
      },
      "execution_count": 109,
      "outputs": []
    },
    {
      "cell_type": "code",
      "execution_count": 110,
      "metadata": {
        "id": "gmcTO138-6B9"
      },
      "outputs": [],
      "source": [
        "#'''\n",
        "def calculate_background_charge_density(dx, dy, length, particle_charge, nparticles):  #DONE\n",
        "\n",
        "    # FIRST: TOTAL CHARGE CALCULATION\n",
        "    total_particle_charge = particle_charge * nparticles\n",
        "\n",
        "    # SECOND: TOTAL NUMBER OF GRID POINTS\n",
        "    num_x_grid_points = int(ncell ** 0.5) + 1\n",
        "    num_y_grid_points = int(ncell ** 0.5) + 1\n",
        "    total_grid_points = num_x_grid_points * num_y_grid_points\n",
        "\n",
        "    # THIRD: CHARGE DENSITY BY BACKGROUND PARTICLES (IONS)\n",
        "    background_charge_density = (np.ones((num_x_grid_points, num_y_grid_points)) * (-total_particle_charge)/ (length*length*total_grid_points))\n",
        "\n",
        "    #background_charge_density_frame = np.zeros((num_x_grid_points + 2, num_y_grid_points + 2))\n",
        "    #background_charge_density_frame [1:-1, 1:-1] = background_charge_density\n",
        "\n",
        "    return background_charge_density#, background_charge_density_frame\n",
        "#'''"
      ]
    },
    {
      "cell_type": "code",
      "execution_count": 111,
      "metadata": {
        "id": "pHcqHRKW-9f_"
      },
      "outputs": [],
      "source": [
        "#'''\n",
        "def poisson_solver(rho, dx, dy):\n",
        "    # Calculate Wavenumbers\n",
        "    k_x = fftfreq(rho.shape[1], dx)\n",
        "    k_y = fftfreq(rho.shape[0], dy)\n",
        "\n",
        "    # Compute Fourier transform of charge density\n",
        "    rho_hat = fft2(rho)\n",
        "\n",
        "    # Compute potential in Fourier space\n",
        "    kx_grid, ky_grid = np.meshgrid(k_x, k_y, indexing='ij')\n",
        "    kx_grid_sq = kx_grid ** 2\n",
        "    ky_grid_sq = ky_grid ** 2\n",
        "    k_sq = kx_grid_sq + ky_grid_sq\n",
        "\n",
        "    # Avoid division by zero at zero frequency\n",
        "    k_sq[0, 0] = 1.0\n",
        "    potential_hat = rho_hat / (4 * np.pi ** 2 * k_sq)\n",
        "\n",
        "    # Compute electric field components in Fourier space\n",
        "    E_x_hat = -1j * 2 * np.pi * kx_grid * potential_hat\n",
        "    E_y_hat = -1j * 2 * np.pi * ky_grid * potential_hat\n",
        "\n",
        "    # Compute inverse Fourier transform to get electric field in real space\n",
        "    E_x = np.real(ifft2(E_x_hat))\n",
        "    E_y = np.real(ifft2(E_y_hat))\n",
        "    electric_potential = np.real(ifft2(potential_hat))\n",
        "\n",
        "    return E_x, E_y, k_sq, electric_potential\n",
        "#'''"
      ]
    },
    {
      "cell_type": "code",
      "execution_count": 112,
      "metadata": {
        "id": "2QZrAlCT_EO1"
      },
      "outputs": [],
      "source": [
        "#'''\n",
        "def interpolate_field (pos_x, pos_y, dx, dy, length, E_x, E_y):\n",
        "\n",
        "    Ex_at_particle = np.zeros(len(pos_x))\n",
        "    Ey_at_particle = np.zeros(len(pos_y))\n",
        "\n",
        "    # LOOPING\n",
        "    for p in range(nparticles):\n",
        "        pos_x[p], pos_y[p] = periodic_particles(pos_x[p], pos_y[p], length)\n",
        "\n",
        "        # GRID POINT FINDER\n",
        "        i = (int(pos_x[p] / dx)) # +1\n",
        "        j = (int(pos_y[p] / dy)) # +1\n",
        "\n",
        "        # FRACTION FINDER\n",
        "        x_frac = ((pos_x[p]) - (i * dx)) / dx  #+dx\n",
        "        y_frac = ((pos_y[p]) - (j * dy)) / dy#+dy\n",
        "\n",
        "        # WEIGHT FINDER\n",
        "        weight_ii  = (1 - x_frac) * (1 - y_frac)    # FOR X=0, Y=0\n",
        "        weight_ji  = x_frac * (1 - y_frac)          # FOR X=1, Y=0\n",
        "        weight_ij  = (1 - x_frac) * y_frac          # FOR X=0, Y=1\n",
        "        weight_jj  = x_frac * y_frac                # FOR X=1, Y=1\n",
        "\n",
        "        Ex_at_particle[p] = weight_ii * E_x[i][j] + weight_ji * E_x[(i+1)][j] + weight_ij * E_x[i][(j+1)] + weight_jj * E_x[(i+1)][(j+1)]\n",
        "        Ey_at_particle[p] = weight_ii * E_y[i][j] + weight_ji * E_y[(i + 1)][j] + weight_ij * E_y[i][(j + 1)] + weight_jj * E_y[(i + 1)][(j + 1)]\n",
        "        force_x = particle_charge * Ex_at_particle[p]\n",
        "        force_y = particle_charge * Ey_at_particle[p]\n",
        "        acc_x = force_x / particle_mass\n",
        "        acc_y = force_y / particle_mass\n",
        "\n",
        "    return Ex_at_particle, Ey_at_particle, force_x, force_y, acc_x, acc_y\n",
        "#'''"
      ]
    },
    {
      "cell_type": "code",
      "source": [
        "def kinetic_energy(vel_x, vel_y, particle_mass):\n",
        "    vel_sq = vel_x**2 + vel_y**2\n",
        "    vel_resultant = np.sqrt(vel_sq)\n",
        "    ke_particle = 0.5 * particle_mass * vel_resultant\n",
        "\n",
        "    # Calculate total kinetic energy of the system\n",
        "    ke_system = np.sum(ke_particle)\n",
        "\n",
        "    return ke_particle, ke_system, vel_resultant"
      ],
      "metadata": {
        "id": "KXroRbP_smuH"
      },
      "execution_count": 113,
      "outputs": []
    },
    {
      "cell_type": "code",
      "execution_count": 114,
      "metadata": {
        "id": "yp4F1mlh_JA2"
      },
      "outputs": [],
      "source": [
        "#'''\n",
        "nparticles =        100   # 100000\n",
        "ncell =             900   # 10000\n",
        "length =            10                                           # DO NOT CHANGE\n",
        "n_step =            500\n",
        "t =                 0\n",
        "dt =                0.01\n",
        "particle_charge =   1\n",
        "particle_mass =     1\n",
        "iteration =         0\n",
        "#'''"
      ]
    },
    {
      "cell_type": "code",
      "execution_count": 115,
      "metadata": {
        "id": "h0opa0eR_MmJ",
        "colab": {
          "base_uri": "https://localhost:8080/",
          "height": 140
        },
        "outputId": "4b9935a2-58cf-4e1c-b8b6-dc5abd9cbf68"
      },
      "outputs": [
        {
          "output_type": "stream",
          "name": "stdout",
          "text": [
            "[-1.  1.  1.  1. -1. -1.  1.  1. -1.  1. -1.  1.  1. -1. -1. -1. -1.  1.\n",
            " -1. -1.  1. -1. -1.  1.  1. -1. -1.  1.  1.  1. -1.  1. -1.  1.  1.  1.\n",
            "  1. -1. -1.  1.  1.  1.  1.  1. -1.  1. -1.  1.  1. -1. -1. -1. -1. -1.\n",
            "  1.  1. -1. -1. -1.  1. -1. -1.  1.  1.  1.  1.  1.  1. -1. -1. -1. -1.\n",
            " -1. -1.  1.  1.  1.  1.  1. -1.  1. -1. -1. -1.  1.  1. -1. -1. -1. -1.\n",
            " -1.  1.  1.  1.  1. -1. -1. -1.  1. -1.]\n"
          ]
        },
        {
          "output_type": "execute_result",
          "data": {
            "text/plain": [
              "'\\nfor i in range(0, 30):\\n  for j in range(0, 30):\\n    p=i+j*31;\\n    position_x[p] = i*dx+0.5*dx;\\n    position_y[p] = j*dy+0.5*dy;\\n\\ncharge(nparticle):\\ncharge\\n'"
            ],
            "application/vnd.google.colaboratory.intrinsic+json": {
              "type": "string"
            }
          },
          "metadata": {},
          "execution_count": 115
        }
      ],
      "source": [
        "#'''\n",
        "position_x = np.random.uniform(0, length, nparticles)\n",
        "position_y = np.random.uniform(0, length, nparticles)\n",
        "vel_x = np.random.uniform(-0.0, 0.0, nparticles)\n",
        "vel_y = np.random.uniform(-0.0, 0.0, nparticles)\n",
        "\n",
        "charges = np.ones(nparticles)\n",
        "negative_indices = np.random.choice(nparticles, nparticles // 2, replace=False)\n",
        "charges[negative_indices] = -1\n",
        "#charges = np.random.choice([-1, 1], nparticles)\n",
        "print (charges)\n",
        "dx = length / abs(ncell ** 0.5 )\n",
        "dy = length / abs(ncell ** 0.5 )\n",
        "\n",
        "'''\n",
        "for i in range(0, 30):\n",
        "  for j in range(0, 30):\n",
        "    p=i+j*31;\n",
        "    position_x[p] = i*dx+0.5*dx;\n",
        "    position_y[p] = j*dy+0.5*dy;\n",
        "\n",
        "charge(nparticle):\n",
        "charge\n",
        "'''"
      ]
    },
    {
      "cell_type": "code",
      "source": [
        "'''\n",
        "charge = charge_density(position_x, position_y, dx, dy, length)\n",
        "#charge = charge_density(position_x, position_y, dx, dy, length)\n",
        "for i  in range (0,len(charge)):\n",
        "    charge[i][0] = charge[i][0] + charge[i][-1]\n",
        "    charge[i][-1] = charge[i][0]\n",
        "\n",
        "for j  in range (0,len(charge)):\n",
        "    charge[0][j] = charge[0][j] + charge[-1][j]\n",
        "    charge[-1][j] = charge[0][j]\n",
        "print (charge)\n",
        "charge_density =  charge / dx*dy\n",
        "plt.imshow(charge_density, origin='lower', cmap='viridis')\n",
        "plt.colorbar(label='Charge Density ELECTRON')\n",
        "plt.xlabel('x')\n",
        "plt.ylabel('y')\n",
        "plt.title('Charge Density Heatmap')\n",
        "plt.show()\n",
        "'''"
      ],
      "metadata": {
        "id": "W0EE5Qyrw9G2",
        "outputId": "b03bae6e-ffa7-4c5f-f86d-3ac232e27834",
        "colab": {
          "base_uri": "https://localhost:8080/",
          "height": 88
        }
      },
      "execution_count": 116,
      "outputs": [
        {
          "output_type": "execute_result",
          "data": {
            "text/plain": [
              "\"\\ncharge = charge_density(position_x, position_y, dx, dy, length)\\n#charge = charge_density(position_x, position_y, dx, dy, length)\\nfor i  in range (0,len(charge)):\\n    charge[i][0] = charge[i][0] + charge[i][-1]\\n    charge[i][-1] = charge[i][0]\\n\\nfor j  in range (0,len(charge)):\\n    charge[0][j] = charge[0][j] + charge[-1][j]\\n    charge[-1][j] = charge[0][j]\\nprint (charge)\\ncharge_density =  charge / dx*dy\\nplt.imshow(charge_density, origin='lower', cmap='viridis')\\nplt.colorbar(label='Charge Density ELECTRON')\\nplt.xlabel('x')\\nplt.ylabel('y')\\nplt.title('Charge Density Heatmap')\\nplt.show()\\n\""
            ],
            "application/vnd.google.colaboratory.intrinsic+json": {
              "type": "string"
            }
          },
          "metadata": {},
          "execution_count": 116
        }
      ]
    },
    {
      "cell_type": "code",
      "execution_count": 117,
      "metadata": {
        "id": "_g2MxB8j_cL9"
      },
      "outputs": [],
      "source": [
        "#'''\n",
        "#pos_x_list = []\n",
        "#vel_x_list = []\n",
        "#rho_total_list = []\n",
        "ke_system_list = []\n",
        "timesteps_list = []\n",
        "#'''"
      ]
    },
    {
      "cell_type": "code",
      "source": [
        "'''\n",
        "# Grid parameters\n",
        "#dx = 0.1\n",
        "#dy = 0.1\n",
        "nx = int(ncell ** 0.5)+1\n",
        "ny = int(ncell ** 0.5)+1\n",
        "# Example charge density distribution\n",
        "rho_electron = charge_density(position_x, position_y, dx, dy, length)\n",
        "# Solve the Poisson equation using sparse matrix method\n",
        "solution_sparse = solve_poisson_sparse(rho_electron, dx, dy)\n",
        "\n",
        "# Plot charge density and potential\n",
        "plt.figure(figsize=(12, 5))\n",
        "plt.subplot(1, 2, 1)\n",
        "plt.imshow(rho_electron, origin='lower', extent=[0, nx*dx, 0, ny*dy], cmap='viridis')\n",
        "plt.colorbar(label='Charge Density')\n",
        "plt.xlabel('x')\n",
        "plt.ylabel('y')\n",
        "plt.title('Charge Density Distribution')\n",
        "\n",
        "plt.subplot(1, 2, 2)\n",
        "plt.imshow(solution_sparse, origin='lower', extent=[0, nx*dx, 0, ny*dy], cmap='viridis')\n",
        "plt.colorbar(label='Potential')\n",
        "plt.xlabel('x')\n",
        "plt.ylabel('y')\n",
        "plt.title('Potential Distribution (Sparse)')\n",
        "\n",
        "plt.tight_layout()\n",
        "plt.show()\n",
        "'''"
      ],
      "metadata": {
        "colab": {
          "base_uri": "https://localhost:8080/",
          "height": 105
        },
        "id": "82u6q1jzwtjg",
        "outputId": "eaa14a54-1d7b-4b23-fb0f-32c5befc6187"
      },
      "execution_count": 118,
      "outputs": [
        {
          "output_type": "execute_result",
          "data": {
            "text/plain": [
              "\"\\n# Grid parameters\\n#dx = 0.1\\n#dy = 0.1\\nnx = int(ncell ** 0.5)+1\\nny = int(ncell ** 0.5)+1\\n# Example charge density distribution\\nrho_electron = charge_density(position_x, position_y, dx, dy, length)\\n# Solve the Poisson equation using sparse matrix method\\nsolution_sparse = solve_poisson_sparse(rho_electron, dx, dy)\\n\\n# Plot charge density and potential\\nplt.figure(figsize=(12, 5))\\nplt.subplot(1, 2, 1)\\nplt.imshow(rho_electron, origin='lower', extent=[0, nx*dx, 0, ny*dy], cmap='viridis')\\nplt.colorbar(label='Charge Density')\\nplt.xlabel('x')\\nplt.ylabel('y')\\nplt.title('Charge Density Distribution')\\n\\nplt.subplot(1, 2, 2)\\nplt.imshow(solution_sparse, origin='lower', extent=[0, nx*dx, 0, ny*dy], cmap='viridis')\\nplt.colorbar(label='Potential')\\nplt.xlabel('x')\\nplt.ylabel('y')\\nplt.title('Potential Distribution (Sparse)')\\n\\nplt.tight_layout()\\nplt.show()\\n\""
            ],
            "application/vnd.google.colaboratory.intrinsic+json": {
              "type": "string"
            }
          },
          "metadata": {},
          "execution_count": 118
        }
      ]
    },
    {
      "cell_type": "code",
      "execution_count": 119,
      "metadata": {
        "colab": {
          "base_uri": "https://localhost:8080/",
          "height": 123
        },
        "id": "BFapLynW_go1",
        "outputId": "d5593739-a4f4-4e0f-ad0e-0c430ff5ece2"
      },
      "outputs": [
        {
          "output_type": "execute_result",
          "data": {
            "text/plain": [
              "'\\nrho_electron = charge_density(position_x, position_y, dx, dy, length)\\nprint(\"RHO_ELECTRON \\n\", rho_electron)\\nprint(\"Total charge electron : \", np.sum(rho_electron))\\n#rho = ghost(rho_electron)\\n#print(\\'RHO GHOST\\n\\', rho)\\nplt.imshow(rho_electron, origin=\\'lower\\', cmap=\\'viridis\\')\\nplt.colorbar(label=\\'Charge Density ELECTRON\\')\\nplt.xlabel(\\'x\\')\\nplt.ylabel(\\'y\\')\\nplt.title(\\'Charge Density Heatmap\\')\\nplt.show()\\n\\n\\nbackground_charge_density, background_charge_density_frame = calculate_background_charge_density(dx, dy, length, particle_charge, nparticles)\\nprint(\"RHO_Background \\n\", background_charge_density)\\nplt.imshow(background_charge_density, origin=\\'lower\\', cmap=\\'viridis\\')\\nplt.colorbar(label=\\'Charge Density Background\\')\\nplt.xlabel(\\'x\\')\\nplt.ylabel(\\'y\\')\\nplt.title(\\'Charge Density Heatmap\\')\\nplt.show()\\n\\n\\nprint(\"RHO_Background frame \\n\", background_charge_density_frame)\\nprint(\"Total background charge : \", np.sum(background_charge_density))\\nplt.imshow(background_charge_density_frame, origin=\\'lower\\', cmap=\\'viridis\\')\\nplt.colorbar(label=\\'Charge Density Background frame\\')\\nplt.xlabel(\\'x\\')\\nplt.ylabel(\\'y\\')\\nplt.title(\\'Charge Density Heatmap\\')\\nplt.show()\\n\\n\\nrho_total = background_charge_density_frame + rho_electron\\nprint(\"RHO total \\n\", rho_total)\\nprint(\"Total charge system : \", np.sum(rho_total))\\nplt.imshow(rho_total, origin=\\'lower\\', cmap=\\'viridis\\')\\nplt.colorbar(label=\\'Charge Density total frame\\')\\nplt.xlabel(\\'x\\')\\nplt.ylabel(\\'y\\')\\nplt.title(\\'Charge Density Heatmap\\')\\nplt.show()\\n\\n\\n\\n\\nrho = ghost(rho_total)\\nprint(\"RHO WITH GHOST \\n\", rho_total)\\nplt.imshow(rho, origin=\\'lower\\', cmap=\\'viridis\\')\\nplt.colorbar(label=\\'Charge Density total ghost\\')\\nplt.xlabel(\\'x\\')\\nplt.ylabel(\\'y\\')\\nplt.title(\\'Charge Density Heatmap\\')\\nplt.show()\\n\\n\\n\\n\\npotential = calculate_potential(rho, dx, dy)\\nprint(\"v_ELECTRON \\n\", potential)\\nprint(np.sum(potential))\\nplt.imshow(potential, origin=\\'lower\\', cmap=\\'viridis\\')\\nplt.colorbar(label=\\'potential frame\\')\\nplt.xlabel(\\'x\\')\\nplt.ylabel(\\'y\\')\\nplt.title(\\'Potential Heatmap\\')\\nplt.show()\\n\\n\\n\\npotential_ghost = ghost(potential)\\nprint(\"v_ELECTRON \\n\", potential_ghost)\\nplt.imshow(potential_ghost, origin=\\'lower\\', cmap=\\'viridis\\')\\nplt.colorbar(label=\\'potential ghost\\')\\nplt.xlabel(\\'x\\')\\nplt.ylabel(\\'y\\')\\nplt.title(\\'Potential Heatmap\\')\\nplt.show()\\n\\nE_field_x, E_field_y = calculate_electric_field(potential_ghost, dx, dy)\\nprint(\"E_AT_GRID:\", E_field_x)\\nplt.imshow(E_field_x, origin=\\'lower\\', cmap=\\'viridis\\')\\nplt.colorbar(label=\\'Electric field at grids frame\\')\\nplt.xlabel(\\'x\\')\\nplt.ylabel(\\'y\\')\\nplt.title(\\'E field Heatmap\\')\\nplt.show()\\n\\n\\n\\n\"\"\"\\nE_x_at_grid, E_y_at_grid, k_sq, electric_potential_grid = poisson_solver(rho_total, dx, dy)\\nprint(\" EX AT GRID : \\n\",E_x_at_grid)\\nprint(np.sum(E_x_at_grid))\\nprint(\" EY AT GRID : \\n\",E_y_at_grid)\\nprint(np.sum(E_y_at_grid))\\nprint(\"K SQUARE : \\n\",k_sq)\\nprint(np.sum(k_sq))\\nprint(\" Electric potential at grid : \\n\",electric_potential_grid)\\nprint(np.sum(electric_potential_grid))\\n\\nEx_at_particle, Ey_at_particle, force_x, force_y, acc_x, acc_y = interpolate_field (position_x, position_y, dx, dy, length, E_x_at_grid, E_y_at_grid)\\nprint(\" EX AT PARTICLE : \\n\",Ex_at_particle)\\nprint(np.sum(Ex_at_particle))\\nprint(\" EY AT PARTICLE : \\n\",Ey_at_particle)\\nprint(np.sum(Ey_at_particle))\\n\\n\"\"\"\\n'"
            ],
            "application/vnd.google.colaboratory.intrinsic+json": {
              "type": "string"
            }
          },
          "metadata": {},
          "execution_count": 119
        }
      ],
      "source": [
        "' TESTS '\n",
        "'''\n",
        "rho_electron = charge_density(position_x, position_y, dx, dy, length)\n",
        "print(\"RHO_ELECTRON \\n\", rho_electron)\n",
        "print(\"Total charge electron : \", np.sum(rho_electron))\n",
        "#rho = ghost(rho_electron)\n",
        "#print('RHO GHOST\\n', rho)\n",
        "plt.imshow(rho_electron, origin='lower', cmap='viridis')\n",
        "plt.colorbar(label='Charge Density ELECTRON')\n",
        "plt.xlabel('x')\n",
        "plt.ylabel('y')\n",
        "plt.title('Charge Density Heatmap')\n",
        "plt.show()\n",
        "\n",
        "\n",
        "background_charge_density, background_charge_density_frame = calculate_background_charge_density(dx, dy, length, particle_charge, nparticles)\n",
        "print(\"RHO_Background \\n\", background_charge_density)\n",
        "plt.imshow(background_charge_density, origin='lower', cmap='viridis')\n",
        "plt.colorbar(label='Charge Density Background')\n",
        "plt.xlabel('x')\n",
        "plt.ylabel('y')\n",
        "plt.title('Charge Density Heatmap')\n",
        "plt.show()\n",
        "\n",
        "\n",
        "print(\"RHO_Background frame \\n\", background_charge_density_frame)\n",
        "print(\"Total background charge : \", np.sum(background_charge_density))\n",
        "plt.imshow(background_charge_density_frame, origin='lower', cmap='viridis')\n",
        "plt.colorbar(label='Charge Density Background frame')\n",
        "plt.xlabel('x')\n",
        "plt.ylabel('y')\n",
        "plt.title('Charge Density Heatmap')\n",
        "plt.show()\n",
        "\n",
        "\n",
        "rho_total = background_charge_density_frame + rho_electron\n",
        "print(\"RHO total \\n\", rho_total)\n",
        "print(\"Total charge system : \", np.sum(rho_total))\n",
        "plt.imshow(rho_total, origin='lower', cmap='viridis')\n",
        "plt.colorbar(label='Charge Density total frame')\n",
        "plt.xlabel('x')\n",
        "plt.ylabel('y')\n",
        "plt.title('Charge Density Heatmap')\n",
        "plt.show()\n",
        "\n",
        "\n",
        "\n",
        "\n",
        "rho = ghost(rho_total)\n",
        "print(\"RHO WITH GHOST \\n\", rho_total)\n",
        "plt.imshow(rho, origin='lower', cmap='viridis')\n",
        "plt.colorbar(label='Charge Density total ghost')\n",
        "plt.xlabel('x')\n",
        "plt.ylabel('y')\n",
        "plt.title('Charge Density Heatmap')\n",
        "plt.show()\n",
        "\n",
        "\n",
        "\n",
        "\n",
        "potential = calculate_potential(rho, dx, dy)\n",
        "print(\"v_ELECTRON \\n\", potential)\n",
        "print(np.sum(potential))\n",
        "plt.imshow(potential, origin='lower', cmap='viridis')\n",
        "plt.colorbar(label='potential frame')\n",
        "plt.xlabel('x')\n",
        "plt.ylabel('y')\n",
        "plt.title('Potential Heatmap')\n",
        "plt.show()\n",
        "\n",
        "\n",
        "\n",
        "potential_ghost = ghost(potential)\n",
        "print(\"v_ELECTRON \\n\", potential_ghost)\n",
        "plt.imshow(potential_ghost, origin='lower', cmap='viridis')\n",
        "plt.colorbar(label='potential ghost')\n",
        "plt.xlabel('x')\n",
        "plt.ylabel('y')\n",
        "plt.title('Potential Heatmap')\n",
        "plt.show()\n",
        "\n",
        "E_field_x, E_field_y = calculate_electric_field(potential_ghost, dx, dy)\n",
        "print(\"E_AT_GRID:\", E_field_x)\n",
        "plt.imshow(E_field_x, origin='lower', cmap='viridis')\n",
        "plt.colorbar(label='Electric field at grids frame')\n",
        "plt.xlabel('x')\n",
        "plt.ylabel('y')\n",
        "plt.title('E field Heatmap')\n",
        "plt.show()\n",
        "\n",
        "\n",
        "\n",
        "\"\"\"\n",
        "E_x_at_grid, E_y_at_grid, k_sq, electric_potential_grid = poisson_solver(rho_total, dx, dy)\n",
        "print(\" EX AT GRID : \\n\",E_x_at_grid)\n",
        "print(np.sum(E_x_at_grid))\n",
        "print(\" EY AT GRID : \\n\",E_y_at_grid)\n",
        "print(np.sum(E_y_at_grid))\n",
        "print(\"K SQUARE : \\n\",k_sq)\n",
        "print(np.sum(k_sq))\n",
        "print(\" Electric potential at grid : \\n\",electric_potential_grid)\n",
        "print(np.sum(electric_potential_grid))\n",
        "\n",
        "Ex_at_particle, Ey_at_particle, force_x, force_y, acc_x, acc_y = interpolate_field (position_x, position_y, dx, dy, length, E_x_at_grid, E_y_at_grid)\n",
        "print(\" EX AT PARTICLE : \\n\",Ex_at_particle)\n",
        "print(np.sum(Ex_at_particle))\n",
        "print(\" EY AT PARTICLE : \\n\",Ey_at_particle)\n",
        "print(np.sum(Ey_at_particle))\n",
        "\n",
        "\"\"\"\n",
        "'''"
      ]
    },
    {
      "cell_type": "code",
      "execution_count": 120,
      "metadata": {
        "colab": {
          "base_uri": "https://localhost:8080/",
          "height": 123
        },
        "id": "EpUIQ8hp_kBH",
        "outputId": "57e73660-af9b-4350-cbd0-93d73851953d"
      },
      "outputs": [
        {
          "output_type": "execute_result",
          "data": {
            "text/plain": [
              "'\\nfor step in range(n_step):\\n    timesteps_list.append(iteration)\\n    #pos_x_list = position_x\\n    #print(\" POSITION X COORDINATES FOR EACH ITERATIONS \\n\", pos_x_list)\\n    #vel_x_list.append(vel_x)\\n\\n    ke_particle, ke_system, vel_resultant = kinetic_energy(vel_x, vel_y, particle_mass)\\n    ke_system_list.append(ke_system)\\n\\n\\n    rho = charge_density(position_x, position_y, dx, dy, length)\\n    #charge = charge_density(position_x, position_y, dx, dy, length)\\n    for i  in range (0,len(rho)):\\n        rho[i][0] = rho[i][0] + rho[i][-1]\\n        rho[i][-1] = rho[i][0]\\n\\n    for j  in range (0,len(rho)):\\n        rho[0][j] = rho[0][j] + rho[-1][j]\\n        rho[-1][j] = rho[0][j]\\n\\n    charge_density_rho =  rho / dx*dy\\n\\n    background_charge_density= calculate_background_charge_density(dx, dy, length, particle_charge, nparticles)   #, background_charge_density_frame\\n    rho_total = 0*background_charge_density + charge_density_rho\\n    #rho = ghost(rho_total)\\n\\n    E_grid_x, E_grid_y, k_square, electric_potential_grid = poisson_solver(rho_total, dx, dy)\\n\\n    Ex_at_particle, Ey_at_particle, force_x, force_y, acceleration_x, acceleration_y = interpolate_field(position_x, position_y, dx, dy, length, E_grid_x, E_grid_y)\\n\\n    vx_half = vel_x + (0.5 * dt * acceleration_x)\\n    vy_half = vel_y + (0.5 * dt * acceleration_y)\\n\\n    position_x += vx_half * dt\\n    position_y += vy_half * dt\\n\\n    rho = charge_density(position_x, position_y, dx, dy, length)\\n    #charge = charge_density(position_x, position_y, dx, dy, length)\\n    for i  in range (0,len(rho)):\\n        rho[i][0] = rho[i][0] + rho[i][-1]\\n        rho[i][-1] = rho[i][0]\\n\\n    for j  in range (0,len(rho)):\\n        rho[0][j] = rho[0][j] + rho[-1][j]\\n        rho[-1][j] = rho[0][j]\\n\\n    charge_density_rho =  rho / dx*dy\\n\\n    background_charge_density = calculate_background_charge_density(dx, dy, length, particle_charge, nparticles)    #, background_charge_density_frame\\n    rho_total = 0*background_charge_density + charge_density_rho\\n    #rho = ghost(rho_total)\\n\\n    E_grid_x, E_grid_y, k_square, electric_potential_grid = poisson_solver(rho_total, dx, dy)\\n\\n    Ex_at_particle, Ey_at_particle, force_x, force_y, acceleration_x, acceleration_y = interpolate_field(position_x, position_y, dx, dy, length, E_grid_x, E_grid_y)\\n\\n    vel_x = vx_half + 0.5 * dt * acceleration_x\\n    vel_y = vy_half + 0.5 * dt * acceleration_y\\n\\n    iteration += 1\\n    print(\"ITERATION : \", iteration)\\n\\n\\n\\n    # Plotting histogram\\n    #plt.hist(vel_resultant, bins=150, density=True, alpha=0.75)\\n    #plt.xlabel(\\'Velocity\\')\\n    #plt.ylabel(\\'Probability Density\\')\\n    #plt.title(\\'Probability Distribution of Particle Velocities\\')\\n    #plt.grid(True)\\n    #plt.xlim([0, 1])  # Replace min_velocity and max_velocity with your desired limits\\n    #plt.ylim([0, 20])\\n    #plt.show()\\n\\n    plt.imshow(rho_total, origin=\\'lower\\', cmap=\\'viridis\\')\\n    plt.colorbar(label=\\'Charge Density\\')\\n    plt.xlabel(\\'x\\')\\n    plt.ylabel(\\'y\\')\\n    plt.title(\\'Charge Density Heatmap\\')\\n    plt.show()\\n\\n    t += dt\\n'"
            ],
            "application/vnd.google.colaboratory.intrinsic+json": {
              "type": "string"
            }
          },
          "metadata": {},
          "execution_count": 120
        }
      ],
      "source": [
        "'''\n",
        "for step in range(n_step):\n",
        "    timesteps_list.append(iteration)\n",
        "    #pos_x_list = position_x\n",
        "    #print(\" POSITION X COORDINATES FOR EACH ITERATIONS \\n\", pos_x_list)\n",
        "    #vel_x_list.append(vel_x)\n",
        "\n",
        "    ke_particle, ke_system, vel_resultant = kinetic_energy(vel_x, vel_y, particle_mass)\n",
        "    ke_system_list.append(ke_system)\n",
        "\n",
        "\n",
        "    rho = charge_density(position_x, position_y, dx, dy, length)\n",
        "    #charge = charge_density(position_x, position_y, dx, dy, length)\n",
        "    for i  in range (0,len(rho)):\n",
        "        rho[i][0] = rho[i][0] + rho[i][-1]\n",
        "        rho[i][-1] = rho[i][0]\n",
        "\n",
        "    for j  in range (0,len(rho)):\n",
        "        rho[0][j] = rho[0][j] + rho[-1][j]\n",
        "        rho[-1][j] = rho[0][j]\n",
        "\n",
        "    charge_density_rho =  rho / dx*dy\n",
        "\n",
        "    background_charge_density= calculate_background_charge_density(dx, dy, length, particle_charge, nparticles)   #, background_charge_density_frame\n",
        "    rho_total = 0*background_charge_density + charge_density_rho\n",
        "    #rho = ghost(rho_total)\n",
        "\n",
        "    E_grid_x, E_grid_y, k_square, electric_potential_grid = poisson_solver(rho_total, dx, dy)\n",
        "\n",
        "    Ex_at_particle, Ey_at_particle, force_x, force_y, acceleration_x, acceleration_y = interpolate_field(position_x, position_y, dx, dy, length, E_grid_x, E_grid_y)\n",
        "\n",
        "    vx_half = vel_x + (0.5 * dt * acceleration_x)\n",
        "    vy_half = vel_y + (0.5 * dt * acceleration_y)\n",
        "\n",
        "    position_x += vx_half * dt\n",
        "    position_y += vy_half * dt\n",
        "\n",
        "    rho = charge_density(position_x, position_y, dx, dy, length)\n",
        "    #charge = charge_density(position_x, position_y, dx, dy, length)\n",
        "    for i  in range (0,len(rho)):\n",
        "        rho[i][0] = rho[i][0] + rho[i][-1]\n",
        "        rho[i][-1] = rho[i][0]\n",
        "\n",
        "    for j  in range (0,len(rho)):\n",
        "        rho[0][j] = rho[0][j] + rho[-1][j]\n",
        "        rho[-1][j] = rho[0][j]\n",
        "\n",
        "    charge_density_rho =  rho / dx*dy\n",
        "\n",
        "    background_charge_density = calculate_background_charge_density(dx, dy, length, particle_charge, nparticles)    #, background_charge_density_frame\n",
        "    rho_total = 0*background_charge_density + charge_density_rho\n",
        "    #rho = ghost(rho_total)\n",
        "\n",
        "    E_grid_x, E_grid_y, k_square, electric_potential_grid = poisson_solver(rho_total, dx, dy)\n",
        "\n",
        "    Ex_at_particle, Ey_at_particle, force_x, force_y, acceleration_x, acceleration_y = interpolate_field(position_x, position_y, dx, dy, length, E_grid_x, E_grid_y)\n",
        "\n",
        "    vel_x = vx_half + 0.5 * dt * acceleration_x\n",
        "    vel_y = vy_half + 0.5 * dt * acceleration_y\n",
        "\n",
        "    iteration += 1\n",
        "    print(\"ITERATION : \", iteration)\n",
        "\n",
        "\n",
        "\n",
        "    # Plotting histogram\n",
        "    #plt.hist(vel_resultant, bins=150, density=True, alpha=0.75)\n",
        "    #plt.xlabel('Velocity')\n",
        "    #plt.ylabel('Probability Density')\n",
        "    #plt.title('Probability Distribution of Particle Velocities')\n",
        "    #plt.grid(True)\n",
        "    #plt.xlim([0, 1])  # Replace min_velocity and max_velocity with your desired limits\n",
        "    #plt.ylim([0, 20])\n",
        "    #plt.show()\n",
        "\n",
        "    plt.imshow(rho_total, origin='lower', cmap='viridis')\n",
        "    plt.colorbar(label='Charge Density')\n",
        "    plt.xlabel('x')\n",
        "    plt.ylabel('y')\n",
        "    plt.title('Charge Density Heatmap')\n",
        "    plt.show()\n",
        "\n",
        "    t += dt\n",
        "'''"
      ]
    },
    {
      "cell_type": "code",
      "execution_count": 121,
      "metadata": {
        "id": "qKcAA_vM_tHp",
        "colab": {
          "base_uri": "https://localhost:8080/",
          "height": 36
        },
        "outputId": "71aa4b52-90ef-439b-a744-85a4304805d4"
      },
      "outputs": [
        {
          "output_type": "execute_result",
          "data": {
            "text/plain": [
              "'\\n#print(\"END POSITION X COORDINATES : \\n \",pos_x_list)\\nprint(\"Length of timesteps_list:\", len(timesteps_list))\\nprint(\"Length of ke_system_list:\", len(ke_system_list))\\n'"
            ],
            "application/vnd.google.colaboratory.intrinsic+json": {
              "type": "string"
            }
          },
          "metadata": {},
          "execution_count": 121
        }
      ],
      "source": [
        "'''\n",
        "#print(\"END POSITION X COORDINATES : \\n \",pos_x_list)\n",
        "print(\"Length of timesteps_list:\", len(timesteps_list))\n",
        "print(\"Length of ke_system_list:\", len(ke_system_list))\n",
        "'''"
      ]
    },
    {
      "cell_type": "code",
      "execution_count": 122,
      "metadata": {
        "id": "gPKQnU-v_xbZ",
        "colab": {
          "base_uri": "https://localhost:8080/",
          "height": 88
        },
        "outputId": "e45cd98b-4d0f-40eb-b080-d1281cb4fbcd"
      },
      "outputs": [
        {
          "output_type": "execute_result",
          "data": {
            "text/plain": [
              "\"\\nplt.imshow(rho_electron, extent=(0, length, 0, length), origin='lower', cmap='viridis')\\nplt.colorbar(label='Charge Density')\\nplt.xlabel('x')\\nplt.ylabel('y')\\nplt.title('Charge Density Heatmap')\\nplt.show()\\n\\nplt.imshow(background_charge_density, extent=(0, length, 0, length), origin='lower', cmap='viridis')\\nplt.colorbar(label='Charge Density')\\nplt.xlabel('x')\\nplt.ylabel('y')\\nplt.title('Charge Density Heatmap')\\nplt.show()\\n\\nplt.imshow(rho_total, extent=(0, length, 0, length), origin='lower', cmap='viridis')\\nplt.colorbar(label='Charge Density')\\nplt.xlabel('x')\\nplt.ylabel('y')\\nplt.title('Charge Density Heatmap')\\nplt.show()\\n\""
            ],
            "application/vnd.google.colaboratory.intrinsic+json": {
              "type": "string"
            }
          },
          "metadata": {},
          "execution_count": 122
        }
      ],
      "source": [
        "'''\n",
        "plt.plot(timesteps_list, ke_system_list, linestyle='-')\n",
        "plt.title('Kinetic Energy vs Timestep')\n",
        "plt.xlabel('Timestep')\n",
        "plt.ylabel('Kinetic Energy')\n",
        "#plt.grid(True)\n",
        "plt.show()\n",
        "\n",
        "\n",
        "\n",
        "\n",
        "plt.imshow(rho, extent=(0, length, 0, length), origin='lower', cmap='viridis')\n",
        "plt.colorbar(label='Charge Density')\n",
        "plt.xlabel('x')\n",
        "plt.ylabel('y')\n",
        "plt.title('Charge Density Heatmap')\n",
        "plt.show()\n",
        "\n",
        "\n",
        "plt.imshow(electric_potential_grid, extent=(0, length, 0, length), origin='lower', cmap='viridis')\n",
        "plt.colorbar(label='ELECTRIC POTENTIAL')\n",
        "plt.xlabel('x')\n",
        "plt.ylabel('y')\n",
        "plt.title('ELECTRIC POTENTIAL HEAT MAP')\n",
        "plt.show()\n",
        "\n",
        "plt.imshow(k_square, extent=(0, length, 0, length), origin='lower', cmap='viridis')\n",
        "plt.colorbar(label='K SQUARE')\n",
        "plt.xlabel('x')\n",
        "plt.ylabel('y')\n",
        "plt.title('K SQUARE HEAT MAP')\n",
        "plt.show()\n",
        "'''\n",
        "\n",
        "\n",
        "'''\n",
        "plt.imshow(rho_electron, extent=(0, length, 0, length), origin='lower', cmap='viridis')\n",
        "plt.colorbar(label='Charge Density')\n",
        "plt.xlabel('x')\n",
        "plt.ylabel('y')\n",
        "plt.title('Charge Density Heatmap')\n",
        "plt.show()\n",
        "\n",
        "plt.imshow(background_charge_density, extent=(0, length, 0, length), origin='lower', cmap='viridis')\n",
        "plt.colorbar(label='Charge Density')\n",
        "plt.xlabel('x')\n",
        "plt.ylabel('y')\n",
        "plt.title('Charge Density Heatmap')\n",
        "plt.show()\n",
        "\n",
        "plt.imshow(rho_total, extent=(0, length, 0, length), origin='lower', cmap='viridis')\n",
        "plt.colorbar(label='Charge Density')\n",
        "plt.xlabel('x')\n",
        "plt.ylabel('y')\n",
        "plt.title('Charge Density Heatmap')\n",
        "plt.show()\n",
        "'''"
      ]
    }
  ],
  "metadata": {
    "colab": {
      "provenance": [],
      "authorship_tag": "ABX9TyOvB8szJQyhsQdg8cqIm+SO",
      "include_colab_link": true
    },
    "kernelspec": {
      "display_name": "Python 3",
      "name": "python3"
    },
    "language_info": {
      "name": "python"
    }
  },
  "nbformat": 4,
  "nbformat_minor": 0
}