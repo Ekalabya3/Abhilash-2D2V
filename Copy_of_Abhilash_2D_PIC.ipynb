{
  "cells": [
    {
      "cell_type": "markdown",
      "metadata": {
        "id": "view-in-github",
        "colab_type": "text"
      },
      "source": [
        "<a href=\"https://colab.research.google.com/github/Ekalabya3/Abhilash-2D2V/blob/main/Copy_of_Abhilash_2D_PIC.ipynb\" target=\"_parent\"><img src=\"https://colab.research.google.com/assets/colab-badge.svg\" alt=\"Open In Colab\"/></a>"
      ]
    },
    {
      "cell_type": "code",
      "execution_count": 211,
      "metadata": {
        "id": "XWmuh4zk-hVr"
      },
      "outputs": [],
      "source": [
        "import numpy as np\n",
        "from scipy.fft import fftfreq, fft2, ifft2\n",
        "import matplotlib.pyplot as plt"
      ]
    },
    {
      "cell_type": "code",
      "execution_count": 212,
      "metadata": {
        "id": "V_3KrgUA-wMQ"
      },
      "outputs": [],
      "source": [
        "#'''\n",
        "def periodic_particles(x, y, length):\n",
        "\n",
        "    rem_x = x % length;\n",
        "    if x > length:\n",
        "      x = rem_x;\n",
        "    elif x < 0:\n",
        "      x = length - rem_x;\n",
        "\n",
        "    rem_y = y % length\n",
        "    if y > length:\n",
        "      y = rem_y;\n",
        "    elif y < 0:\n",
        "      y = length - rem_y ;\n",
        "\n",
        "    return x, y\n",
        "#'''"
      ]
    },
    {
      "cell_type": "code",
      "source": [
        "'''\n",
        "def ghost(rho):\n",
        "    Nx, Ny = rho.shape\n",
        "    for i in range(Nx):\n",
        "        rho[i, 0] = rho[i, Ny - 2]\n",
        "        rho[i, Ny - 1] = rho[i, 1]\n",
        "\n",
        "    for j in range(Ny):\n",
        "        rho[0, j] = rho[Nx - 2, j]\n",
        "        rho[Nx - 1, j] = rho[1, j]\n",
        "    return rho\n",
        "'''"
      ],
      "metadata": {
        "id": "pcnP1CldDavw",
        "outputId": "64f0c128-0f52-428a-8852-dae45a008941",
        "colab": {
          "base_uri": "https://localhost:8080/",
          "height": 53
        }
      },
      "execution_count": 213,
      "outputs": [
        {
          "output_type": "execute_result",
          "data": {
            "text/plain": [
              "'\\ndef ghost(rho):\\n    Nx, Ny = rho.shape\\n    for i in range(Nx):\\n        rho[i, 0] = rho[i, Ny - 2]\\n        rho[i, Ny - 1] = rho[i, 1]\\n\\n    for j in range(Ny):\\n        rho[0, j] = rho[Nx - 2, j]\\n        rho[Nx - 1, j] = rho[1, j]\\n    return rho\\n'"
            ],
            "application/vnd.google.colaboratory.intrinsic+json": {
              "type": "string"
            }
          },
          "metadata": {},
          "execution_count": 213
        }
      ]
    },
    {
      "cell_type": "code",
      "execution_count": 214,
      "metadata": {
        "id": "MWfvh_oQ-zvb"
      },
      "outputs": [],
      "source": [
        "#'''\n",
        "def charge_density(pos_x, pos_y, dx, dy, length):    #DONE\n",
        "\n",
        "    charge_density = np.zeros((int(ncell ** 0.5)+1 +2  , int(ncell ** 0.5)+1 +2 ))    # + 2                             #+ 2*nghost\n",
        "\n",
        "    # LOOPING\n",
        "    for p in range(nparticles):\n",
        "        pos_x[p], pos_y[p] = periodic_particles(pos_x[p], pos_y[p], length)\n",
        "\n",
        "        # GRID POINT FINDER\n",
        "        i = int(pos_x[p] / dx)   +1\n",
        "        j = int(pos_y[p] / dy)   +1\n",
        "\n",
        "        # FRACTION FINDER\n",
        "        x_frac = ((pos_x[p]+dx) - (i * dx)) / dx   #+dx\n",
        "        y_frac = ((pos_y[p]+dy)  - (j * dy)) / dy   #+dy\n",
        "        # WEIGHT FINDER\n",
        "        weight_ii  = (1 - x_frac) * (1 - y_frac)    # FOR X=0, Y=0\n",
        "        weight_ji  = x_frac * (1 - y_frac)          # FOR X=1, Y=0\n",
        "        weight_ij  = (1 - x_frac) * y_frac          # FOR X=0, Y=1\n",
        "        weight_jj  = x_frac * y_frac                # FOR X=1, Y=1\n",
        "\n",
        "        charge_density[i][j]     =   charge_density[i][j]     + (particle_charge * weight_ii)           #/ (dx*dy)\n",
        "        charge_density[(i+1)][j]   =   charge_density[(i+1)][j]   + (particle_charge * weight_ji)       #/ (dx*dy)\n",
        "        charge_density[i][(j+1)]   =   charge_density[i][(j+1)]   + (particle_charge * weight_ij)       #/ (dx*dy)\n",
        "        charge_density[(i+1)][(j+1)] =   charge_density[(i+1)][(j+1)] + (particle_charge * weight_jj)   #/ (dx*dy)\n",
        "\n",
        "\n",
        "        #transpose_charge_density = np.transpose(charge_density_without_ghost)\n",
        "        #rho_1 = (np.flip(transpose_charge_density, 0)) / (dx*dy)\n",
        "\n",
        "        rho_1 = charge_density / (dx * dy)\n",
        "\n",
        "    return  rho_1\n",
        "#'''"
      ]
    },
    {
      "cell_type": "code",
      "execution_count": 215,
      "metadata": {
        "id": "gmcTO138-6B9",
        "outputId": "0dc911de-2c22-414e-f1ed-8469229e78f0",
        "colab": {
          "base_uri": "https://localhost:8080/",
          "height": 105
        }
      },
      "outputs": [
        {
          "output_type": "execute_result",
          "data": {
            "text/plain": [
              "'\\ndef calculate_background_charge_density(dx, dy, length, particle_charge, nparticles):  #DONE\\n\\n    # FIRST: TOTAL CHARGE CALCULATION\\n    total_particle_charge = particle_charge * nparticles\\n\\n    # SECOND: TOTAL NUMBER OF GRID POINTS\\n    num_x_grid_points = int(ncell ** 0.5) + 1\\n    num_y_grid_points = int(ncell ** 0.5) + 1\\n    total_grid_points = num_x_grid_points * num_y_grid_points\\n\\n    # THIRD: CHARGE DENSITY BY BACKGROUND PARTICLES (IONS)\\n    background_charge_density = (np.ones((num_x_grid_points, num_y_grid_points)) * (-total_particle_charge / total_grid_points)) / (dx * dy)  #(length*length)\\n\\n    background_charge_density_frame = np.zeros((num_x_grid_points + 2, num_y_grid_points + 2))\\n    background_charge_density_frame [1:-1, 1:-1] = background_charge_density\\n\\n    return background_charge_density, background_charge_density_frame\\n'"
            ],
            "application/vnd.google.colaboratory.intrinsic+json": {
              "type": "string"
            }
          },
          "metadata": {},
          "execution_count": 215
        }
      ],
      "source": [
        "'''\n",
        "def calculate_background_charge_density(dx, dy, length, particle_charge, nparticles):  #DONE\n",
        "\n",
        "    # FIRST: TOTAL CHARGE CALCULATION\n",
        "    total_particle_charge = particle_charge * nparticles\n",
        "\n",
        "    # SECOND: TOTAL NUMBER OF GRID POINTS\n",
        "    num_x_grid_points = int(ncell ** 0.5) + 1\n",
        "    num_y_grid_points = int(ncell ** 0.5) + 1\n",
        "    total_grid_points = num_x_grid_points * num_y_grid_points\n",
        "\n",
        "    # THIRD: CHARGE DENSITY BY BACKGROUND PARTICLES (IONS)\n",
        "    background_charge_density = (np.ones((num_x_grid_points, num_y_grid_points)) * (-total_particle_charge / total_grid_points)) / (dx * dy)  #(length*length)\n",
        "\n",
        "    background_charge_density_frame = np.zeros((num_x_grid_points + 2, num_y_grid_points + 2))\n",
        "    background_charge_density_frame [1:-1, 1:-1] = background_charge_density\n",
        "\n",
        "    return background_charge_density, background_charge_density_frame\n",
        "'''"
      ]
    },
    {
      "cell_type": "code",
      "execution_count": 216,
      "metadata": {
        "id": "pHcqHRKW-9f_",
        "outputId": "27b8a0e6-6b8c-4dcb-b806-9429ffc02dc3",
        "colab": {
          "base_uri": "https://localhost:8080/",
          "height": 122
        }
      },
      "outputs": [
        {
          "output_type": "execute_result",
          "data": {
            "text/plain": [
              "\"\\ndef poisson_solver(rho, dx, dy):\\n    # Calculate Wavenumbers\\n    k_x = fftfreq(rho.shape[1], dx)\\n    k_y = fftfreq(rho.shape[0], dy)\\n\\n    # Compute Fourier transform of charge density\\n    rho_hat = fft2(rho)\\n\\n    # Compute potential in Fourier space\\n    kx_grid, ky_grid = np.meshgrid(k_x, k_y, indexing='ij')\\n    kx_grid_sq = kx_grid ** 2\\n    ky_grid_sq = ky_grid ** 2\\n    k_sq = kx_grid_sq + ky_grid_sq\\n\\n    # Avoid division by zero at zero frequency\\n    k_sq[0, 0] = 1.0\\n    potential_hat = rho_hat / (4 * np.pi ** 2 * k_sq)\\n\\n    # Compute electric field components in Fourier space\\n    E_x_hat = -1j * 2 * np.pi * kx_grid * potential_hat\\n    E_y_hat = -1j * 2 * np.pi * ky_grid * potential_hat\\n\\n    # Compute inverse Fourier transform to get electric field in real space\\n    E_x = np.real(ifft2(E_x_hat))\\n    E_y = np.real(ifft2(E_y_hat))\\n    electric_potential = np.real(ifft2(potential_hat))\\n\\n    return E_x, E_y, k_sq, electric_potential\\n\""
            ],
            "application/vnd.google.colaboratory.intrinsic+json": {
              "type": "string"
            }
          },
          "metadata": {},
          "execution_count": 216
        }
      ],
      "source": [
        "'''\n",
        "def poisson_solver(rho, dx, dy):\n",
        "    # Calculate Wavenumbers\n",
        "    k_x = fftfreq(rho.shape[1], dx)\n",
        "    k_y = fftfreq(rho.shape[0], dy)\n",
        "\n",
        "    # Compute Fourier transform of charge density\n",
        "    rho_hat = fft2(rho)\n",
        "\n",
        "    # Compute potential in Fourier space\n",
        "    kx_grid, ky_grid = np.meshgrid(k_x, k_y, indexing='ij')\n",
        "    kx_grid_sq = kx_grid ** 2\n",
        "    ky_grid_sq = ky_grid ** 2\n",
        "    k_sq = kx_grid_sq + ky_grid_sq\n",
        "\n",
        "    # Avoid division by zero at zero frequency\n",
        "    k_sq[0, 0] = 1.0\n",
        "    potential_hat = rho_hat / (4 * np.pi ** 2 * k_sq)\n",
        "\n",
        "    # Compute electric field components in Fourier space\n",
        "    E_x_hat = -1j * 2 * np.pi * kx_grid * potential_hat\n",
        "    E_y_hat = -1j * 2 * np.pi * ky_grid * potential_hat\n",
        "\n",
        "    # Compute inverse Fourier transform to get electric field in real space\n",
        "    E_x = np.real(ifft2(E_x_hat))\n",
        "    E_y = np.real(ifft2(E_y_hat))\n",
        "    electric_potential = np.real(ifft2(potential_hat))\n",
        "\n",
        "    return E_x, E_y, k_sq, electric_potential\n",
        "'''"
      ]
    },
    {
      "cell_type": "code",
      "source": [
        "'''\n",
        "def calculate_potential(charge_density, dx, dy, max_iterations=1000, tolerance=1e-5):\n",
        "    # Get dimensions of charge density array\n",
        "    nx, ny = charge_density.shape\n",
        "\n",
        "    # Initialize potential array\n",
        "    potential = np.zeros((nx, ny))\n",
        "\n",
        "    # Calculate the squared grid spacing\n",
        "    hsq = dx * dy\n",
        "\n",
        "    # Main loop for relaxation\n",
        "    for _ in range(max_iterations):\n",
        "        # Copy the potential for comparison later\n",
        "        old_potential = potential.copy()\n",
        "\n",
        "        # Iterate over all points in the grid except boundaries\n",
        "        for i in range(1, nx - 1):\n",
        "            for j in range(1, ny - 1):\n",
        "                # Update potential using finite difference method\n",
        "                potential[i, j] = 0.25 * (potential[i+1, j] + potential[i-1, j] + potential[i, j+1] + potential[i, j-1] + hsq * charge_density[i, j])\n",
        "\n",
        "        # Check for convergence\n",
        "        if np.allclose(potential, old_potential, atol=tolerance):\n",
        "            break\n",
        "\n",
        "    return potential\n",
        "'''"
      ],
      "metadata": {
        "id": "egco6aWXAy6W",
        "outputId": "7329d6f2-4414-4720-df7c-40ae8d576506",
        "colab": {
          "base_uri": "https://localhost:8080/",
          "height": 122
        }
      },
      "execution_count": 217,
      "outputs": [
        {
          "output_type": "execute_result",
          "data": {
            "text/plain": [
              "'\\ndef calculate_potential(charge_density, dx, dy, max_iterations=1000, tolerance=1e-5):\\n    # Get dimensions of charge density array\\n    nx, ny = charge_density.shape\\n\\n    # Initialize potential array\\n    potential = np.zeros((nx, ny))\\n\\n    # Calculate the squared grid spacing\\n    hsq = dx * dy\\n\\n    # Main loop for relaxation\\n    for _ in range(max_iterations):\\n        # Copy the potential for comparison later\\n        old_potential = potential.copy()\\n\\n        # Iterate over all points in the grid except boundaries\\n        for i in range(1, nx - 1):\\n            for j in range(1, ny - 1):\\n                # Update potential using finite difference method\\n                potential[i, j] = 0.25 * (potential[i+1, j] + potential[i-1, j] + potential[i, j+1] + potential[i, j-1] + hsq * charge_density[i, j])\\n\\n        # Check for convergence\\n        if np.allclose(potential, old_potential, atol=tolerance):\\n            break\\n\\n    return potential\\n'"
            ],
            "application/vnd.google.colaboratory.intrinsic+json": {
              "type": "string"
            }
          },
          "metadata": {},
          "execution_count": 217
        }
      ]
    },
    {
      "cell_type": "code",
      "source": [
        "\n",
        "import numpy as np\n",
        "import matplotlib.pyplot as plt\n",
        "from scipy.sparse import coo_matrix\n",
        "from scipy.sparse.linalg import spsolve\n",
        "\n",
        "def solve_poisson_sparse(charge_density, dx, dy, max_iterations=1000, tolerance=1e-5):\n",
        "    # Calculate grid dimensions\n",
        "    nx, ny = charge_density.shape\n",
        "    n = nx * ny\n",
        "\n",
        "    # Initialize data arrays for sparse matrix construction\n",
        "    row_indices = []\n",
        "    col_indices = []\n",
        "    data = []\n",
        "\n",
        "    # Initialize potential array\n",
        "    potential = np.zeros_like(charge_density)\n",
        "\n",
        "    # Main loop for constructing the sparse matrix\n",
        "    for i in range(nx):\n",
        "        for j in range(ny):\n",
        "            idx = i * ny + j  # 1D index corresponding to 2D indices (i, j)\n",
        "\n",
        "            # Diagonal element\n",
        "            row_indices.append(idx)\n",
        "            col_indices.append(idx)\n",
        "            data.append(4.0)\n",
        "\n",
        "            # Off-diagonal elements\n",
        "            if i > 0:\n",
        "                row_indices.append(idx)\n",
        "                col_indices.append(idx - ny)\n",
        "                data.append(-1.0)\n",
        "            if i < nx - 1:\n",
        "                row_indices.append(idx)\n",
        "                col_indices.append(idx + ny)\n",
        "                data.append(-1.0)\n",
        "            if j > 0:\n",
        "                row_indices.append(idx)\n",
        "                col_indices.append(idx - 1)\n",
        "                data.append(-1.0)\n",
        "            if j < ny - 1:\n",
        "                row_indices.append(idx)\n",
        "                col_indices.append(idx + 1)\n",
        "                data.append(-1.0)\n",
        "\n",
        "    # Convert data arrays to numpy arrays\n",
        "    row_indices = np.array(row_indices)\n",
        "    col_indices = np.array(col_indices)\n",
        "    data = np.array(data)\n",
        "\n",
        "    # Construct sparse matrix\n",
        "    A = coo_matrix((data, (row_indices, col_indices)), shape=(n, n))\n",
        "\n",
        "    # Main loop for relaxation\n",
        "    for _ in range(max_iterations):\n",
        "        # Copy the potential for comparison later\n",
        "        old_potential = potential.copy()\n",
        "\n",
        "        # Flatten potential array for matrix-vector multiplication\n",
        "        b = charge_density.flatten() * dx**2 * dy**2\n",
        "\n",
        "        # Solve linear system using sparse solver\n",
        "        potential = spsolve(A, b).reshape(nx, ny)\n",
        "\n",
        "        # Check for convergence\n",
        "        if np.allclose(potential, old_potential, atol=tolerance):\n",
        "            break\n",
        "\n",
        "    return potential\n",
        "\n",
        "\n",
        "\n",
        "\n"
      ],
      "metadata": {
        "id": "QgbIw0-3d0Fv"
      },
      "execution_count": 218,
      "outputs": []
    },
    {
      "cell_type": "code",
      "source": [
        "'''\n",
        "def calculate_electric_field(potential, dx, dy):\n",
        "    # Get dimensions of potential array\n",
        "    nx, ny = potential.shape\n",
        "\n",
        "    # Calculate electric field components\n",
        "    Ex = np.zeros((nx, ny))\n",
        "    Ey = np.zeros((nx, ny))\n",
        "\n",
        "    # Calculate derivatives using finite differences\n",
        "    for i in range(1, nx - 1):\n",
        "        for j in range(1, ny - 1):\n",
        "            # Central differences\n",
        "            Ex[i, j] = -(potential[i+1, j] - potential[i-1, j]) / (2 * dx)\n",
        "            Ey[i, j] = -(potential[i, j+1] - potential[i, j-1]) / (2 * dy)\n",
        "\n",
        "    return Ex, Ey\n",
        "'''"
      ],
      "metadata": {
        "id": "y9S3p1XwCJhr",
        "outputId": "20017511-37d9-498e-adfb-50b16290c209",
        "colab": {
          "base_uri": "https://localhost:8080/",
          "height": 88
        }
      },
      "execution_count": 219,
      "outputs": [
        {
          "output_type": "execute_result",
          "data": {
            "text/plain": [
              "'\\ndef calculate_electric_field(potential, dx, dy):\\n    # Get dimensions of potential array\\n    nx, ny = potential.shape\\n\\n    # Calculate electric field components\\n    Ex = np.zeros((nx, ny))\\n    Ey = np.zeros((nx, ny))\\n\\n    # Calculate derivatives using finite differences\\n    for i in range(1, nx - 1):\\n        for j in range(1, ny - 1):\\n            # Central differences\\n            Ex[i, j] = -(potential[i+1, j] - potential[i-1, j]) / (2 * dx)\\n            Ey[i, j] = -(potential[i, j+1] - potential[i, j-1]) / (2 * dy)\\n\\n    return Ex, Ey\\n'"
            ],
            "application/vnd.google.colaboratory.intrinsic+json": {
              "type": "string"
            }
          },
          "metadata": {},
          "execution_count": 219
        }
      ]
    },
    {
      "cell_type": "code",
      "execution_count": 220,
      "metadata": {
        "id": "2QZrAlCT_EO1",
        "outputId": "90efb4a5-88f0-490a-935e-0864cf1acf1d",
        "colab": {
          "base_uri": "https://localhost:8080/",
          "height": 123
        }
      },
      "outputs": [
        {
          "output_type": "execute_result",
          "data": {
            "text/plain": [
              "'\\ndef interpolate_field (pos_x, pos_y, dx, dy, length, E_x, E_y):\\n\\n    Ex_at_particle = np.zeros(len(pos_x))\\n    Ey_at_particle = np.zeros(len(pos_y))\\n\\n    # LOOPING\\n    for p in range(nparticles):\\n        pos_x[p], pos_y[p] = periodic_particles(pos_x[p], pos_y[p], length)\\n\\n        # GRID POINT FINDER\\n        i = (int(pos_x[p] / dx)) # +1\\n        j = (int(pos_y[p] / dy)) # +1\\n\\n        # FRACTION FINDER\\n        x_frac = ((pos_x[p]) - (i * dx)) / dx  #+dx\\n        y_frac = ((pos_y[p]) - (j * dy)) / dy#+dy\\n\\n        # WEIGHT FINDER\\n        weight_ii  = (1 - x_frac) * (1 - y_frac)    # FOR X=0, Y=0\\n        weight_ji  = x_frac * (1 - y_frac)          # FOR X=1, Y=0\\n        weight_ij  = (1 - x_frac) * y_frac          # FOR X=0, Y=1\\n        weight_jj  = x_frac * y_frac                # FOR X=1, Y=1\\n\\n        Ex_at_particle[p] = weight_ii * E_x[i][j] + weight_ji * E_x[(i+1)][j] + weight_ij * E_x[i][(j+1)] + weight_jj * E_x[(i+1)][(j+1)]\\n        Ey_at_particle[p] = weight_ii * E_y[i][j] + weight_ji * E_y[(i + 1)][j] + weight_ij * E_y[i][(j + 1)] + weight_jj * E_y[(i + 1)][(j + 1)]\\n        force_x = particle_charge * Ex_at_particle[p]\\n        force_y = particle_charge * Ey_at_particle[p]\\n        acc_x = force_x / particle_mass\\n        acc_y = force_y / particle_mass\\n\\n    return Ex_at_particle, Ey_at_particle, force_x, force_y, acc_x, acc_y\\n'"
            ],
            "application/vnd.google.colaboratory.intrinsic+json": {
              "type": "string"
            }
          },
          "metadata": {},
          "execution_count": 220
        }
      ],
      "source": [
        "'''\n",
        "def interpolate_field (pos_x, pos_y, dx, dy, length, E_x, E_y):\n",
        "\n",
        "    Ex_at_particle = np.zeros(len(pos_x))\n",
        "    Ey_at_particle = np.zeros(len(pos_y))\n",
        "\n",
        "    # LOOPING\n",
        "    for p in range(nparticles):\n",
        "        pos_x[p], pos_y[p] = periodic_particles(pos_x[p], pos_y[p], length)\n",
        "\n",
        "        # GRID POINT FINDER\n",
        "        i = (int(pos_x[p] / dx)) # +1\n",
        "        j = (int(pos_y[p] / dy)) # +1\n",
        "\n",
        "        # FRACTION FINDER\n",
        "        x_frac = ((pos_x[p]) - (i * dx)) / dx  #+dx\n",
        "        y_frac = ((pos_y[p]) - (j * dy)) / dy#+dy\n",
        "\n",
        "        # WEIGHT FINDER\n",
        "        weight_ii  = (1 - x_frac) * (1 - y_frac)    # FOR X=0, Y=0\n",
        "        weight_ji  = x_frac * (1 - y_frac)          # FOR X=1, Y=0\n",
        "        weight_ij  = (1 - x_frac) * y_frac          # FOR X=0, Y=1\n",
        "        weight_jj  = x_frac * y_frac                # FOR X=1, Y=1\n",
        "\n",
        "        Ex_at_particle[p] = weight_ii * E_x[i][j] + weight_ji * E_x[(i+1)][j] + weight_ij * E_x[i][(j+1)] + weight_jj * E_x[(i+1)][(j+1)]\n",
        "        Ey_at_particle[p] = weight_ii * E_y[i][j] + weight_ji * E_y[(i + 1)][j] + weight_ij * E_y[i][(j + 1)] + weight_jj * E_y[(i + 1)][(j + 1)]\n",
        "        force_x = particle_charge * Ex_at_particle[p]\n",
        "        force_y = particle_charge * Ey_at_particle[p]\n",
        "        acc_x = force_x / particle_mass\n",
        "        acc_y = force_y / particle_mass\n",
        "\n",
        "    return Ex_at_particle, Ey_at_particle, force_x, force_y, acc_x, acc_y\n",
        "'''"
      ]
    },
    {
      "cell_type": "code",
      "source": [
        "'''def kinetic_energy(vel_x, vel_y, particle_mass):\n",
        "    vel_sq = vel_x**2 + vel_y**2\n",
        "    vel_resultant = np.sqrt(vel_sq)\n",
        "    ke_particle = 0.5 * particle_mass * vel_resultant\n",
        "\n",
        "    # Calculate total kinetic energy of the system\n",
        "    ke_system = np.sum(ke_particle)\n",
        "\n",
        "    return ke_particle, ke_system, vel_resultant'''"
      ],
      "metadata": {
        "id": "KXroRbP_smuH",
        "outputId": "635dd055-20aa-48bd-a846-ea7472b4fdbe",
        "colab": {
          "base_uri": "https://localhost:8080/",
          "height": 53
        }
      },
      "execution_count": 221,
      "outputs": [
        {
          "output_type": "execute_result",
          "data": {
            "text/plain": [
              "'def kinetic_energy(vel_x, vel_y, particle_mass):\\n    vel_sq = vel_x**2 + vel_y**2\\n    vel_resultant = np.sqrt(vel_sq)\\n    ke_particle = 0.5 * particle_mass * vel_resultant\\n\\n    # Calculate total kinetic energy of the system\\n    ke_system = np.sum(ke_particle)\\n\\n    return ke_particle, ke_system, vel_resultant'"
            ],
            "application/vnd.google.colaboratory.intrinsic+json": {
              "type": "string"
            }
          },
          "metadata": {},
          "execution_count": 221
        }
      ]
    },
    {
      "cell_type": "code",
      "execution_count": 222,
      "metadata": {
        "id": "yp4F1mlh_JA2"
      },
      "outputs": [],
      "source": [
        "#'''\n",
        "nparticles =        100000   # 100000\n",
        "ncell =             6400   # 10000\n",
        "length =            10                                           # DO NOT CHANGE\n",
        "n_step =            2500\n",
        "t =                 0\n",
        "dt =                0.01\n",
        "particle_charge =   1\n",
        "particle_mass =     1\n",
        "iteration =         0\n",
        "#'''"
      ]
    },
    {
      "cell_type": "code",
      "execution_count": 223,
      "metadata": {
        "id": "h0opa0eR_MmJ"
      },
      "outputs": [],
      "source": [
        "#'''\n",
        "position_x = np.random.uniform(0, length, nparticles)\n",
        "position_y = np.random.uniform(0, length, nparticles)\n",
        "vel_x = np.random.uniform(-0.5, 0.5, nparticles)\n",
        "vel_y = np.random.uniform(-0.5, 0.5, nparticles)\n",
        "#'''"
      ]
    },
    {
      "cell_type": "code",
      "execution_count": 224,
      "metadata": {
        "id": "sQenGZMd_YGA"
      },
      "outputs": [],
      "source": [
        "#'''\n",
        "dx = length / abs(ncell ** 0.5 )\n",
        "dy = length / abs(ncell ** 0.5 )\n",
        "#'''"
      ]
    },
    {
      "cell_type": "code",
      "execution_count": 225,
      "metadata": {
        "id": "_g2MxB8j_cL9",
        "outputId": "07662586-8cf7-4351-ccea-a1e850a70e6a",
        "colab": {
          "base_uri": "https://localhost:8080/",
          "height": 36
        }
      },
      "outputs": [
        {
          "output_type": "execute_result",
          "data": {
            "text/plain": [
              "'\\n#pos_x_list = []\\n#vel_x_list = []\\n#rho_total_list = []\\nke_system_list = []\\ntimesteps_list = []\\n'"
            ],
            "application/vnd.google.colaboratory.intrinsic+json": {
              "type": "string"
            }
          },
          "metadata": {},
          "execution_count": 225
        }
      ],
      "source": [
        "'''\n",
        "#pos_x_list = []\n",
        "#vel_x_list = []\n",
        "#rho_total_list = []\n",
        "ke_system_list = []\n",
        "timesteps_list = []\n",
        "'''"
      ]
    },
    {
      "cell_type": "code",
      "source": [
        "# Grid parameters\n",
        "#dx = 0.1\n",
        "#dy = 0.1\n",
        "nx = int(ncell ** 0.5)+1\n",
        "ny = int(ncell ** 0.5)+1\n",
        "# Example charge density distribution\n",
        "rho_electron = charge_density(position_x, position_y, dx, dy, length)\n",
        "# Solve the Poisson equation using sparse matrix method\n",
        "solution_sparse = solve_poisson_sparse(rho_electron, dx, dy)\n",
        "\n",
        "# Plot charge density and potential\n",
        "plt.figure(figsize=(12, 5))\n",
        "plt.subplot(1, 2, 1)\n",
        "plt.imshow(rho_electron, origin='lower', extent=[0, nx*dx, 0, ny*dy], cmap='viridis')\n",
        "plt.colorbar(label='Charge Density')\n",
        "plt.xlabel('x')\n",
        "plt.ylabel('y')\n",
        "plt.title('Charge Density Distribution')\n",
        "\n",
        "plt.subplot(1, 2, 2)\n",
        "plt.imshow(solution_sparse, origin='lower', extent=[0, nx*dx, 0, ny*dy], cmap='viridis')\n",
        "plt.colorbar(label='Potential')\n",
        "plt.xlabel('x')\n",
        "plt.ylabel('y')\n",
        "plt.title('Potential Distribution (Sparse)')\n",
        "\n",
        "plt.tight_layout()\n",
        "plt.show()"
      ],
      "metadata": {
        "id": "82u6q1jzwtjg",
        "outputId": "1b390577-fc19-4d9a-85f4-b2a517f2de7a",
        "colab": {
          "base_uri": "https://localhost:8080/",
          "height": 514
        }
      },
      "execution_count": 226,
      "outputs": [
        {
          "output_type": "display_data",
          "data": {
            "text/plain": [
              "<Figure size 1200x500 with 4 Axes>"
            ],
            "image/png": "[encoded data removed]"
          },
          "metadata": {}
        }
      ]
    },
    {
      "cell_type": "code",
      "execution_count": 227,
      "metadata": {
        "colab": {
          "base_uri": "https://localhost:8080/",
          "height": 123
        },
        "id": "BFapLynW_go1",
        "outputId": "2f91fb93-2245-40ce-90b3-5e73094b43bb"
      },
      "outputs": [
        {
          "output_type": "execute_result",
          "data": {
            "text/plain": [
              "'\\nrho_electron = charge_density(position_x, position_y, dx, dy, length)\\nprint(\"RHO_ELECTRON \\n\", rho_electron)\\nprint(\"Total charge electron : \", np.sum(rho_electron))\\n#rho = ghost(rho_electron)\\n#print(\\'RHO GHOST\\n\\', rho)\\nplt.imshow(rho_electron, origin=\\'lower\\', cmap=\\'viridis\\')\\nplt.colorbar(label=\\'Charge Density ELECTRON\\')\\nplt.xlabel(\\'x\\')\\nplt.ylabel(\\'y\\')\\nplt.title(\\'Charge Density Heatmap\\')\\nplt.show()\\n\\n\\nbackground_charge_density, background_charge_density_frame = calculate_background_charge_density(dx, dy, length, particle_charge, nparticles)\\nprint(\"RHO_Background \\n\", background_charge_density)\\nplt.imshow(background_charge_density, origin=\\'lower\\', cmap=\\'viridis\\')\\nplt.colorbar(label=\\'Charge Density Background\\')\\nplt.xlabel(\\'x\\')\\nplt.ylabel(\\'y\\')\\nplt.title(\\'Charge Density Heatmap\\')\\nplt.show()\\n\\n\\nprint(\"RHO_Background frame \\n\", background_charge_density_frame)\\nprint(\"Total background charge : \", np.sum(background_charge_density))\\nplt.imshow(background_charge_density_frame, origin=\\'lower\\', cmap=\\'viridis\\')\\nplt.colorbar(label=\\'Charge Density Background frame\\')\\nplt.xlabel(\\'x\\')\\nplt.ylabel(\\'y\\')\\nplt.title(\\'Charge Density Heatmap\\')\\nplt.show()\\n\\n\\nrho_total = background_charge_density_frame + rho_electron\\nprint(\"RHO total \\n\", rho_total)\\nprint(\"Total charge system : \", np.sum(rho_total))\\nplt.imshow(rho_total, origin=\\'lower\\', cmap=\\'viridis\\')\\nplt.colorbar(label=\\'Charge Density total frame\\')\\nplt.xlabel(\\'x\\')\\nplt.ylabel(\\'y\\')\\nplt.title(\\'Charge Density Heatmap\\')\\nplt.show()\\n\\n\\n\\n\\nrho = ghost(rho_total)\\nprint(\"RHO WITH GHOST \\n\", rho_total)\\nplt.imshow(rho, origin=\\'lower\\', cmap=\\'viridis\\')\\nplt.colorbar(label=\\'Charge Density total ghost\\')\\nplt.xlabel(\\'x\\')\\nplt.ylabel(\\'y\\')\\nplt.title(\\'Charge Density Heatmap\\')\\nplt.show()\\n\\n\\n\\n\\npotential = calculate_potential(rho, dx, dy)\\nprint(\"v_ELECTRON \\n\", potential)\\nprint(np.sum(potential))\\nplt.imshow(potential, origin=\\'lower\\', cmap=\\'viridis\\')\\nplt.colorbar(label=\\'potential frame\\')\\nplt.xlabel(\\'x\\')\\nplt.ylabel(\\'y\\')\\nplt.title(\\'Potential Heatmap\\')\\nplt.show()\\n\\n\\n\\npotential_ghost = ghost(potential)\\nprint(\"v_ELECTRON \\n\", potential_ghost)\\nplt.imshow(potential_ghost, origin=\\'lower\\', cmap=\\'viridis\\')\\nplt.colorbar(label=\\'potential ghost\\')\\nplt.xlabel(\\'x\\')\\nplt.ylabel(\\'y\\')\\nplt.title(\\'Potential Heatmap\\')\\nplt.show()\\n\\nE_field_x, E_field_y = calculate_electric_field(potential_ghost, dx, dy)\\nprint(\"E_AT_GRID:\", E_field_x)\\nplt.imshow(E_field_x, origin=\\'lower\\', cmap=\\'viridis\\')\\nplt.colorbar(label=\\'Electric field at grids frame\\')\\nplt.xlabel(\\'x\\')\\nplt.ylabel(\\'y\\')\\nplt.title(\\'E field Heatmap\\')\\nplt.show()\\n\\n\\n\\n\"\"\"\\nE_x_at_grid, E_y_at_grid, k_sq, electric_potential_grid = poisson_solver(rho_total, dx, dy)\\nprint(\" EX AT GRID : \\n\",E_x_at_grid)\\nprint(np.sum(E_x_at_grid))\\nprint(\" EY AT GRID : \\n\",E_y_at_grid)\\nprint(np.sum(E_y_at_grid))\\nprint(\"K SQUARE : \\n\",k_sq)\\nprint(np.sum(k_sq))\\nprint(\" Electric potential at grid : \\n\",electric_potential_grid)\\nprint(np.sum(electric_potential_grid))\\n\\nEx_at_particle, Ey_at_particle, force_x, force_y, acc_x, acc_y = interpolate_field (position_x, position_y, dx, dy, length, E_x_at_grid, E_y_at_grid)\\nprint(\" EX AT PARTICLE : \\n\",Ex_at_particle)\\nprint(np.sum(Ex_at_particle))\\nprint(\" EY AT PARTICLE : \\n\",Ey_at_particle)\\nprint(np.sum(Ey_at_particle))\\n\\n\"\"\"\\n'"
            ],
            "application/vnd.google.colaboratory.intrinsic+json": {
              "type": "string"
            }
          },
          "metadata": {},
          "execution_count": 227
        }
      ],
      "source": [
        "' TESTS '\n",
        "'''\n",
        "rho_electron = charge_density(position_x, position_y, dx, dy, length)\n",
        "print(\"RHO_ELECTRON \\n\", rho_electron)\n",
        "print(\"Total charge electron : \", np.sum(rho_electron))\n",
        "#rho = ghost(rho_electron)\n",
        "#print('RHO GHOST\\n', rho)\n",
        "plt.imshow(rho_electron, origin='lower', cmap='viridis')\n",
        "plt.colorbar(label='Charge Density ELECTRON')\n",
        "plt.xlabel('x')\n",
        "plt.ylabel('y')\n",
        "plt.title('Charge Density Heatmap')\n",
        "plt.show()\n",
        "\n",
        "\n",
        "background_charge_density, background_charge_density_frame = calculate_background_charge_density(dx, dy, length, particle_charge, nparticles)\n",
        "print(\"RHO_Background \\n\", background_charge_density)\n",
        "plt.imshow(background_charge_density, origin='lower', cmap='viridis')\n",
        "plt.colorbar(label='Charge Density Background')\n",
        "plt.xlabel('x')\n",
        "plt.ylabel('y')\n",
        "plt.title('Charge Density Heatmap')\n",
        "plt.show()\n",
        "\n",
        "\n",
        "print(\"RHO_Background frame \\n\", background_charge_density_frame)\n",
        "print(\"Total background charge : \", np.sum(background_charge_density))\n",
        "plt.imshow(background_charge_density_frame, origin='lower', cmap='viridis')\n",
        "plt.colorbar(label='Charge Density Background frame')\n",
        "plt.xlabel('x')\n",
        "plt.ylabel('y')\n",
        "plt.title('Charge Density Heatmap')\n",
        "plt.show()\n",
        "\n",
        "\n",
        "rho_total = background_charge_density_frame + rho_electron\n",
        "print(\"RHO total \\n\", rho_total)\n",
        "print(\"Total charge system : \", np.sum(rho_total))\n",
        "plt.imshow(rho_total, origin='lower', cmap='viridis')\n",
        "plt.colorbar(label='Charge Density total frame')\n",
        "plt.xlabel('x')\n",
        "plt.ylabel('y')\n",
        "plt.title('Charge Density Heatmap')\n",
        "plt.show()\n",
        "\n",
        "\n",
        "\n",
        "\n",
        "rho = ghost(rho_total)\n",
        "print(\"RHO WITH GHOST \\n\", rho_total)\n",
        "plt.imshow(rho, origin='lower', cmap='viridis')\n",
        "plt.colorbar(label='Charge Density total ghost')\n",
        "plt.xlabel('x')\n",
        "plt.ylabel('y')\n",
        "plt.title('Charge Density Heatmap')\n",
        "plt.show()\n",
        "\n",
        "\n",
        "\n",
        "\n",
        "potential = calculate_potential(rho, dx, dy)\n",
        "print(\"v_ELECTRON \\n\", potential)\n",
        "print(np.sum(potential))\n",
        "plt.imshow(potential, origin='lower', cmap='viridis')\n",
        "plt.colorbar(label='potential frame')\n",
        "plt.xlabel('x')\n",
        "plt.ylabel('y')\n",
        "plt.title('Potential Heatmap')\n",
        "plt.show()\n",
        "\n",
        "\n",
        "\n",
        "potential_ghost = ghost(potential)\n",
        "print(\"v_ELECTRON \\n\", potential_ghost)\n",
        "plt.imshow(potential_ghost, origin='lower', cmap='viridis')\n",
        "plt.colorbar(label='potential ghost')\n",
        "plt.xlabel('x')\n",
        "plt.ylabel('y')\n",
        "plt.title('Potential Heatmap')\n",
        "plt.show()\n",
        "\n",
        "E_field_x, E_field_y = calculate_electric_field(potential_ghost, dx, dy)\n",
        "print(\"E_AT_GRID:\", E_field_x)\n",
        "plt.imshow(E_field_x, origin='lower', cmap='viridis')\n",
        "plt.colorbar(label='Electric field at grids frame')\n",
        "plt.xlabel('x')\n",
        "plt.ylabel('y')\n",
        "plt.title('E field Heatmap')\n",
        "plt.show()\n",
        "\n",
        "\n",
        "\n",
        "\"\"\"\n",
        "E_x_at_grid, E_y_at_grid, k_sq, electric_potential_grid = poisson_solver(rho_total, dx, dy)\n",
        "print(\" EX AT GRID : \\n\",E_x_at_grid)\n",
        "print(np.sum(E_x_at_grid))\n",
        "print(\" EY AT GRID : \\n\",E_y_at_grid)\n",
        "print(np.sum(E_y_at_grid))\n",
        "print(\"K SQUARE : \\n\",k_sq)\n",
        "print(np.sum(k_sq))\n",
        "print(\" Electric potential at grid : \\n\",electric_potential_grid)\n",
        "print(np.sum(electric_potential_grid))\n",
        "\n",
        "Ex_at_particle, Ey_at_particle, force_x, force_y, acc_x, acc_y = interpolate_field (position_x, position_y, dx, dy, length, E_x_at_grid, E_y_at_grid)\n",
        "print(\" EX AT PARTICLE : \\n\",Ex_at_particle)\n",
        "print(np.sum(Ex_at_particle))\n",
        "print(\" EY AT PARTICLE : \\n\",Ey_at_particle)\n",
        "print(np.sum(Ey_at_particle))\n",
        "\n",
        "\"\"\"\n",
        "'''"
      ]
    },
    {
      "cell_type": "code",
      "execution_count": 228,
      "metadata": {
        "colab": {
          "base_uri": "https://localhost:8080/",
          "height": 123
        },
        "id": "EpUIQ8hp_kBH",
        "outputId": "34d508eb-e725-48ab-b453-2b29f7d84a20"
      },
      "outputs": [
        {
          "output_type": "execute_result",
          "data": {
            "text/plain": [
              "'\\nfor step in range(n_step):\\n    timesteps_list.append(iteration)\\n    #pos_x_list = position_x\\n    #print(\" POSITION X COORDINATES FOR EACH ITERATIONS \\n\", pos_x_list)\\n    #vel_x_list.append(vel_x)\\n\\n    ke_particle, ke_system, vel_resultant = kinetic_energy(vel_x, vel_y, particle_mass)\\n    ke_system_list.append(ke_system)\\n\\n\\n    rho_electron = charge_density(position_x, position_y, dx, dy, length)\\n    background_charge_density= calculate_background_charge_density(dx, dy, length, particle_charge, nparticles)   #, background_charge_density_frame\\n    rho_total = background_charge_density + rho_electron\\n    #rho = ghost(rho_total)\\n\\n    E_grid_x, E_grid_y, k_square, electric_potential_grid = poisson_solver(rho_total, dx, dy)\\n\\n    Ex_at_particle, Ey_at_particle, force_x, force_y, acceleration_x, acceleration_y = interpolate_field(position_x, position_y, dx, dy, length, E_grid_x, E_grid_y)\\n\\n    vx_half = vel_x + (0.5 * dt * acceleration_x)\\n    vy_half = vel_y + (0.5 * dt * acceleration_y)\\n\\n    position_x += vx_half * dt\\n    position_y += vy_half * dt\\n\\n    rho_electron = charge_density(position_x, position_y, dx, dy, length)\\n    background_charge_density = calculate_background_charge_density(dx, dy, length, particle_charge, nparticles)    #, background_charge_density_frame\\n    rho_total = background_charge_density + rho_electron\\n    #rho = ghost(rho_total)\\n\\n    E_grid_x, E_grid_y, k_square, electric_potential_grid = poisson_solver(rho_total, dx, dy)\\n\\n    Ex_at_particle, Ey_at_particle, force_x, force_y, acceleration_x, acceleration_y = interpolate_field(position_x, position_y, dx, dy, length, E_grid_x, E_grid_y)\\n\\n    vel_x = vx_half + 0.5 * dt * acceleration_x\\n    vel_y = vy_half + 0.5 * dt * acceleration_y\\n\\n    iteration += 1\\n    print(\"ITERATION : \", iteration)\\n\\n\\n\\n    # Plotting histogram\\n    #plt.hist(vel_resultant, bins=150, density=True, alpha=0.75)\\n    #plt.xlabel(\\'Velocity\\')\\n    #plt.ylabel(\\'Probability Density\\')\\n    #plt.title(\\'Probability Distribution of Particle Velocities\\')\\n    #plt.grid(True)\\n    #plt.xlim([0, 1])  # Replace min_velocity and max_velocity with your desired limits\\n    #plt.ylim([0, 20])\\n    #plt.show()\\n\\n    plt.imshow(E_grid_x, origin=\\'lower\\', cmap=\\'viridis\\')\\n    plt.colorbar(label=\\'Charge Density\\')\\n    plt.xlabel(\\'x\\')\\n    plt.ylabel(\\'y\\')\\n    plt.title(\\'Charge Density Heatmap\\')\\n    plt.show()\\n\\n    t += dt\\n'"
            ],
            "application/vnd.google.colaboratory.intrinsic+json": {
              "type": "string"
            }
          },
          "metadata": {},
          "execution_count": 228
        }
      ],
      "source": [
        "'''\n",
        "for step in range(n_step):\n",
        "    timesteps_list.append(iteration)\n",
        "    #pos_x_list = position_x\n",
        "    #print(\" POSITION X COORDINATES FOR EACH ITERATIONS \\n\", pos_x_list)\n",
        "    #vel_x_list.append(vel_x)\n",
        "\n",
        "    ke_particle, ke_system, vel_resultant = kinetic_energy(vel_x, vel_y, particle_mass)\n",
        "    ke_system_list.append(ke_system)\n",
        "\n",
        "\n",
        "    rho_electron = charge_density(position_x, position_y, dx, dy, length)\n",
        "    background_charge_density= calculate_background_charge_density(dx, dy, length, particle_charge, nparticles)   #, background_charge_density_frame\n",
        "    rho_total = background_charge_density + rho_electron\n",
        "    #rho = ghost(rho_total)\n",
        "\n",
        "    E_grid_x, E_grid_y, k_square, electric_potential_grid = poisson_solver(rho_total, dx, dy)\n",
        "\n",
        "    Ex_at_particle, Ey_at_particle, force_x, force_y, acceleration_x, acceleration_y = interpolate_field(position_x, position_y, dx, dy, length, E_grid_x, E_grid_y)\n",
        "\n",
        "    vx_half = vel_x + (0.5 * dt * acceleration_x)\n",
        "    vy_half = vel_y + (0.5 * dt * acceleration_y)\n",
        "\n",
        "    position_x += vx_half * dt\n",
        "    position_y += vy_half * dt\n",
        "\n",
        "    rho_electron = charge_density(position_x, position_y, dx, dy, length)\n",
        "    background_charge_density = calculate_background_charge_density(dx, dy, length, particle_charge, nparticles)    #, background_charge_density_frame\n",
        "    rho_total = background_charge_density + rho_electron\n",
        "    #rho = ghost(rho_total)\n",
        "\n",
        "    E_grid_x, E_grid_y, k_square, electric_potential_grid = poisson_solver(rho_total, dx, dy)\n",
        "\n",
        "    Ex_at_particle, Ey_at_particle, force_x, force_y, acceleration_x, acceleration_y = interpolate_field(position_x, position_y, dx, dy, length, E_grid_x, E_grid_y)\n",
        "\n",
        "    vel_x = vx_half + 0.5 * dt * acceleration_x\n",
        "    vel_y = vy_half + 0.5 * dt * acceleration_y\n",
        "\n",
        "    iteration += 1\n",
        "    print(\"ITERATION : \", iteration)\n",
        "\n",
        "\n",
        "\n",
        "    # Plotting histogram\n",
        "    #plt.hist(vel_resultant, bins=150, density=True, alpha=0.75)\n",
        "    #plt.xlabel('Velocity')\n",
        "    #plt.ylabel('Probability Density')\n",
        "    #plt.title('Probability Distribution of Particle Velocities')\n",
        "    #plt.grid(True)\n",
        "    #plt.xlim([0, 1])  # Replace min_velocity and max_velocity with your desired limits\n",
        "    #plt.ylim([0, 20])\n",
        "    #plt.show()\n",
        "\n",
        "    plt.imshow(E_grid_x, origin='lower', cmap='viridis')\n",
        "    plt.colorbar(label='Charge Density')\n",
        "    plt.xlabel('x')\n",
        "    plt.ylabel('y')\n",
        "    plt.title('Charge Density Heatmap')\n",
        "    plt.show()\n",
        "\n",
        "    t += dt\n",
        "'''"
      ]
    },
    {
      "cell_type": "code",
      "execution_count": 229,
      "metadata": {
        "id": "qKcAA_vM_tHp",
        "outputId": "003004f1-3612-4c34-bde7-4c05f927f4ba",
        "colab": {
          "base_uri": "https://localhost:8080/",
          "height": 36
        }
      },
      "outputs": [
        {
          "output_type": "execute_result",
          "data": {
            "text/plain": [
              "'\\n#print(\"END POSITION X COORDINATES : \\n \",pos_x_list)\\nprint(\"Length of timesteps_list:\", len(timesteps_list))\\nprint(\"Length of ke_system_list:\", len(ke_system_list))\\n'"
            ],
            "application/vnd.google.colaboratory.intrinsic+json": {
              "type": "string"
            }
          },
          "metadata": {},
          "execution_count": 229
        }
      ],
      "source": [
        "'''\n",
        "#print(\"END POSITION X COORDINATES : \\n \",pos_x_list)\n",
        "print(\"Length of timesteps_list:\", len(timesteps_list))\n",
        "print(\"Length of ke_system_list:\", len(ke_system_list))\n",
        "'''"
      ]
    },
    {
      "cell_type": "code",
      "execution_count": 230,
      "metadata": {
        "id": "gPKQnU-v_xbZ",
        "colab": {
          "base_uri": "https://localhost:8080/",
          "height": 88
        },
        "outputId": "080d7c99-42bb-40f0-8cf2-cbf704d573e1"
      },
      "outputs": [
        {
          "output_type": "execute_result",
          "data": {
            "text/plain": [
              "\"\\nplt.imshow(rho_electron, extent=(0, length, 0, length), origin='lower', cmap='viridis')\\nplt.colorbar(label='Charge Density')\\nplt.xlabel('x')\\nplt.ylabel('y')\\nplt.title('Charge Density Heatmap')\\nplt.show()\\n\\nplt.imshow(background_charge_density, extent=(0, length, 0, length), origin='lower', cmap='viridis')\\nplt.colorbar(label='Charge Density')\\nplt.xlabel('x')\\nplt.ylabel('y')\\nplt.title('Charge Density Heatmap')\\nplt.show()\\n\\nplt.imshow(rho_total, extent=(0, length, 0, length), origin='lower', cmap='viridis')\\nplt.colorbar(label='Charge Density')\\nplt.xlabel('x')\\nplt.ylabel('y')\\nplt.title('Charge Density Heatmap')\\nplt.show()\\n\""
            ],
            "application/vnd.google.colaboratory.intrinsic+json": {
              "type": "string"
            }
          },
          "metadata": {},
          "execution_count": 230
        }
      ],
      "source": [
        "'''\n",
        "plt.plot(timesteps_list, ke_system_list, linestyle='-')\n",
        "plt.title('Kinetic Energy vs Timestep')\n",
        "plt.xlabel('Timestep')\n",
        "plt.ylabel('Kinetic Energy')\n",
        "#plt.grid(True)\n",
        "plt.show()\n",
        "\n",
        "\n",
        "\n",
        "\n",
        "plt.imshow(rho, extent=(0, length, 0, length), origin='lower', cmap='viridis')\n",
        "plt.colorbar(label='Charge Density')\n",
        "plt.xlabel('x')\n",
        "plt.ylabel('y')\n",
        "plt.title('Charge Density Heatmap')\n",
        "plt.show()\n",
        "\n",
        "\n",
        "plt.imshow(electric_potential_grid, extent=(0, length, 0, length), origin='lower', cmap='viridis')\n",
        "plt.colorbar(label='ELECTRIC POTENTIAL')\n",
        "plt.xlabel('x')\n",
        "plt.ylabel('y')\n",
        "plt.title('ELECTRIC POTENTIAL HEAT MAP')\n",
        "plt.show()\n",
        "\n",
        "plt.imshow(k_square, extent=(0, length, 0, length), origin='lower', cmap='viridis')\n",
        "plt.colorbar(label='K SQUARE')\n",
        "plt.xlabel('x')\n",
        "plt.ylabel('y')\n",
        "plt.title('K SQUARE HEAT MAP')\n",
        "plt.show()\n",
        "'''\n",
        "\n",
        "\n",
        "'''\n",
        "plt.imshow(rho_electron, extent=(0, length, 0, length), origin='lower', cmap='viridis')\n",
        "plt.colorbar(label='Charge Density')\n",
        "plt.xlabel('x')\n",
        "plt.ylabel('y')\n",
        "plt.title('Charge Density Heatmap')\n",
        "plt.show()\n",
        "\n",
        "plt.imshow(background_charge_density, extent=(0, length, 0, length), origin='lower', cmap='viridis')\n",
        "plt.colorbar(label='Charge Density')\n",
        "plt.xlabel('x')\n",
        "plt.ylabel('y')\n",
        "plt.title('Charge Density Heatmap')\n",
        "plt.show()\n",
        "\n",
        "plt.imshow(rho_total, extent=(0, length, 0, length), origin='lower', cmap='viridis')\n",
        "plt.colorbar(label='Charge Density')\n",
        "plt.xlabel('x')\n",
        "plt.ylabel('y')\n",
        "plt.title('Charge Density Heatmap')\n",
        "plt.show()\n",
        "'''"
      ]
    }
  ],
  "metadata": {
    "colab": {
      "provenance": [],
      "authorship_tag": "ABX9TyOwrw3NtHZvMtkuwnMhrNcJ",
      "include_colab_link": true
    },
    "kernelspec": {
      "display_name": "Python 3",
      "name": "python3"
    },
    "language_info": {
      "name": "python"
    }
  },
  "nbformat": 4,
  "nbformat_minor": 0
}