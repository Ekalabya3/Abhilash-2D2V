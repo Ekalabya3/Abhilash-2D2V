{
  "cells": [
    {
      "cell_type": "markdown",
      "metadata": {
        "id": "view-in-github",
        "colab_type": "text"
      },
      "source": [
        "<a href=\"https://colab.research.google.com/github/Ekalabya3/Abhilash-2D2V/blob/main/2D2V%20ABHILASH.ipynb\" target=\"_parent\"><img src=\"https://colab.research.google.com/assets/colab-badge.svg\" alt=\"Open In Colab\"/></a>"
      ]
    },
    {
      "cell_type": "code",
      "execution_count": 707,
      "id": "f434ff1f",
      "metadata": {
        "id": "f434ff1f"
      },
      "outputs": [],
      "source": [
        "import numpy as np\n",
        "import h5py\n",
        "from scipy.fftpack import fftfreq\n",
        "from numpy.fft import fft2, ifft2\n",
        "import matplotlib.pyplot as plt"
      ]
    },
    {
      "cell_type": "code",
      "execution_count": 708,
      "id": "882e64a2",
      "metadata": {
        "id": "882e64a2"
      },
      "outputs": [],
      "source": [
        "def fraction_finder(positions_x, positions_y, x_grid, y_grid, dx, dy):\n",
        "    '''\n",
        "    function fraction_finder(positions_x, positions_y, x_grid, y_grid, dx, dy)\n",
        "    -----------------------------------------------------------------------\n",
        "    Input variables: positions_x and length_domain_x positions_y and length_domain_y\n",
        "\n",
        "        positions_x: An one dimensional array of size equal to number of particles taken in the PIC code.\n",
        "        It contains the positions of particles in x direction.\n",
        "\n",
        "        positions_y: An one dimensional array of size equal to number of particles taken in the PIC code.\n",
        "        It contains the positions of particles in y direction.\n",
        "\n",
        "        x_grid, y_grid: This is an array denoting the position grid chosen in the PIC simulation in\n",
        "        x and y directions respectively\n",
        "\n",
        "\n",
        "        dx, dy: This is the distance between any two consecutive grid nodes of the position grid\n",
        "        in x and y directions respectively\n",
        "\n",
        "    -----------------------------------------------------------------------\n",
        "    returns: x_frac, y_frac\n",
        "        This function returns the fractions of grid cells needed to perform the 2D charge deposition\n",
        "\n",
        "    '''\n",
        "    x_frac = (positions_x - np.sum(x_grid[0])) / dx\n",
        "    y_frac = (positions_y - np.sum(y_grid[0])) / dy\n",
        "\n",
        "    return x_frac, y_frac"
      ]
    },
    {
      "cell_type": "code",
      "execution_count": 709,
      "id": "464cbf2a",
      "metadata": {
        "id": "464cbf2a"
      },
      "outputs": [],
      "source": [
        "def periodic_particles(positions_x, positions_y, length_domain_x, length_domain_y):\n",
        "    '''\n",
        "    function periodic_particles(positions_x, length_domain_x)\n",
        "    -----------------------------------------------------------------------\n",
        "    Input variables: positions_x and length_domain_x positions_y and length_domain_y\n",
        "\n",
        "        positions_x, positions_y: One dimensional arrays of size equal to number of particles\n",
        "        taken in the PIC code. It contains the positions of particles in x and y directions\n",
        "        respectively\n",
        "\n",
        "        length_domain_x, length_domain_y: This is the length of the domain in x and y directions respectively.\n",
        "        The domain is assumed to be from x = 0 to x = length_domain_x\n",
        "\n",
        "    -----------------------------------------------------------------------\n",
        "    returns: positions_x, positions_y\n",
        "        This function returns the modified positions_x and positions_y such that particle previously\n",
        "        gone outside the domain through the left boundary enter via the right boundary and vice versa.\n",
        "        In other words, the function implements periodic boundary conditions for the particles.\n",
        "\n",
        "    '''\n",
        "\n",
        "    # NumPy implementation\n",
        "    # Determine indices of particles which have gone outside the domain\n",
        "    # through right boundary\n",
        "    outside_domain_right_x = np.where(positions_x >= length_domain_x)\n",
        "    outside_domain_top_y = np.where(positions_y >= length_domain_y)\n",
        "\n",
        "    # Determine indices of particles which have gone outside the domain\n",
        "    # through left boundary\n",
        "    outside_domain_left_x = np.where(positions_x < 0)\n",
        "    outside_domain_bottom_y = np.where(positions_y < 0)\n",
        "\n",
        "    if len(outside_domain_right_x[0]) > 0:\n",
        "        # Apply periodic boundary conditions\n",
        "        positions_x[outside_domain_right_x] -= length_domain_x\n",
        "\n",
        "    if len(outside_domain_top_y[0]) > 0:\n",
        "        # Apply periodic boundary conditions\n",
        "        positions_y[outside_domain_top_y] -= length_domain_y\n",
        "\n",
        "    if len(outside_domain_left_x[0]) > 0:\n",
        "        # Apply periodic boundary conditions\n",
        "        positions_x[outside_domain_left_x] += length_domain_x\n",
        "\n",
        "    if len(outside_domain_bottom_y[0]) > 0:\n",
        "        # Apply periodic boundary conditions\n",
        "        positions_y[outside_domain_bottom_y] += length_domain_y\n",
        "\n",
        "    return positions_x, positions_y"
      ]
    },
    {
      "cell_type": "code",
      "execution_count": 710,
      "id": "d2396f47-a89c-441c-a0e8-d28480a9a4ca",
      "metadata": {
        "id": "d2396f47-a89c-441c-a0e8-d28480a9a4ca"
      },
      "outputs": [],
      "source": [
        "def periodic_ghost(field, ghost_cells):\n",
        "    '''\n",
        "    function periodic_ghost(field, ghost_cells)\n",
        "    -----------------------------------------------------------------------\n",
        "    Input variables: field, ghost_cells\n",
        "\n",
        "      field: A 2-dimensional array representing an input field. (columns--->x, rows---->y)\n",
        "\n",
        "      ghost_cells: Number of ghost cells taken in the domain\n",
        "\n",
        "    -----------------------------------------------------------------------\n",
        "    returns: field\n",
        "      This function returns the modified field with appropriate values assigned to the ghost nodes to\n",
        "      ensure periodicity in the field.\n",
        "    '''\n",
        "    len_y, len_x = field.shape  # Get the dimensions of the field array\n",
        "\n",
        "    # Apply periodic boundary conditions\n",
        "    field[0:ghost_cells, :] = field[len_y - 2 * ghost_cells:len_y - ghost_cells, :]\n",
        "    field[:, 0:ghost_cells] = field[:, len_x - 2 * ghost_cells:len_x - ghost_cells]\n",
        "    field[len_y - ghost_cells:len_y, :] = field[ghost_cells + 1:2 * ghost_cells + 1, :]\n",
        "    field[:, len_x - ghost_cells:len_x] = field[:, ghost_cells + 1:2 * ghost_cells + 1]\n",
        "\n",
        "    return field"
      ]
    },
    {
      "cell_type": "code",
      "execution_count": 711,
      "id": "3857aaf5-680a-4317-bf9c-4e7bf3977a7e",
      "metadata": {
        "id": "3857aaf5-680a-4317-bf9c-4e7bf3977a7e"
      },
      "outputs": [],
      "source": [
        "def charge_b1_depositor(charge_electron, positions_x, positions_y, x_grid, y_grid, ghost_cells, length_domain_x, length_domain_y):\n",
        "    '''\n",
        "    function charge_b1_depositor(charge_electron,positions_x, positions_y,x_grid, y_grid,ghost_cells,length_domain_x, length_domain_y)\n",
        "    -----------------------------------------------------------------------\n",
        "    Input variables: charge, zone_x, frac_x, x_grid, dx\n",
        "\n",
        "        charge_electron: This is a scalar denoting the charge of the macro particle in the PIC code.\n",
        "\n",
        "        positions_x: An one dimensional array of size equal to number of particles taken in the PIC code.\n",
        "        It contains the positions of particles in x direction.\n",
        "\n",
        "        positions_y:  An one dimensional array of size equal to number of particles taken in the PIC code.\n",
        "        It contains the positions of particles in y direction.\n",
        "\n",
        "        x_grid, y_grid: This is an array denoting the position grid chosen in the PIC simulation in\n",
        "        x and y directions.\n",
        "\n",
        "        ghost_cells: This is the number of ghost cells in the domain\n",
        "\n",
        "        length_domain_x, length_domain_x: This is the length of the domain in x and y.\n",
        "\n",
        "    -----------------------------------------------------------------------\n",
        "    returns: rho\n",
        "\n",
        "        rho: This is an array containing the charges deposited at the density grid nodes.\n",
        "    '''\n",
        "    number_of_particles = len(positions_x)\n",
        "\n",
        "    x_charge_zone = np.zeros(4 * number_of_particles, dtype=np.uint32)\n",
        "    y_charge_zone = np.zeros(4 * number_of_particles, dtype=np.uint32)\n",
        "\n",
        "    # calculating the number of grid cells\n",
        "    nx = x_grid.size - 1 - 2 * ghost_cells  # number of zones\n",
        "    ny = y_grid.size - 1 - 2 * ghost_cells  # number of zones\n",
        "\n",
        "    dx = length_domain_x / nx\n",
        "    dy = length_domain_y / ny\n",
        "\n",
        "    # Determining the left(x) and bottom (y) indices of the left bottom corner grid node of\n",
        "    # the grid cell containing the particle\n",
        "    x_zone = np.floor(np.abs(positions_x - np.sum(x_grid[0])) / dx).astype(np.uint32)\n",
        "    y_zone = np.floor(np.abs(positions_y - np.sum(y_grid[0])) / dy).astype(np.uint32)\n",
        "\n",
        "    x_zone_plus = x_zone + 1\n",
        "    y_zone_plus = y_zone + 1\n",
        "\n",
        "    # Calculating the fractions needed for calculating the weights\n",
        "    dy_by_delta_y = (1 / dy) * (positions_y - y_grid[y_zone])\n",
        "    dy_by_delta_y_complement = 1 - dy_by_delta_y\n",
        "\n",
        "    dx_by_delta_x = (1 / dx) * (positions_x - x_grid[x_zone])\n",
        "    dx_by_delta_x_complement = 1 - dx_by_delta_x\n",
        "\n",
        "    # Calculating the weights at all corners\n",
        "    # Order of corners is available on the main thesis document\n",
        "    # order -----bottom right --->bottom left---->top left-----> top right\n",
        "    weight_corner1 = dy_by_delta_y_complement * dx_by_delta_x_complement\n",
        "    weight_corner2 = dy_by_delta_y * dx_by_delta_x_complement\n",
        "    weight_corner3 = dy_by_delta_y * dx_by_delta_x\n",
        "    weight_corner4 = dy_by_delta_y_complement * dx_by_delta_x\n",
        "\n",
        "    charge_by_dxdy = charge_electron / (dx * dy)\n",
        "\n",
        "    corner1_charge = weight_corner1 * charge_by_dxdy\n",
        "    corner2_charge = weight_corner2 * charge_by_dxdy\n",
        "    corner3_charge = weight_corner3 * charge_by_dxdy\n",
        "    corner4_charge = weight_corner4 * charge_by_dxdy\n",
        "\n",
        "    # Concatenating the all the weights for all 4 corners into one vector all_corners_weighted_charge\n",
        "    all_corners_weighted_charge = np.concatenate((corner1_charge, corner2_charge, corner3_charge, corner4_charge))\n",
        "\n",
        "    # concatenating the x indices into x_charge_zone\n",
        "    x_charge_zone[0 * number_of_particles:1 * number_of_particles] = x_zone\n",
        "    x_charge_zone[1 * number_of_particles:2 * number_of_particles] = x_zone\n",
        "    x_charge_zone[2 * number_of_particles:3 * number_of_particles] = x_zone_plus\n",
        "    x_charge_zone[3 * number_of_particles:4 * number_of_particles] = x_zone_plus\n",
        "\n",
        "    # concatenating the x indices into x_charge_zone\n",
        "    y_charge_zone[0 * number_of_particles:1 * number_of_particles] = y_zone\n",
        "    y_charge_zone[1 * number_of_particles:2 * number_of_particles] = y_zone_plus\n",
        "    y_charge_zone[2 * number_of_particles:3 * number_of_particles] = y_zone_plus\n",
        "    y_charge_zone[3 * number_of_particles:4 * number_of_particles] = y_zone\n",
        "\n",
        "    return x_charge_zone, y_charge_zone, all_corners_weighted_charge"
      ]
    },
    {
      "cell_type": "code",
      "execution_count": 712,
      "id": "703464be-486e-4fc5-a60b-abb4534a06e5",
      "metadata": {
        "id": "703464be-486e-4fc5-a60b-abb4534a06e5"
      },
      "outputs": [],
      "source": [
        "def cloud_charge_deposition(charge_electron, number_of_electrons, positions_x, positions_y, x_grid, y_grid, shape_function, ghost_cells, length_domain_x, length_domain_y, dx, dy):\n",
        "    '''\n",
        "    function cloud_charge_deposition(charge_electron, number_of_electrons, positions_x, positions_y, x_grid, y_grid, shape_function, ghost_cells, length_domain_x, length_domain_y, dx, dy)\n",
        "    -----------------------------------------------------------------------\n",
        "    Input variables:\n",
        "    charge_electron: This is a scalar denoting the charge of the macro particle in the PIC code.\n",
        "    positions_x: An one-dimensional array of size equal to the number of particles taken in the PIC code. It contains the positions of particles in the x-direction.\n",
        "    positions_y: An one-dimensional array of size equal to the number of particles taken in the PIC code. It contains the positions of particles in the y-direction.\n",
        "    x_grid, y_grid: This is an array denoting the position grid chosen in the PIC simulation in x and y directions.\n",
        "    shape_function: The weighting scheme used for the charge deposition.\n",
        "    ghost_cells: This is the number of ghost cells in the domain.\n",
        "    length_domain_x, length_domain_y: This is the length of the domain in x and y.\n",
        "    dx, dy: The distance between any two consecutive grid nodes of the position grid in x and y directions, respectively.\n",
        "    -----------------------------------------------------------------------\n",
        "    returns: rho\n",
        "    rho: This is an array containing the charges deposited at the density grid nodes.\n",
        "    '''\n",
        "\n",
        "    elements = x_grid.size * y_grid.size\n",
        "\n",
        "    rho_x_indices, rho_y_indices, rho_values_at_these_indices = shape_function(charge_electron, positions_x, positions_y, x_grid, y_grid, ghost_cells, length_domain_x, length_domain_y)\n",
        "\n",
        "    input_indices = rho_x_indices * y_grid.size + rho_y_indices\n",
        "\n",
        "    rho, _ = np.histogram(input_indices, bins=elements, range=(0, elements), weights=rho_values_at_these_indices)\n",
        "\n",
        "    rho = rho.reshape((y_grid.size, x_grid.size))\n",
        "\n",
        "    # Periodic BC's for charge deposition\n",
        "    rho[ghost_cells, :] += rho[-1 - ghost_cells, :]\n",
        "    rho[-1 - ghost_cells, :] = rho[ghost_cells, :].copy()\n",
        "    rho[:, ghost_cells] += rho[:, -1 - ghost_cells]\n",
        "    rho[:, -1 - ghost_cells] = rho[:, ghost_cells].copy()\n",
        "\n",
        "    # Apply periodic ghost\n",
        "    rho = periodic_ghost(rho, ghost_cells)\n",
        "\n",
        "    return rho"
      ]
    },
    {
      "cell_type": "code",
      "execution_count": 713,
      "id": "e7046fbd-c05d-4fcf-9854-fd66bf6a11ef",
      "metadata": {
        "id": "e7046fbd-c05d-4fcf-9854-fd66bf6a11ef"
      },
      "outputs": [],
      "source": [
        "def norm_background_ions(rho_electrons, number_of_electrons, w_p, charge_electron):\n",
        "    '''\n",
        "    function norm_background_ions(rho_electrons, number_of_electrons)\n",
        "    -----------------------------------------------------------------------\n",
        "    Input variables:\n",
        "    rho_electrons: This is an array containing the charges deposited at the density grid nodes.\n",
        "    number_of_electrons: A scalar denoting the number of macro particles/electrons taken in the simulation\n",
        "    -----------------------------------------------------------------------\n",
        "    returns:\n",
        "    rho_normalized: This function returns an array denoting the normalized charge density throughout the domain containing the contribution due background ions\n",
        "    '''\n",
        "    A = 1 / (number_of_electrons * w_p)\n",
        "    rho_electrons_normalized = A * rho_electrons\n",
        "\n",
        "    # Adding background ion density, and ensuring charge neutrality\n",
        "    rho_normalized = rho_electrons_normalized - charge_electron\n",
        "\n",
        "    return rho_normalized"
      ]
    },
    {
      "cell_type": "code",
      "execution_count": 714,
      "id": "6754b6e2-3779-4c69-8b3d-c213ac0fc0b0",
      "metadata": {
        "id": "6754b6e2-3779-4c69-8b3d-c213ac0fc0b0"
      },
      "outputs": [],
      "source": [
        "def poisson_solver(rho, dx, dy=None):\n",
        "    \"\"\"\n",
        "    Solve Poisson's equation using the FFT method.\n",
        "\n",
        "    Parameters:\n",
        "    -----------\n",
        "    rho : array_like\n",
        "        Input charge density.\n",
        "    dx : float\n",
        "        Step size in the x-direction.\n",
        "    dy : float, optional\n",
        "        Step size in the y-direction. Defaults to None for 1D case.\n",
        "\n",
        "    Returns:\n",
        "    --------\n",
        "    E_x : array_like\n",
        "        Electric field in the x-direction.\n",
        "    E_y : array_like or None\n",
        "        Electric field in the y-direction. Returns None for 1D case.\n",
        "    \"\"\"\n",
        "\n",
        "    # Calculate wavenumbers\n",
        "    k_x = fftfreq(rho.shape[1], dx)\n",
        "    k_y = fftfreq(rho.shape[0], dy) if dy is not None else None\n",
        "\n",
        "    # Compute Fourier transform of charge density\n",
        "    rho_hat = fft2(rho)\n",
        "\n",
        "    # Compute potential in Fourier space\n",
        "    kx_grid, ky_grid = np.meshgrid(k_x, k_y, indexing='ij')\n",
        "    kx_grid_sq = kx_grid ** 2\n",
        "    ky_grid_sq = ky_grid ** 2\n",
        "    k_sq = kx_grid_sq + ky_grid_sq\n",
        "\n",
        "    # Avoid division by zero at zero frequency\n",
        "    k_sq[0, 0] = 1.0\n",
        "\n",
        "    potential_hat = rho_hat.T / (4 * np.pi ** 2 * k_sq)\n",
        "\n",
        "    # Compute electric field components in Fourier space\n",
        "    E_x_hat = -1j * 2 * np.pi * kx_grid * potential_hat\n",
        "    E_y_hat = -1j * 2 * np.pi * ky_grid * potential_hat if dy is not None else None\n",
        "\n",
        "    # Compute inverse Fourier transform to get electric field in real space\n",
        "    E_x = np.real(ifft2(E_x_hat))\n",
        "    E_y = np.real(ifft2(E_y_hat)) if dy is not None else None\n",
        "\n",
        "    return E_x, E_y\n",
        "\n",
        "# Example usage:\n",
        "# Define charge density rho and step sizes dx, dy\n",
        "# rho = ...  # Define your charge density array\n",
        "# dx = ...   # Define your step size in the x-direction\n",
        "# dy = ...   # Define your step size in the y-direction (if applicable)\n",
        "# E_x, E_y = poisson_solver(rho, dx, dy)\n"
      ]
    },
    {
      "cell_type": "code",
      "execution_count": 715,
      "id": "3dab08a5-19f6-4c4a-963e-50b8edacaae7",
      "metadata": {
        "id": "3dab08a5-19f6-4c4a-963e-50b8edacaae7"
      },
      "outputs": [],
      "source": [
        "def set_up_perturbation(positions_x, positions_y, number_particles, N_divisions_x, N_divisions_y, amplitude, k_x, k_y, length_domain_x, length_domain_y, dx, dy):\n",
        "    '''\n",
        "    function set_up_perturbation(positions_x,positions_y,number_particles,N_divisions_x,N_divisions_y,amplitude,k_x,k_y,length_domain_x,length_domain_y,dx,dy)\n",
        "    -----------------------------------------------------------------------\n",
        "    Input variables: positions_x, number_particles, N_divisions, amplitude, k,length_domain_x\n",
        "\n",
        "        positions_x, positions_y: An one dimensional array of size equal to number of particles\n",
        "        taken in the PIC code. It contains the positions of particles in x and y directions.\n",
        "\n",
        "        number_particles: The number of electrons /macro particles\n",
        "\n",
        "        N_divisions_x, N_divisions_y: The number of divisions considered for placing the macro particles\n",
        "        in x and y directions respectively\n",
        "\n",
        "        amplitude: This is the amplitude of the density perturbation\n",
        "\n",
        "        k_x, k_y: The is the wave number of the cosine density pertubation in x and y\n",
        "\n",
        "        length_domain_x, length_domain_y: This is the length of the domain in x and y directions\n",
        "\n",
        "        dx, dy: This is the distance between any two consecutive grid nodes of the position grid\n",
        "        in x and y directions respectively\n",
        "\n",
        "    -----------------------------------------------------------------------\n",
        "    returns: positions_x, positions_y\n",
        "        This function returns arrays positions_x and positions_y such that there is a cosine density perturbation\n",
        "        of the given amplitude\n",
        "\n",
        "    '''\n",
        "\n",
        "    positions_x = length_domain_x * np.random.rand(number_particles)\n",
        "    positions_y = length_domain_y * np.random.rand(number_particles)\n",
        "    particles_till_x_i = 0\n",
        "    for j in range(N_divisions_y):\n",
        "        for i in range(N_divisions_x):\n",
        "            average_particles_x_i_to_i_plus_one = (number_particles / ((length_domain_x * length_domain_y) / (dx * dy)))\n",
        "            temp_amplitude = amplitude * np.cos((k_x * (i + 0.5) * dx / length_domain_x) + (k_y * (j + 0.5) * dy / length_domain_y))\n",
        "            number_particles_x_i_to_i_plus_one = int(average_particles_x_i_to_i_plus_one * (1 + temp_amplitude))\n",
        "            positions_x[particles_till_x_i : particles_till_x_i + number_particles_x_i_to_i_plus_one] = i * dx + dx * np.random.rand(number_particles_x_i_to_i_plus_one)\n",
        "            positions_y[particles_till_x_i : particles_till_x_i + number_particles_x_i_to_i_plus_one] = j * dy + dy * np.random.rand(number_particles_x_i_to_i_plus_one)\n",
        "            particles_till_x_i += number_particles_x_i_to_i_plus_one\n",
        "    return positions_x, positions_y"
      ]
    },
    {
      "cell_type": "code",
      "execution_count": 716,
      "id": "6fbee61e-c34b-438d-bfc7-720d75e5c796",
      "metadata": {
        "id": "6fbee61e-c34b-438d-bfc7-720d75e5c796"
      },
      "outputs": [],
      "source": [
        "def umeda_b1_deposition(charge_electron, positions_x, positions_y, velocity_x, velocity_y,x_grid, y_grid, ghost_cells, length_domain_x, length_domain_y, dt):\n",
        "    '''\n",
        "    A modified Umeda's scheme was implemented to handle a pure one dimensional case.\n",
        "\n",
        "    function Umeda_b1_deposition( charge, x, velocity_x,\\\n",
        "                                  x_grid, ghost_cells, length_domain_x, dt\\\n",
        "                                )\n",
        "    -----------------------------------------------------------------------\n",
        "    Input variables: charge, x, velocity_required_x, x_grid, ghost_cells, length_domain_x, dt\n",
        "\n",
        "        charge: This is an array containing the charges deposited at the density grid nodes.\n",
        "\n",
        "        positions_x: An one dimensional array of size equal to number of particles taken in the PIC code.\n",
        "        It contains the positions of particles in x direction.\n",
        "\n",
        "        positions_y:  An one dimensional array of size equal to number of particles taken in the PIC code.\n",
        "        It contains the positions of particles in y direction.\n",
        "\n",
        "        velocity_x: An one dimensional array of size equal to number of particles taken in the PIC code.\n",
        "        It contains the velocities of particles in y direction.\n",
        "\n",
        "        velocity_y: An one dimensional array of size equal to number of particles taken in the PIC code.\n",
        "        It contains the velocities of particles in x direction.\n",
        "\n",
        "        x_grid: This is an array denoting the position grid in x direction chosen in the PIC simulation\n",
        "\n",
        "        y_grid: This is an array denoting the position grid in y direction chosen in the PIC simulation\n",
        "\n",
        "        ghost_cells: This is the number of ghost cells used in the simulation domain.\n",
        "\n",
        "        length_domain_x: This is the length of the domain in x direction\n",
        "\n",
        "        dt: this is the dt/time step chosen in the simulation\n",
        "    -----------------------------------------------------------------------\n",
        "    returns: Jx_x_indices, Jx_y_indices, Jx_values_at_these_indices,\\\n",
        "           Jy_x_indices, Jy_y_indices, Jy_values_at_these_indices\n",
        "\n",
        "        Jx_x_indices: This returns the x indices (columns) of the array where the respective currents stored in\n",
        "        Jx_values_at_these_indices have to be deposited\n",
        "\n",
        "        Jx_y_indices: This returns the y indices (rows) of the array where the respective currents stored in\n",
        "        Jx_values_at_these_indices have to be deposited\n",
        "\n",
        "        Jx_values_at_these_indices: This is an array containing the currents to be deposited.\n",
        "\n",
        "        Jy_x_indices, Jy_y_indices and Jy_values_at_these_indices are similar to Jx_x_indices,\n",
        "        Jx_y_indices and Jx_values_at_these_indices for Jy\n",
        "\n",
        "    For further details on the scheme refer to Umeda's paper provided in the sagemath folder as the\n",
        "    naming conventions used in the function use the papers naming convention.(x_1, x_2, x_r, F_x, )\n",
        "\n",
        "    '''\n",
        "    # Determine grid properties\n",
        "    nx = x_grid.size - 1 - 2 * ghost_cells\n",
        "    ny = y_grid.size - 1 - 2 * ghost_cells\n",
        "    dx = length_domain_x / nx\n",
        "    dy = length_domain_y / ny\n",
        "\n",
        "    # Compute initial and final particle positions\n",
        "    x_1 = positions_x.astype(float)\n",
        "    x_2 = (positions_x + velocity_x * dt).astype(float)\n",
        "    y_1 = positions_y.astype(float)\n",
        "    y_2 = (positions_y + velocity_y * dt).astype(float)\n",
        "\n",
        "    # Calculate indices of left corners of cells containing particles\n",
        "    i_1 = np.floor(((np.abs(x_1 - np.sum(x_grid[0])))/dx) - ghost_cells).astype(int)\n",
        "    j_1 = np.floor(((np.abs(y_1 - np.sum(y_grid[0])))/dy) - ghost_cells).astype(int)\n",
        "    i_2 = np.floor(((np.abs(x_2 - np.sum(x_grid[0])))/dx) - ghost_cells).astype(int)\n",
        "    j_2 = np.floor(((np.abs(y_2 - np.sum(y_grid[0])))/dy) - ghost_cells).astype(int)\n",
        "\n",
        "    # Compute relay points\n",
        "    x_r = np.minimum(dx + np.minimum(np.maximum(dx / 2, (x_1 + x_2) / 2), x_2), x_1)\n",
        "    y_r = np.minimum(dy + np.minimum(np.maximum(dy / 2, (y_1 + y_2) / 2), y_2), y_1)\n",
        "\n",
        "    # Compute fluxes and weights\n",
        "    F_x_1 = charge_electron * (x_r - x_1) / dt\n",
        "    F_x_2 = charge_electron * (x_2 - x_r) / dt\n",
        "    F_y_1 = charge_electron * (y_r - y_1) / dt\n",
        "    F_y_2 = charge_electron * (y_2 - y_r) / dt\n",
        "\n",
        "    W_x_1 = (x_1 + x_r) / (2 * dx) - i_1\n",
        "    W_x_2 = (x_2 + x_r) / (2 * dx) - i_2\n",
        "    W_y_1 = (y_1 + y_r) / (2 * dy) - j_1\n",
        "    W_y_2 = (y_2 + y_r) / (2 * dy) - j_2\n",
        "\n",
        "    # Compute charge densities\n",
        "    J_x_1_1 = (1 / (dx * dy)) * (F_x_1 * (1 - W_y_1))\n",
        "    J_x_1_2 = (1 / (dx * dy)) * (F_x_1 * (W_y_1))\n",
        "    J_x_2_1 = (1 / (dx * dy)) * (F_x_2 * (1 - W_y_2))\n",
        "    J_x_2_2 = (1 / (dx * dy)) * (F_x_2 * (W_y_2))\n",
        "    J_y_1_1 = (1 / (dx * dy)) * (F_y_1 * (1 - W_x_1))\n",
        "    J_y_1_2 = (1 / (dx * dy)) * (F_y_1 * (W_x_1))\n",
        "    J_y_2_1 = (1 / (dx * dy)) * (F_y_2 * (1 - W_x_2))\n",
        "    J_y_2_2 = (1 / (dx * dy)) * (F_y_2 * (W_x_2))\n",
        "\n",
        "    # Compute indices for deposition\n",
        "    Jx_x_indices = np.concatenate([i_1 + ghost_cells, i_1 + ghost_cells, i_2 + ghost_cells, i_2 + ghost_cells])\n",
        "    Jx_y_indices = np.concatenate([j_1 + ghost_cells, j_1 + 1 + ghost_cells, j_2 + ghost_cells, j_2 + 1 + ghost_cells])\n",
        "    Jy_x_indices = np.concatenate([i_1 + ghost_cells, i_1 + 1 + ghost_cells, i_2 + ghost_cells, i_2 + 1 + ghost_cells])\n",
        "    Jy_y_indices = np.concatenate([j_1 + ghost_cells, j_1 + ghost_cells, j_2 + ghost_cells, j_2 + ghost_cells])\n",
        "\n",
        "    # Compute values for deposition\n",
        "    Jx_values_at_these_indices = np.concatenate([J_x_1_1, J_x_1_2, J_x_2_1, J_x_2_2])\n",
        "    Jy_values_at_these_indices = np.concatenate([J_y_1_1, J_y_1_2, J_y_2_1, J_y_2_2])\n",
        "\n",
        "    return Jx_x_indices, Jx_y_indices, Jx_values_at_these_indices, Jy_x_indices, Jy_y_indices, Jy_values_at_these_indices"
      ]
    },
    {
      "cell_type": "code",
      "execution_count": 717,
      "id": "081d9acd-8042-4d05-ba3f-31861ab7f38c",
      "metadata": {
        "id": "081d9acd-8042-4d05-ba3f-31861ab7f38c"
      },
      "outputs": [],
      "source": [
        "def umeda_2003(charge_electron, number_of_electrons, positions_x, positions_y,velocities_x, velocities_y, x_grid, y_grid, ghost_cells,length_domain_x, length_domain_y, dx, dy, dt):\n",
        "    elements = x_grid.size * y_grid.size\n",
        "    '''\n",
        "    function Umeda_b1_deposition( charge, x, velocity_x,x_grid, ghost_cells, length_domain_x, dt)\n",
        "    -----------------------------------------------------------------------\n",
        "    Input variables: charge, x, velocity_required_x, x_grid, ghost_cells, length_domain_x, dt\n",
        "\n",
        "        charge: This is an array containing the charges deposited at the density grid nodes.\n",
        "\n",
        "        positions_x(t = n*dt): An one dimensional array of size equal to number of particles\n",
        "        taken in the PIC code. It contains the positions of particles.\n",
        "\n",
        "        velocity_x(t = (n+1/2)*dt): An one dimensional array of size equal to number of particles\n",
        "        taken in the PIC code. It contains the velocities of particles in x direction.\n",
        "\n",
        "        x_grid: This is an array denoting the position grid chosen in the PIC simulation.\n",
        "\n",
        "        ghost_cells: This is the number of ghost cells used in the simulation domain..\n",
        "\n",
        "        length_domain_x: This is the length of the domain in x direction.\n",
        "\n",
        "        dt: this is the dt/time step chosen in the simulation.\n",
        "    -----------------------------------------------------------------------\n",
        "    returns: Jx_Yee, Jy_Yee\n",
        "\n",
        "        Jx_Yee, Jy_Yee: This returns the array Jx and Jy on their respective Yee\n",
        "        yee lattice.\n",
        "\n",
        "\n",
        "    '''\n",
        "    # Call Umeda_b1_deposition to get current deposition values\n",
        "    Jx_x_indices, Jx_y_indices, Jx_values_at_these_indices,Jy_x_indices, Jy_y_indices, Jy_values_at_these_indices = umeda_b1_deposition(charge_electron, positions_x, positions_y,velocities_x, velocities_y, x_grid, y_grid,ghost_cells, length_domain_x, length_domain_y, dt)\n",
        "\n",
        "    # Current deposition using numpy's histogram\n",
        "    input_indices_Jx = Jx_x_indices * y_grid.size + Jx_y_indices\n",
        "    input_indices_Jy = Jy_x_indices * y_grid.size + Jy_y_indices\n",
        "\n",
        "    # Computing Jx_Yee\n",
        "    Jx_Yee, _ = np.histogram(input_indices_Jx, bins=elements, range=(0, elements),weights=Jx_values_at_these_indices)\n",
        "    Jx_Yee = np.reshape(Jx_Yee, (y_grid.size, x_grid.size))\n",
        "\n",
        "    # Computing Jy_Yee\n",
        "    Jy_Yee, _ = np.histogram(input_indices_Jy, bins=elements, range=(0, elements),weights=Jy_values_at_these_indices)\n",
        "    Jy_Yee = np.reshape(Jy_Yee, (y_grid.size, x_grid.size))\n",
        "\n",
        "    return Jx_Yee, Jy_Yee"
      ]
    },
    {
      "cell_type": "code",
      "execution_count": 718,
      "id": "f3f106e5-0cc3-497f-9377-4451e2acd787",
      "metadata": {
        "id": "f3f106e5-0cc3-497f-9377-4451e2acd787"
      },
      "outputs": [],
      "source": [
        "def current_norm_BC_Jx(Jx_Yee, number_of_electrons, w_p, ghost_cells):\n",
        "    len_x, len_y = Jx_Yee.shape\n",
        "    '''\n",
        "    function current_norm_BC(Jx_Yee, number_of_electrons, w_p)\n",
        "    -----------------------------------------------------------------------\n",
        "    Input variables: Jx_Yee, number_of_electrons, w_p\n",
        "\n",
        "        Jx_Yee: This is an array containing the currents deposited on Yee lattice.\n",
        "\n",
        "        number_of_electrons: Number of macroparticles taken in the domain.\n",
        "\n",
        "        w_p: Number of particles comprising the macroparticle.\n",
        "\n",
        "    -----------------------------------------------------------------------\n",
        "    returns: Jx_norm_centered\n",
        "\n",
        "        Jx_norm_centered: This returns the array Jx on the centered lattice same as the electric field.\n",
        "\n",
        "\n",
        "    '''\n",
        "    # Normalizing the currents to be deposited\n",
        "    A = 1 / (number_of_electrons * w_p)\n",
        "    Jx_norm_Yee = A * Jx_Yee.copy()\n",
        "\n",
        "    # Assigning the current density to the boundary points for periodic boundary conditions\n",
        "    Jx_norm_Yee[:, ghost_cells] += Jx_norm_Yee[:, -1 - ghost_cells]\n",
        "    Jx_norm_Yee[:, -1 - ghost_cells] = Jx_norm_Yee[:, ghost_cells].copy()\n",
        "\n",
        "    Jx_norm_Yee[:, -2 - ghost_cells] += Jx_norm_Yee[:, ghost_cells - 1]\n",
        "\n",
        "    Jx_norm_Yee[:, ghost_cells + 1] += Jx_norm_Yee[:, -ghost_cells]\n",
        "\n",
        "    # Assigning the current density to the boundary points in top and bottom rows along y direction\n",
        "    Jx_norm_Yee[ghost_cells, :] += Jx_norm_Yee[ghost_cells, :]\n",
        "    Jx_norm_Yee[-1 - ghost_cells, :] = Jx_norm_Yee[ghost_cells, :].copy()\n",
        "\n",
        "    Jx_norm_Yee[ghost_cells + 1, :] += Jx_norm_Yee[ghost_cells + 1, :]\n",
        "    Jx_norm_Yee[-2 - ghost_cells, :] += Jx_norm_Yee[-2 - ghost_cells, :]\n",
        "\n",
        "    # Assigning ghost cell values\n",
        "    #Jx_norm_Yee[:ghost_cells, :] += Jx_norm_Yee[-1 - ghost_cells:, :]\n",
        "    Jx_norm_Yee[:1, :] += Jx_norm_Yee[-1:, :]\n",
        "    Jx_norm_Yee[-ghost_cells:, :] += Jx_norm_Yee[:ghost_cells, :]\n",
        "    # Check if Jx_norm_Yee has the same shape as Jx_Yee\n",
        "    if Jx_norm_Yee.shape != Jx_Yee.shape:\n",
        "    # Reshape Jx_norm_Yee to match the shape of Jx_Yee\n",
        "      Jx_norm_Yee = Jx_norm_Yee.reshape(Jx_Yee.shape)\n",
        "    return Jx_norm_Yee"
      ]
    },
    {
      "cell_type": "code",
      "execution_count": 719,
      "id": "822e6704-0f1a-48f7-8fbe-53122e75d7ba",
      "metadata": {
        "id": "822e6704-0f1a-48f7-8fbe-53122e75d7ba"
      },
      "outputs": [],
      "source": [
        "def current_norm_BC_Jy(Jy_Yee, number_of_electrons, w_p, ghost_cells):\n",
        "    len_x, len_y = Jy_Yee.shape\n",
        "    '''\n",
        "    function current_norm_BC(Jy_Yee, number_of_electrons, w_p)\n",
        "    -----------------------------------------------------------------------\n",
        "    Input variables: Jx_Yee, number_of_electrons, w_p\n",
        "\n",
        "        Jy_Yee: This is an array containing the currents deposited on Yee lattice.\n",
        "\n",
        "        number_of_electrons: Number of macroparticles taken in the domain.\n",
        "\n",
        "        w_p: Number of particles comprising the macroparticle.\n",
        "\n",
        "    -----------------------------------------------------------------------\n",
        "    returns: Jy_norm_centered\n",
        "\n",
        "        Jy_norm_centered: This returns the array Jx on the centered lattice same as the electric field.\n",
        "\n",
        "\n",
        "    '''\n",
        "    # Normalizing the currents to be deposited\n",
        "    A = 1 / (number_of_electrons * w_p)\n",
        "    Jy_norm_Yee = A * Jy_Yee.copy()\n",
        "\n",
        "    # Assigning the current density to the boundary points for periodic boundary conditions\n",
        "    Jy_norm_Yee[ghost_cells, :] += Jy_norm_Yee[-1 - ghost_cells, :]\n",
        "    Jy_norm_Yee[-1 - ghost_cells, :] = Jy_norm_Yee[ghost_cells, :].copy()\n",
        "\n",
        "    Jy_norm_Yee[-2 - ghost_cells, :] += Jy_norm_Yee[ghost_cells - 1, :]\n",
        "\n",
        "    Jy_norm_Yee[ghost_cells + 1, :] += Jy_norm_Yee[-ghost_cells, :]\n",
        "\n",
        "    # Assigning the current density to the boundary points in left and right columns along x direction\n",
        "    Jy_norm_Yee[:, ghost_cells] += Jy_norm_Yee[:, -1 - ghost_cells]\n",
        "    Jy_norm_Yee[:, -1 - ghost_cells] = Jy_norm_Yee[:, ghost_cells].copy()\n",
        "\n",
        "    Jy_norm_Yee[:, ghost_cells + 1] += Jy_norm_Yee[:, -ghost_cells]\n",
        "    Jy_norm_Yee[:, -2 - ghost_cells] += Jy_norm_Yee[:, ghost_cells - 1]\n",
        "\n",
        "    # Assigning ghost cell values\n",
        "    #Jy_norm_Yee[:, :ghost_cells] += Jy_norm_Yee[:, -1 - ghost_cells:]\n",
        "    Jy_norm_Yee[:1, :] += Jy_norm_Yee[-1:, :]\n",
        "    Jy_norm_Yee[:, -ghost_cells:] += Jy_norm_Yee[:, :ghost_cells]\n",
        "\n",
        "    return Jy_norm_Yee"
      ]
    },
    {
      "cell_type": "code",
      "execution_count": 720,
      "id": "6ad08074-7bf5-4244-a6ef-cbd4fc66a06c",
      "metadata": {
        "id": "6ad08074-7bf5-4244-a6ef-cbd4fc66a06c"
      },
      "outputs": [],
      "source": [
        "def fdtd(Ex, Ey, Bz, Lx, Ly, ghost_cells, Jx, Jy, dt):\n",
        "    '''\n",
        "    function fdtd( Ex, Ey, Bz, Lx, Ly, ghost_cells, Jx, Jy, dt)\n",
        "    -----------------------------------------------------------------------\n",
        "    Input variables: Jx_Yee, number_of_electrons, w_p\n",
        "\n",
        "        Jy_Yee: This is an array containing the currents deposited on Yee lattice.\n",
        "\n",
        "        number_of_electrons: Number of macroparticles taken in the domain.\n",
        "\n",
        "        w_p: Number of particles comprising the macroparticle.\n",
        "\n",
        "    -----------------------------------------------------------------------\n",
        "    returns: Jy_norm_centered\n",
        "\n",
        "        Jy_norm_centered: This returns the array Jx on the centered lattice same as the electric field.\n",
        "\n",
        "\n",
        "    '''\n",
        "    forward_row = np.array([1, -1, 0])\n",
        "    forward_column = np.array([1, -1, 0])\n",
        "    backward_row = np.array([0, 1, -1])\n",
        "    backward_column = np.array([0, 1, -1])\n",
        "    identity = np.array([0, 1, 0])\n",
        "\n",
        "    x_number_of_points, y_number_of_points = Bz.shape\n",
        "\n",
        "    Nx = x_number_of_points - 2 * ghost_cells - 1\n",
        "    Ny = y_number_of_points - 2 * ghost_cells - 1\n",
        "\n",
        "    Bz_local = Bz.copy()\n",
        "    Ex_local = Ex.copy()\n",
        "    Ey_local = Ey.copy()\n",
        "\n",
        "    Bz_local = periodic_ghost(Bz_local, ghost_cells)\n",
        "    Ex_local = periodic_ghost(Ex_local, ghost_cells)\n",
        "    Ey_local = periodic_ghost(Ey_local, ghost_cells)\n",
        "\n",
        "    dx = float(Lx / (Nx))\n",
        "    dy = float(Ly / (Ny))\n",
        "\n",
        "    dt_by_dx = dt / dx\n",
        "    dt_by_dy = dt / dy\n",
        "    # Reshape Bz_local to a 1-dimensional array\n",
        "    Bz_local = Bz_local.reshape(-1,1)\n",
        "    Ex_local += dt_by_dy * (np.convolve(Bz_local, backward_row, mode='valid')) - Jx * dt\n",
        "    Ey_local += -dt_by_dx * (np.convolve(Bz_local, backward_column, mode='valid')) - Jy * dt\n",
        "\n",
        "    Ex_local = periodic_ghost(Ex_local, ghost_cells)\n",
        "    Ey_local = periodic_ghost(Ey_local, ghost_cells)\n",
        "\n",
        "    Bz_local += -dt_by_dx * (np.convolve(Ey_local, forward_column, mode='valid')) + dt_by_dy * (np.convolve(Ex_local, forward_row, mode='valid'))\n",
        "    Bz_local = periodic_ghost(Bz_local, ghost_cells)\n",
        "    return Ex_local, Ey_local, Bz_local"
      ]
    },
    {
      "cell_type": "code",
      "execution_count": 721,
      "id": "ebcceff6-dfc7-48f5-b8b5-7eb20e4e43e9",
      "metadata": {
        "id": "ebcceff6-dfc7-48f5-b8b5-7eb20e4e43e9"
      },
      "outputs": [],
      "source": [
        "def Boris(charge_electron, mass_electron, velocity_x, velocity_y, dt, Ex_particle, Ey_particle, Bz_particle):\n",
        "    '''\n",
        "    function Boris( charge_electron, mass_electron, velocity_x,\\\n",
        "                    velocity_y, dt, Ex_particle, Ey_particle, Bz_particle\\\n",
        "                  )\n",
        "    -----------------------------------------------------------------------\n",
        "    Input variables: Jx_Yee, number_of_electrons, w_p\n",
        "\n",
        "        Jy_Yee: This is an array containing the currents deposited on Yee lattice.\n",
        "\n",
        "        number_of_electrons: Number of macroparticles taken in the domain.\n",
        "\n",
        "        w_p: Number of particles comprising the macroparticle.\n",
        "\n",
        "    -----------------------------------------------------------------------\n",
        "    returns: Jy_norm_centered\n",
        "\n",
        "        Jy_norm_centered: This returns the array Jx on the centered lattice same as the electric field.\n",
        "\n",
        "\n",
        "    '''\n",
        "    vel_x_minus = velocity_x + (charge_electron * Ex_particle * dt) / (2 * mass_electron)\n",
        "    vel_y_minus = velocity_y + (charge_electron * Ey_particle * dt) / (2 * mass_electron)\n",
        "\n",
        "    t_magz = (charge_electron * Bz_particle * dt) / (2 * mass_electron)\n",
        "\n",
        "    vminus_cross_t_x = vel_y_minus * t_magz\n",
        "    vminus_cross_t_y = -vel_x_minus * t_magz\n",
        "\n",
        "    vel_dashx = vel_x_minus + vminus_cross_t_x\n",
        "    vel_dashy = vel_y_minus + vminus_cross_t_y\n",
        "\n",
        "    t_mag = np.sqrt(t_magz ** 2)\n",
        "\n",
        "    s_z = (2 * t_magz) / (1 + np.abs(t_mag ** 2))\n",
        "\n",
        "    vel_x_plus = vel_x_minus + (vel_dashy * s_z)\n",
        "    vel_y_plus = vel_y_minus - (vel_dashx * s_z)\n",
        "\n",
        "    velocity_x_new = vel_x_plus + (charge_electron * Ex_particle * dt) / (2 * mass_electron)\n",
        "    velocity_y_new = vel_y_plus + (charge_electron * Ey_particle * dt) / (2 * mass_electron)\n",
        "\n",
        "    return velocity_x_new, velocity_y_new"
      ]
    },
    {
      "cell_type": "code",
      "execution_count": 722,
      "id": "e9a30c0e-2c99-424f-94fc-28985962b8b9",
      "metadata": {
        "id": "e9a30c0e-2c99-424f-94fc-28985962b8b9"
      },
      "outputs": [],
      "source": [
        "# Weighting factor w_p = number of electrons composing the macro particle\n",
        "# Doesn't affect the the physics of the system (Coarse graining doesn't affect vlasov maxwell system)\n",
        "# It should be kept such that the number density in the PIC code corresponds\n",
        "# to the densities found in real plasmas\n",
        "w_p             = 1"
      ]
    },
    {
      "cell_type": "code",
      "source": [
        "def interpolate_field(field, frac_y, frac_x):\n",
        "    \"\"\"\n",
        "    Interpolates the value of a field at a given position using linear interpolation.\n",
        "\n",
        "    Args:\n",
        "        field: The field to interpolate.\n",
        "        frac_y: The fractional y-coordinate of the interpolation point.\n",
        "        frac_x: The fractional x-coordinate of the interpolation point.\n",
        "\n",
        "    Returns:\n",
        "        The interpolated value of the field.\n",
        "    \"\"\"\n",
        "\n",
        "    # Find the indices of the four nearest grid points\n",
        "    ix = int(frac_x[0])\n",
        "    iy = int(frac_y[0])\n",
        "\n",
        "    # Calculate the weights for each grid point\n",
        "    wx = frac_x - ix\n",
        "    wy = frac_y - iy\n",
        "\n",
        "    # Interpolate the field value\n",
        "    interpolated_value = (1 - wx) * (1 - wy) * field[iy, ix] + \\\n",
        "                         wx * (1 - wy) * field[iy, ix + 1] + \\\n",
        "                         (1 - wx) * wy * field[iy + 1, ix] + \\\n",
        "                         wx * wy * field[iy + 1, ix + 1]\n",
        "\n",
        "    return interpolated_value"
      ],
      "metadata": {
        "id": "Qpqb6PHvQ00M"
      },
      "id": "Qpqb6PHvQ00M",
      "execution_count": 723,
      "outputs": []
    },
    {
      "cell_type": "code",
      "execution_count": 724,
      "id": "63680d74-ecb3-4738-b649-67a6919f05c7",
      "metadata": {
        "id": "63680d74-ecb3-4738-b649-67a6919f05c7"
      },
      "outputs": [],
      "source": [
        "# Macro Particle parameters\n",
        "k_boltzmann     = 1\n",
        "mass_electron   = 1 * w_p\n",
        "tempertature    = 1\n",
        "charge_electron = -10 * w_p\n",
        "charge_ion      = +10 * w_p"
      ]
    },
    {
      "cell_type": "code",
      "execution_count": 725,
      "id": "41af34d1-4032-4c16-92b0-d6fd627b2526",
      "metadata": {
        "id": "41af34d1-4032-4c16-92b0-d6fd627b2526"
      },
      "outputs": [],
      "source": [
        "# Setting the length of the domain\n",
        "length_domain_x = 1\n",
        "length_domain_y = 1"
      ]
    },
    {
      "cell_type": "code",
      "execution_count": 726,
      "id": "2331e089-cb7a-4c0f-8f0a-59b9a6e500b5",
      "metadata": {
        "id": "2331e089-cb7a-4c0f-8f0a-59b9a6e500b5"
      },
      "outputs": [],
      "source": [
        "# Setting the number of ghost cells\n",
        "ghost_cells  = 1\n",
        "# Setting number of particle in the domain\n",
        "number_of_electrons = 100 #6100000"
      ]
    },
    {
      "cell_type": "code",
      "execution_count": 727,
      "id": "2892c5e6-114b-4f6b-acb4-6693165ebed3",
      "metadata": {
        "id": "2892c5e6-114b-4f6b-acb4-6693165ebed3"
      },
      "outputs": [],
      "source": [
        "# Initializing the positions and velocities of the particles\n",
        "positions_x = length_domain_x * np.random.rand(number_of_electrons)\n",
        "positions_y = length_domain_y * np.random.rand(number_of_electrons)"
      ]
    },
    {
      "cell_type": "code",
      "execution_count": 728,
      "id": "44512f5f-9069-4331-a577-aa6fae3b7616",
      "metadata": {
        "id": "44512f5f-9069-4331-a577-aa6fae3b7616"
      },
      "outputs": [],
      "source": [
        "# setting the mean and standard deviation of the maxwell distribution\n",
        "# Thermal/mean velocity of macro particles should correspond to\n",
        "# that of individual electrons in the plasma\n",
        "mu_x, sigma_x = 0, (k_boltzmann * tempertature / (mass_electron / w_p))\n",
        "mu_y, sigma_y = 0, (k_boltzmann * tempertature / (mass_electron / w_p))\n",
        "\n",
        "# Initializing the velocitites according to the maxwell distribution\n",
        "velocity_x = np.random.normal(mu_x, sigma_x, number_of_electrons)\n",
        "velocity_y = np.random.normal(mu_y, sigma_y, number_of_electrons)"
      ]
    },
    {
      "cell_type": "code",
      "execution_count": 729,
      "id": "672b53ae-4891-49b1-a665-bde5fd084270",
      "metadata": {
        "id": "672b53ae-4891-49b1-a665-bde5fd084270"
      },
      "outputs": [],
      "source": [
        "# Divisions in x grid\n",
        "divisions_domain_x = 100\n",
        "divisions_domain_y = 2"
      ]
    },
    {
      "cell_type": "code",
      "execution_count": 730,
      "id": "31443395-baca-45c1-b072-f5d902d76b86",
      "metadata": {
        "id": "31443395-baca-45c1-b072-f5d902d76b86"
      },
      "outputs": [],
      "source": [
        "# dx, dy is the distance between consecutive grid nodes along x and y\n",
        "dx = (length_domain_x / divisions_domain_x)\n",
        "dy = (length_domain_y / divisions_domain_y)"
      ]
    },
    {
      "cell_type": "code",
      "execution_count": 731,
      "id": "529024aa-0526-43ac-b806-51f6a26b2935",
      "metadata": {
        "id": "529024aa-0526-43ac-b806-51f6a26b2935"
      },
      "outputs": [],
      "source": [
        "# initializing the x grid\n",
        "x_grid = np.linspace(0 - ghost_cells * dx,length_domain_x + ghost_cells * dx,divisions_domain_x + 1 + 2 * ghost_cells,endpoint=True,dtype=np.double)\n",
        "x_right = x_grid + dx/2"
      ]
    },
    {
      "cell_type": "code",
      "execution_count": 732,
      "id": "ae9135ed-19f8-46f4-9321-7721978e9503",
      "metadata": {
        "id": "ae9135ed-19f8-46f4-9321-7721978e9503"
      },
      "outputs": [],
      "source": [
        "# initializing the y grid\n",
        "y_grid = np.linspace(0 - ghost_cells * dy,length_domain_y + ghost_cells * dy,divisions_domain_y + 1 + 2 * ghost_cells,endpoint=True,dtype=np.double)\n",
        "y_top = y_grid + dy/2"
      ]
    },
    {
      "cell_type": "code",
      "execution_count": 733,
      "id": "6fafda67-10cc-4a01-95c4-e5478e4412d4",
      "metadata": {
        "id": "6fafda67-10cc-4a01-95c4-e5478e4412d4"
      },
      "outputs": [],
      "source": [
        "# Setting the amplitude for perturbation\n",
        "N_divisions_x = divisions_domain_x\n",
        "N_divisions_y = divisions_domain_y\n",
        "amplitude_perturbed = 0.5\n",
        "k_x = 2 * np.pi\n",
        "k_y = 2 * np.pi  # Adjust the wave number for 2D perturbation\n",
        "\n",
        "# Initializing the perturbation\n",
        "positions_x, positions_y = set_up_perturbation(positions_x,positions_y,number_of_electrons,N_divisions_x,N_divisions_y,amplitude_perturbed,k_x,k_y,length_domain_x,length_domain_y,dx,dy)\n",
        "\n",
        "# For 2D simulation:\n",
        "velocity_y = np.zeros(number_of_electrons)  # Initialize velocity in the y-direction"
      ]
    },
    {
      "cell_type": "code",
      "execution_count": 734,
      "id": "cb8cd4cb-a053-4f4a-9342-d1028f171d70",
      "metadata": {
        "id": "cb8cd4cb-a053-4f4a-9342-d1028f171d70"
      },
      "outputs": [],
      "source": [
        "# Converting to NumPy arrays\n",
        "positions_x = np.array(positions_x)\n",
        "positions_y = np.array(positions_y)\n",
        "velocity_x = np.array(velocity_x)\n",
        "velocity_y = np.array(velocity_y)\n",
        "x_grid = np.array(x_grid)\n",
        "y_grid = np.array(y_grid)\n",
        "x_right = np.array(x_right)\n",
        "y_top = np.array(y_top)"
      ]
    },
    {
      "cell_type": "code",
      "execution_count": 735,
      "id": "01cdf8b3-9a13-44b1-bd17-d8a0e555eb48",
      "metadata": {
        "id": "01cdf8b3-9a13-44b1-bd17-d8a0e555eb48",
        "outputId": "a4efefeb-978a-4597-cbc6-6c614d8d9dba",
        "colab": {
          "base_uri": "https://localhost:8080/",
          "height": 472
        }
      },
      "outputs": [
        {
          "output_type": "display_data",
          "data": {
            "text/plain": [
              "<Figure size 640x480 with 1 Axes>"
            ],
            "image/png": "[encoded data removed]"
          },
          "metadata": {}
        }
      ],
      "source": [
        "position_grid = np.linspace(0, 1, N_divisions_x)\n",
        "number_electrons_in_bins, b = np.histogram(np.array(positions_x), bins=100, range=(0, length_domain_x))\n",
        "number_density = number_electrons_in_bins / (number_of_electrons / divisions_domain_x)\n",
        "\n",
        "plt.plot(position_grid, number_density)\n",
        "plt.xlabel('Position')\n",
        "plt.ylabel('Number Density')\n",
        "plt.title('Initial Density Perturbation')\n",
        "plt.show()"
      ]
    },
    {
      "cell_type": "code",
      "execution_count": 735,
      "id": "694671e6-c4a8-41e5-992b-dc0cee15371f",
      "metadata": {
        "id": "694671e6-c4a8-41e5-992b-dc0cee15371f"
      },
      "outputs": [],
      "source": []
    },
    {
      "cell_type": "code",
      "execution_count": 736,
      "id": "f6039c0e-32f3-4305-9f1e-065499a72d6f",
      "metadata": {
        "id": "f6039c0e-32f3-4305-9f1e-065499a72d6f"
      },
      "outputs": [],
      "source": [
        "# Time parameters\n",
        "start_time = 0\n",
        "end_time   = 1\n",
        "dt         = 0.002\n",
        "time       = np.arange(start_time,end_time + dt,dt,dtype = np.double)"
      ]
    },
    {
      "cell_type": "code",
      "execution_count": 737,
      "id": "0761e7da-35e4-436d-a4b7-55800a617e1e",
      "metadata": {
        "id": "0761e7da-35e4-436d-a4b7-55800a617e1e"
      },
      "outputs": [],
      "source": [
        "# Some variables for storing data\n",
        "Ex_max       = np.zeros(len(time), dtype = np.double)\n",
        "Ey_max       = np.zeros(len(time), dtype = np.double)"
      ]
    },
    {
      "cell_type": "code",
      "execution_count": 738,
      "id": "4faf43a1-3828-4baf-b449-8f6646c17a6c",
      "metadata": {
        "id": "4faf43a1-3828-4baf-b449-8f6646c17a6c"
      },
      "outputs": [],
      "source": [
        "# Charge deposition using linear weighting scheme\n",
        "rho_electrons  = cloud_charge_deposition(charge_electron,number_of_electrons,positions_x,positions_y,x_grid,y_grid,charge_b1_depositor,ghost_cells,length_domain_x,length_domain_y,dx,dy)\n",
        "rho_initial    = norm_background_ions(rho_electrons, number_of_electrons, w_p, charge_electron)"
      ]
    },
    {
      "cell_type": "code",
      "execution_count": 739,
      "id": "cb321501-1f52-4206-8d79-119c94fd28e8",
      "metadata": {
        "id": "cb321501-1f52-4206-8d79-119c94fd28e8",
        "outputId": "62bdd03b-1b43-4d1b-d2a9-de252ccfc4e5",
        "colab": {
          "base_uri": "https://localhost:8080/",
          "height": 489
        }
      },
      "outputs": [
        {
          "output_type": "display_data",
          "data": {
            "text/plain": [
              "<Figure size 640x480 with 1 Axes>"
            ],
            "image/png": "[encoded data removed]"
          },
          "metadata": {}
        },
        {
          "output_type": "display_data",
          "data": {
            "text/plain": [
              "<Figure size 640x480 with 0 Axes>"
            ]
          },
          "metadata": {}
        }
      ],
      "source": [
        "plt.plot(np.array(rho_initial)[1, :])\n",
        "plt.title('Initial Charge Density')\n",
        "plt.xlabel('Grid Index')\n",
        "plt.ylabel('Charge Density')\n",
        "plt.show()\n",
        "plt.clf()"
      ]
    },
    {
      "cell_type": "code",
      "execution_count": 740,
      "id": "953451a9-c3df-4eb9-b990-e27300137aff",
      "metadata": {
        "id": "953451a9-c3df-4eb9-b990-e27300137aff"
      },
      "outputs": [],
      "source": [
        "Ex_initial_centered = np.zeros((y_grid.size, x_grid.size))\n",
        "Ey_initial_centered = np.zeros((y_grid.size, x_grid.size))\n",
        "\n",
        "rho_physical = rho_initial[ghost_cells:-ghost_cells, ghost_cells:-ghost_cells].copy()\n",
        "\n",
        "Ex_temp, Ey_temp = poisson_solver(rho_physical, dx, dy)\n",
        "\n",
        "Ex_initial_centered[ghost_cells:-ghost_cells, ghost_cells:-ghost_cells] = Ex_temp.T  #copy()\n",
        "Ey_initial_centered[ghost_cells:-ghost_cells, ghost_cells:-ghost_cells] = Ey_temp.T  #copy()"
      ]
    },
    {
      "cell_type": "code",
      "execution_count": 741,
      "id": "3abd6c8c-feee-44d2-ac59-d7971554d915",
      "metadata": {
        "id": "3abd6c8c-feee-44d2-ac59-d7971554d915"
      },
      "outputs": [],
      "source": [
        "Ex_initial_Yee = 0.5 * (Ex_initial_centered + np.roll(Ex_initial_centered, -1, axis=1))\n",
        "Ex_initial_Yee = periodic_ghost(Ex_initial_Yee, ghost_cells)\n",
        "\n",
        "Ey_initial_Yee = 0.5 * (Ey_initial_centered + np.roll(Ey_initial_centered, -1, axis=0))\n",
        "Ey_initial_Yee = periodic_ghost(Ey_initial_Yee, ghost_cells)"
      ]
    },
    {
      "cell_type": "code",
      "execution_count": 742,
      "id": "45c3c559-839f-4e47-b64d-e44b5d5919c8",
      "metadata": {
        "id": "45c3c559-839f-4e47-b64d-e44b5d5919c8"
      },
      "outputs": [],
      "source": [
        "# Obtain v at (t = 0.5dt) to implement the Verlet algorithm\n",
        "positions_x_half = positions_x + velocity_x * dt / 2\n",
        "positions_y_half = positions_y + velocity_y * dt / 2\n",
        "\n",
        "# Periodic Boundary conditions for particles\n",
        "positions_x_half, positions_y_half = periodic_particles(positions_x_half, positions_y_half, length_domain_x, length_domain_y)\n",
        "\n",
        "# Finding interpolant fractions for the positions\n",
        "fracs_Ex_x, fracs_Ex_y = fraction_finder(positions_x_half, positions_y_half, x_right, y_grid, dx, dy)\n",
        "fracs_Ey_x, fracs_Ey_y = fraction_finder(positions_x_half, positions_y_half, x_grid, y_top, dx, dy)\n",
        "\n",
        "# Interpolating the fields at each particle\n",
        "Ex_particle = interpolate_field(Ex_initial_Yee, fracs_Ex_y, fracs_Ex_x)\n",
        "Ey_particle = interpolate_field(Ey_initial_Yee, fracs_Ey_y, fracs_Ey_x)\n",
        "\n",
        "# Updating the velocity using the interpolated Electric fields to find v at (t = 0.5dt)\n",
        "velocity_x += (Ex_particle * charge_electron / mass_electron) * dt / 2\n",
        "velocity_y += (Ey_particle * charge_electron / mass_electron) * dt / 2\n",
        "\n",
        "Ex = Ex_initial_Yee.copy()\n",
        "Ey = Ey_initial_Yee.copy()\n",
        "Bz = np.zeros_like(Ey_initial_Yee)"
      ]
    },
    {
      "cell_type": "code",
      "execution_count": 743,
      "id": "53fc50e3-2585-4da7-bfa3-4481d8df191b",
      "metadata": {
        "id": "53fc50e3-2585-4da7-bfa3-4481d8df191b",
        "outputId": "dc2014b8-c35b-471b-e701-2110a7a8ba52",
        "colab": {
          "base_uri": "https://localhost:8080/",
          "height": 447
        }
      },
      "outputs": [
        {
          "output_type": "display_data",
          "data": {
            "text/plain": [
              "<Figure size 640x480 with 1 Axes>"
            ],
            "image/png": "[encoded data removed]"
          },
          "metadata": {}
        },
        {
          "output_type": "display_data",
          "data": {
            "text/plain": [
              "<Figure size 640x480 with 0 Axes>"
            ]
          },
          "metadata": {}
        }
      ],
      "source": [
        "plt.plot(np.array(Ex_initial_Yee)[1, :])\n",
        "plt.show()\n",
        "plt.clf()"
      ]
    },
    {
      "cell_type": "code",
      "execution_count": 744,
      "id": "8bbad399-809b-4751-a67b-01427a4f629b",
      "metadata": {
        "id": "8bbad399-809b-4751-a67b-01427a4f629b",
        "outputId": "9c560163-270f-4c1b-a450-b496993ff135",
        "colab": {
          "base_uri": "https://localhost:8080/",
          "height": 391
        }
      },
      "outputs": [
        {
          "output_type": "stream",
          "name": "stdout",
          "text": [
            "Computing for time =  0.0\n"
          ]
        },
        {
          "output_type": "error",
          "ename": "ValueError",
          "evalue": "object too deep for desired array",
          "traceback": [
            "\u001b[0;31m---------------------------------------------------------------------------\u001b[0m",
            "\u001b[0;31mValueError\u001b[0m                                Traceback (most recent call last)",
            "\u001b[0;32m<ipython-input-744-0381acb3b418>\u001b[0m in \u001b[0;36m<cell line: 1>\u001b[0;34m()\u001b[0m\n\u001b[1;32m     20\u001b[0m \u001b[0;34m\u001b[0m\u001b[0m\n\u001b[1;32m     21\u001b[0m     \u001b[0;31m# Evolving electric fields using currents\u001b[0m\u001b[0;34m\u001b[0m\u001b[0;34m\u001b[0m\u001b[0m\n\u001b[0;32m---> 22\u001b[0;31m     \u001b[0mEx_updated\u001b[0m\u001b[0;34m,\u001b[0m \u001b[0mEy_updated\u001b[0m\u001b[0;34m,\u001b[0m \u001b[0mBz_updated\u001b[0m \u001b[0;34m=\u001b[0m \u001b[0mfdtd\u001b[0m\u001b[0;34m(\u001b[0m\u001b[0mEx\u001b[0m\u001b[0;34m,\u001b[0m \u001b[0mEy\u001b[0m\u001b[0;34m,\u001b[0m \u001b[0mBz\u001b[0m\u001b[0;34m,\u001b[0m \u001b[0mlength_domain_x\u001b[0m\u001b[0;34m,\u001b[0m\u001b[0mlength_domain_y\u001b[0m\u001b[0;34m,\u001b[0m \u001b[0mghost_cells\u001b[0m\u001b[0;34m,\u001b[0m\u001b[0mJx_norm_Yee\u001b[0m\u001b[0;34m,\u001b[0m \u001b[0mJy_norm_Yee\u001b[0m\u001b[0;34m,\u001b[0m\u001b[0mdt\u001b[0m\u001b[0;34m)\u001b[0m\u001b[0;34m\u001b[0m\u001b[0;34m\u001b[0m\u001b[0m\n\u001b[0m\u001b[1;32m     23\u001b[0m     \u001b[0;31m# Forcing Bz to be zero\u001b[0m\u001b[0;34m\u001b[0m\u001b[0;34m\u001b[0m\u001b[0m\n\u001b[1;32m     24\u001b[0m     \u001b[0mBz_updated\u001b[0m\u001b[0;34m[\u001b[0m\u001b[0;34m:\u001b[0m\u001b[0;34m,\u001b[0m \u001b[0;34m:\u001b[0m\u001b[0;34m]\u001b[0m \u001b[0;34m=\u001b[0m \u001b[0;36m0\u001b[0m\u001b[0;34m\u001b[0m\u001b[0;34m\u001b[0m\u001b[0m\n",
            "\u001b[0;32m<ipython-input-720-3fd8ca82bf99>\u001b[0m in \u001b[0;36mfdtd\u001b[0;34m(Ex, Ey, Bz, Lx, Ly, ghost_cells, Jx, Jy, dt)\u001b[0m\n\u001b[1;32m     44\u001b[0m     \u001b[0;31m# Reshape Bz_local to a 1-dimensional array\u001b[0m\u001b[0;34m\u001b[0m\u001b[0;34m\u001b[0m\u001b[0m\n\u001b[1;32m     45\u001b[0m     \u001b[0mBz_local\u001b[0m \u001b[0;34m=\u001b[0m \u001b[0mBz_local\u001b[0m\u001b[0;34m.\u001b[0m\u001b[0mreshape\u001b[0m\u001b[0;34m(\u001b[0m\u001b[0;34m-\u001b[0m\u001b[0;36m1\u001b[0m\u001b[0;34m,\u001b[0m\u001b[0;36m1\u001b[0m\u001b[0;34m)\u001b[0m\u001b[0;34m\u001b[0m\u001b[0;34m\u001b[0m\u001b[0m\n\u001b[0;32m---> 46\u001b[0;31m     \u001b[0mEx_local\u001b[0m \u001b[0;34m+=\u001b[0m \u001b[0mdt_by_dy\u001b[0m \u001b[0;34m*\u001b[0m \u001b[0;34m(\u001b[0m\u001b[0mnp\u001b[0m\u001b[0;34m.\u001b[0m\u001b[0mconvolve\u001b[0m\u001b[0;34m(\u001b[0m\u001b[0mBz_local\u001b[0m\u001b[0;34m,\u001b[0m \u001b[0mbackward_row\u001b[0m\u001b[0;34m,\u001b[0m \u001b[0mmode\u001b[0m\u001b[0;34m=\u001b[0m\u001b[0;34m'valid'\u001b[0m\u001b[0;34m)\u001b[0m\u001b[0;34m)\u001b[0m \u001b[0;34m-\u001b[0m \u001b[0mJx\u001b[0m \u001b[0;34m*\u001b[0m \u001b[0mdt\u001b[0m\u001b[0;34m\u001b[0m\u001b[0;34m\u001b[0m\u001b[0m\n\u001b[0m\u001b[1;32m     47\u001b[0m     \u001b[0mEy_local\u001b[0m \u001b[0;34m+=\u001b[0m \u001b[0;34m-\u001b[0m\u001b[0mdt_by_dx\u001b[0m \u001b[0;34m*\u001b[0m \u001b[0;34m(\u001b[0m\u001b[0mnp\u001b[0m\u001b[0;34m.\u001b[0m\u001b[0mconvolve\u001b[0m\u001b[0;34m(\u001b[0m\u001b[0mBz_local\u001b[0m\u001b[0;34m,\u001b[0m \u001b[0mbackward_column\u001b[0m\u001b[0;34m,\u001b[0m \u001b[0mmode\u001b[0m\u001b[0;34m=\u001b[0m\u001b[0;34m'valid'\u001b[0m\u001b[0;34m)\u001b[0m\u001b[0;34m)\u001b[0m \u001b[0;34m-\u001b[0m \u001b[0mJy\u001b[0m \u001b[0;34m*\u001b[0m \u001b[0mdt\u001b[0m\u001b[0;34m\u001b[0m\u001b[0;34m\u001b[0m\u001b[0m\n\u001b[1;32m     48\u001b[0m \u001b[0;34m\u001b[0m\u001b[0m\n",
            "\u001b[0;32m/usr/local/lib/python3.10/dist-packages/numpy/core/numeric.py\u001b[0m in \u001b[0;36mconvolve\u001b[0;34m(a, v, mode)\u001b[0m\n\u001b[1;32m    832\u001b[0m     \u001b[0;32mif\u001b[0m \u001b[0mlen\u001b[0m\u001b[0;34m(\u001b[0m\u001b[0mv\u001b[0m\u001b[0;34m)\u001b[0m \u001b[0;34m==\u001b[0m \u001b[0;36m0\u001b[0m\u001b[0;34m:\u001b[0m\u001b[0;34m\u001b[0m\u001b[0;34m\u001b[0m\u001b[0m\n\u001b[1;32m    833\u001b[0m         \u001b[0;32mraise\u001b[0m \u001b[0mValueError\u001b[0m\u001b[0;34m(\u001b[0m\u001b[0;34m'v cannot be empty'\u001b[0m\u001b[0;34m)\u001b[0m\u001b[0;34m\u001b[0m\u001b[0;34m\u001b[0m\u001b[0m\n\u001b[0;32m--> 834\u001b[0;31m     \u001b[0;32mreturn\u001b[0m \u001b[0mmultiarray\u001b[0m\u001b[0;34m.\u001b[0m\u001b[0mcorrelate\u001b[0m\u001b[0;34m(\u001b[0m\u001b[0ma\u001b[0m\u001b[0;34m,\u001b[0m \u001b[0mv\u001b[0m\u001b[0;34m[\u001b[0m\u001b[0;34m:\u001b[0m\u001b[0;34m:\u001b[0m\u001b[0;34m-\u001b[0m\u001b[0;36m1\u001b[0m\u001b[0;34m]\u001b[0m\u001b[0;34m,\u001b[0m \u001b[0mmode\u001b[0m\u001b[0;34m)\u001b[0m\u001b[0;34m\u001b[0m\u001b[0;34m\u001b[0m\u001b[0m\n\u001b[0m\u001b[1;32m    835\u001b[0m \u001b[0;34m\u001b[0m\u001b[0m\n\u001b[1;32m    836\u001b[0m \u001b[0;34m\u001b[0m\u001b[0m\n",
            "\u001b[0;31mValueError\u001b[0m: object too deep for desired array"
          ]
        }
      ],
      "source": [
        "for time_index in range(len(time)):\n",
        "    if time_index % 25 == 0:\n",
        "        print('Computing for time = ', time_index * dt)\n",
        "\n",
        "    # Updating the positions of particles using the velocities (Verlet algorithm)\n",
        "    # velocity at t = (n + 1/2) dt, positions_x at t = (n)dt, and positions_x_new\n",
        "    # at t = (n+1)dt\n",
        "    positions_x_new = positions_x + velocity_x * dt\n",
        "    positions_y_new = positions_y + velocity_y * dt\n",
        "\n",
        "    # Applying periodic boundary conditions for particles\n",
        "    positions_x_new, positions_y_new = periodic_particles(positions_x_new, positions_y_new,length_domain_x, length_domain_y)\n",
        "\n",
        "    # Computing the current densities on the Yee grid provided by Umeda's scheme\n",
        "    Jx_Yee, Jy_Yee = umeda_2003(charge_electron,number_of_electrons,positions_x, positions_y,velocity_x, velocity_y,x_grid, y_grid,ghost_cells,length_domain_x, length_domain_y,dx, dy,dt)\n",
        "\n",
        "    # Normalizing and evaluating the current densities on the centered grid\n",
        "    Jx_norm_Yee = current_norm_BC_Jx(Jx_Yee, number_of_electrons, w_p,ghost_cells)\n",
        "    Jy_norm_Yee = current_norm_BC_Jy(Jy_Yee, number_of_electrons, w_p,ghost_cells)\n",
        "\n",
        "    # Evolving electric fields using currents\n",
        "    Ex_updated, Ey_updated, Bz_updated = fdtd(Ex, Ey, Bz, length_domain_x,length_domain_y, ghost_cells,Jx_norm_Yee, Jy_norm_Yee,dt)\n",
        "    # Forcing Bz to be zero\n",
        "    Bz_updated[:, :] = 0\n",
        "\n",
        "    # calculating the interpolation fractions needed for 2D interpolation\n",
        "    fracs_Ex_x, fracs_Ex_y = fraction_finder(positions_x_new, positions_y_new,x_right, y_grid, dx, dy)\n",
        "    fracs_Ey_x, fracs_Ey_y = fraction_finder(positions_x_new, positions_y_new,x_grid, y_top, dx, dy)\n",
        "    fracs_Bz_x, fracs_Bz_y = fraction_finder(positions_x_new, positions_y_new,x_right, y_top, dx, dy)\n",
        "\n",
        "    # Interpolating the fields at particle locations\n",
        "    Ex_particle = interpolate_2D(Ex_updated, fracs_Ex_y, fracs_Ex_x)\n",
        "    Ey_particle = interpolate_2D(Ey_updated, fracs_Ey_y, fracs_Ey_x)\n",
        "\n",
        "    # Computing the interpolated magnetic field at t = (n+1)*dt to push v((n+1/2) * dt)\n",
        "    Bz_particle = interpolate_2D((Bz_updated + Bz) / 2, fracs_Bz_y, fracs_Bz_x)\n",
        "\n",
        "    # Updating the velocity using the interpolated Electric fields\n",
        "    velocity_x_new, velocity_y_new = Boris(charge_electron, mass_electron,velocity_x, velocity_y, dt,Ex_particle, Ey_particle, Bz_particle)\n",
        "\n",
        "    # Saving the Electric fields for plotting\n",
        "    Ex_max[time_index] = np.max(np.abs(Ex[ghost_cells:-ghost_cells, ghost_cells:-ghost_cells]))\n",
        "    Ey_max[time_index] = np.max(np.abs(Ey[ghost_cells:-ghost_cells, ghost_cells:-ghost_cells]))\n",
        "\n",
        "    # Saving the updated velocities for the next timestep\n",
        "    velocity_x = velocity_x_new.copy()\n",
        "    positions_x = positions_x_new.copy()\n",
        "    velocity_y = velocity_y_new.copy()\n",
        "    positions_y = positions_y_new.copy()\n",
        "    Ex = Ex_updated.copy()\n",
        "    Ey = Ey_updated.copy()"
      ]
    },
    {
      "cell_type": "code",
      "execution_count": null,
      "id": "f2721050-83d5-41b0-8b88-882dcd0ab25f",
      "metadata": {
        "id": "f2721050-83d5-41b0-8b88-882dcd0ab25f"
      },
      "outputs": [],
      "source": [
        "h5f = h5py.File('PIC_2D_CD.h5', 'w')\n",
        "h5f.create_dataset('Ex_amp', data = (Ex_max))\n",
        "h5f.create_dataset('Ey_amp', data = (Ey_max))\n",
        "h5f.close()"
      ]
    },
    {
      "cell_type": "code",
      "execution_count": null,
      "id": "375a4e10-4257-4e60-8347-59fea46027a6",
      "metadata": {
        "id": "375a4e10-4257-4e60-8347-59fea46027a6"
      },
      "outputs": [],
      "source": [
        "# Open the HDF5 file in read mode\n",
        "with h5py.File('CK_256.h5', 'r') as h5f:\n",
        "    # Read the dataset 'max_E' into the variable Ex_max_CK\n",
        "    Ex_max_CK = h5f['max_E'][:]\n",
        "# Create a time array with the same length as Ex_max_CK\n",
        "time_CK = np.linspace(0, time[-1], len(Ex_max_CK))"
      ]
    },
    {
      "cell_type": "code",
      "execution_count": null,
      "id": "ec645534-29cb-469d-9084-3c51d13664ae",
      "metadata": {
        "id": "ec645534-29cb-469d-9084-3c51d13664ae"
      },
      "outputs": [],
      "source": [
        "# Create a time grid\n",
        "time_grid = np.linspace(0, time[-1], len(Ex_max))\n",
        "\n",
        "# Plot the maximum electric field amplitude for PIC and Cheng Knorr\n",
        "plt.plot(time_grid, Ex_max, label=r'$\\mathrm{PIC}$')\n",
        "plt.plot(time_CK, Ex_max_CK, label=r'$\\mathrm{Cheng\\ Knorr}$')\n",
        "\n",
        "# Add labels and legend\n",
        "plt.xlabel('$t$')\n",
        "plt.ylabel('$\\mathrm{MAX}(|E_{x}|)$')\n",
        "plt.legend()\n",
        "\n",
        "# Display the plot\n",
        "plt.show()\n",
        "\n",
        "# Save the plot as an image file\n",
        "plt.savefig('MaxE.png')\n",
        "\n",
        "# Clear the current figure to release memory\n",
        "plt.clf()"
      ]
    },
    {
      "cell_type": "code",
      "execution_count": null,
      "id": "b2346eb8-fbe4-401a-8973-1924a7335ed9",
      "metadata": {
        "id": "b2346eb8-fbe4-401a-8973-1924a7335ed9"
      },
      "outputs": [],
      "source": [
        "# Plot the maximum electric field amplitude for PIC and Cheng Knorr using semilogy\n",
        "plt.semilogy(time_grid, Ex_max, label=r'$\\mathrm{PIC}$')\n",
        "plt.semilogy(time_CK, Ex_max_CK, label=r'$\\mathrm{Cheng\\ Knorr}$')\n",
        "\n",
        "# Add labels and legend\n",
        "plt.xlabel('$t$')\n",
        "plt.ylabel('$\\mathrm{MAX}(|E_{x}|)$')\n",
        "plt.legend()\n",
        "\n",
        "# Display the plot\n",
        "plt.show()\n",
        "\n",
        "# Save the plot as an image file\n",
        "plt.savefig('MaxE_semilogy.png')\n",
        "\n",
        "# Clear the current figure to release memory\n",
        "plt.clf()"
      ]
    },
    {
      "cell_type": "code",
      "execution_count": null,
      "id": "b2a4403c-3654-4ded-be1e-f463eca27546",
      "metadata": {
        "id": "b2a4403c-3654-4ded-be1e-f463eca27546"
      },
      "outputs": [],
      "source": [
        "# Plot the maximum electric field amplitude for PIC and Cheng Knorr using loglog\n",
        "plt.loglog(time_grid, Ex_max, label=r'$\\mathrm{PIC}$')\n",
        "plt.loglog(time_CK, Ex_max_CK, label=r'$\\mathrm{Cheng\\ Knorr}$')\n",
        "\n",
        "# Add labels and legend\n",
        "plt.xlabel('$t$')\n",
        "plt.ylabel('$\\mathrm{MAX}(|E_{x}|)$')\n",
        "plt.legend()\n",
        "\n",
        "# Display the plot\n",
        "plt.show()\n",
        "\n",
        "# Save the plot as an image file\n",
        "plt.savefig('MaxE_loglog.png')\n",
        "\n",
        "# Clear the current figure to release memory\n",
        "plt.clf()"
      ]
    }
  ],
  "metadata": {
    "kernelspec": {
      "display_name": "Python 3 (ipykernel)",
      "language": "python",
      "name": "python3"
    },
    "language_info": {
      "codemirror_mode": {
        "name": "ipython",
        "version": 3
      },
      "file_extension": ".py",
      "mimetype": "text/x-python",
      "name": "python",
      "nbconvert_exporter": "python",
      "pygments_lexer": "ipython3",
      "version": "3.11.5"
    },
    "colab": {
      "provenance": [],
      "include_colab_link": true
    }
  },
  "nbformat": 4,
  "nbformat_minor": 5
}