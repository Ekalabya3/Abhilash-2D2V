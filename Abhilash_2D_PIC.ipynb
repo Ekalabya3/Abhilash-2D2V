{
  "cells": [
    {
      "cell_type": "markdown",
      "metadata": {
        "id": "view-in-github",
        "colab_type": "text"
      },
      "source": [
        "<a href=\"https://colab.research.google.com/github/Ekalabya3/Abhilash-2D2V/blob/main/Abhilash_2D_PIC.ipynb\" target=\"_parent\"><img src=\"https://colab.research.google.com/assets/colab-badge.svg\" alt=\"Open In Colab\"/></a>"
      ]
    },
    {
      "cell_type": "code",
      "execution_count": 146,
      "metadata": {
        "id": "XWmuh4zk-hVr"
      },
      "outputs": [],
      "source": [
        "import numpy as np\n",
        "from scipy.fft import fftfreq, fft2, ifft2\n",
        "import matplotlib.pyplot as plt"
      ]
    },
    {
      "cell_type": "code",
      "execution_count": 147,
      "metadata": {
        "id": "V_3KrgUA-wMQ"
      },
      "outputs": [],
      "source": [
        "def periodic_particles(x, y, length):\n",
        "\n",
        "    x %= length\n",
        "\n",
        "    #   x = x % length\n",
        "\n",
        "    y %= length\n",
        "\n",
        "    return x, y"
      ]
    },
    {
      "cell_type": "code",
      "execution_count": 148,
      "metadata": {
        "id": "MWfvh_oQ-zvb"
      },
      "outputs": [],
      "source": [
        "def charge_density(pos_x, pos_y, dx, dy, length, nghost):    #DONE\n",
        "\n",
        "    charge_density = np.zeros((int(length / dx) +1 + 2*nghost , int(length / dy) + 1 + 2*nghost))\n",
        "\n",
        "    # LOOPING\n",
        "    for p in range(nparticles):\n",
        "        pos_x[p], pos_y[p] = periodic_particles(pos_x[p], pos_y[p], length)\n",
        "\n",
        "        # GRID POINT FINDER\n",
        "        i = int(pos_x[p] / dx)\n",
        "        j = int(pos_y[p] / dy)\n",
        "\n",
        "        i += nghost\n",
        "        j += nghost\n",
        "\n",
        "        # IF INDEX BECAME NEGATIVE\n",
        "        if i < 0:\n",
        "            i += abs(ncell ** 0.5) + 1\n",
        "        if j < 0:\n",
        "            j += abs(ncell ** 0.5) + 1\n",
        "\n",
        "        # FRACTION FINDER\n",
        "        x_frac = (pos_x[p] - (i * dx)) / dx\n",
        "        y_frac = (pos_y[p] - (j * dy)) / dy\n",
        "        # WEIGHT FINDER\n",
        "        weight_ii  = (1 - x_frac) * (1 - y_frac)    # FOR X=0, Y=0\n",
        "        weight_ji  = x_frac * (1 - y_frac)          # FOR X=1, Y=0\n",
        "        weight_ij  = (1 - x_frac) * y_frac          # FOR X=0, Y=1\n",
        "        weight_jj  = x_frac * y_frac                # FOR X=1, Y=1\n",
        "\n",
        "        charge_density[i][j]     =   charge_density[i][j]     + (particle_charge * weight_ii) #/ (dx*dy)\n",
        "        charge_density[(i+1)][j]   =   charge_density[(i+1)][j]   + (particle_charge * weight_ji) #/ (dx*dy)\n",
        "        charge_density[i][(j+1)]   =   charge_density[i][(j+1)]   + (particle_charge * weight_ij) #/ (dx*dy)\n",
        "        charge_density[(i+1)][(j+1)] =   charge_density[(i+1)][(j+1)] + (particle_charge * weight_jj) #/ (dx*dy)\n",
        "\n",
        "        charge_density_without_ghost = charge_density[nghost :-nghost, nghost :-nghost]\n",
        "\n",
        "\n",
        "        transpose_charge_density = np.transpose(charge_density_without_ghost)\n",
        "        rho_1 = (np.flip(transpose_charge_density, 0)) / (dx*dy)\n",
        "\n",
        "    return  rho_1"
      ]
    },
    {
      "cell_type": "code",
      "execution_count": 149,
      "metadata": {
        "id": "gmcTO138-6B9"
      },
      "outputs": [],
      "source": [
        "def calculate_background_charge_density(dx, dy, length, particle_charge, nparticles):  #DONE\n",
        "\n",
        "    # FIRST: TOTAL CHARGE CALCULATION\n",
        "    total_particle_charge = particle_charge * nparticles\n",
        "\n",
        "    # SECOND: TOTAL NUMBER OF GRID POINTS\n",
        "    num_x_cells = int(length / dx) + 1\n",
        "    num_y_cells = int(length / dy) + 1\n",
        "    total_grid_points = num_x_cells * num_y_cells\n",
        "\n",
        "    # THIRD: CHARGE DENSITY BY BACKGROUND PARTICLES (IONS)\n",
        "    background_charge_density = (np.ones((num_x_cells, num_y_cells)) * (-total_particle_charge / total_grid_points)) / (dx * dy)   #/ (length*length)\n",
        "\n",
        "    return background_charge_density"
      ]
    },
    {
      "cell_type": "code",
      "execution_count": 150,
      "metadata": {
        "id": "pHcqHRKW-9f_"
      },
      "outputs": [],
      "source": [
        "def poisson_solver(rho, dx, dy):\n",
        "    # Calculate Wavenumbers\n",
        "    k_x = fftfreq(rho.shape[1], dx)\n",
        "    k_y = fftfreq(rho.shape[0], dy)\n",
        "\n",
        "    # Compute Fourier transform of charge density\n",
        "    rho_hat = fft2(rho)\n",
        "\n",
        "    # Compute potential in Fourier space\n",
        "    kx_grid, ky_grid = np.meshgrid(k_x, k_y, indexing='ij')\n",
        "    kx_grid_sq = kx_grid ** 2\n",
        "    ky_grid_sq = ky_grid ** 2\n",
        "    k_sq = kx_grid_sq + ky_grid_sq\n",
        "\n",
        "    # Avoid division by zero at zero frequency\n",
        "    k_sq[0, 0] = 1.0\n",
        "    potential_hat = rho_hat / (4 * np.pi ** 2 * k_sq)\n",
        "\n",
        "    # Compute electric field components in Fourier space\n",
        "    E_x_hat = -1j * 2 * np.pi * kx_grid * potential_hat\n",
        "    E_y_hat = -1j * 2 * np.pi * ky_grid * potential_hat\n",
        "\n",
        "    # Compute inverse Fourier transform to get electric field in real space\n",
        "    E_x = np.real(ifft2(E_x_hat))\n",
        "    E_y = np.real(ifft2(E_y_hat))\n",
        "    electric_potential = np.real(ifft2(potential_hat))\n",
        "\n",
        "    return E_x, E_y, k_sq, electric_potential"
      ]
    },
    {
      "cell_type": "code",
      "execution_count": 151,
      "metadata": {
        "id": "2QZrAlCT_EO1"
      },
      "outputs": [],
      "source": [
        "def interpolate_field (pos_x, pos_y, dx, dy, length, E_x, E_y):\n",
        "\n",
        "    Ex_at_particle = np.zeros(len(pos_x))\n",
        "    Ey_at_particle = np.zeros(len(pos_y))\n",
        "\n",
        "    # LOOPING\n",
        "    for p in range(nparticles):\n",
        "        pos_x[p], pos_y[p] = periodic_particles(pos_x[p], pos_y[p], length)\n",
        "\n",
        "        # GRID POINT FINDER\n",
        "        i = (int(pos_x[p] / dx))\n",
        "        j = (int(pos_y[p] / dy))\n",
        "\n",
        "        # IF INDEX BECAME NEGATIVE\n",
        "        if i < 0:\n",
        "            i += abs(ncell ** 0.5) + 1\n",
        "        if j < 0:\n",
        "            j += abs(ncell ** 0.5) + 1\n",
        "\n",
        "        # FRACTION FINDER\n",
        "        x_frac = (pos_x[p] - (i * dx)) / dx\n",
        "        y_frac = (pos_y[p] - (j * dy)) / dy\n",
        "\n",
        "        # WEIGHT FINDER\n",
        "        weight_ii  = (1 - x_frac) * (1 - y_frac)    # FOR X=0, Y=0\n",
        "        weight_ji  = x_frac * (1 - y_frac)          # FOR X=1, Y=0\n",
        "        weight_ij  = (1 - x_frac) * y_frac          # FOR X=0, Y=1\n",
        "        weight_jj  = x_frac * y_frac                # FOR X=1, Y=1\n",
        "\n",
        "        Ex_at_particle[p] = weight_ii * E_x[i][j] + weight_ji * E_x[(i+1)][j] + weight_ij * E_x[i][(j+1)] + weight_jj * E_x[(i+1)][(j+1)]\n",
        "        Ey_at_particle[p] = weight_ii * E_y[i][j] + weight_ji * E_y[(i + 1)][j] + weight_ij * E_y[i][(j + 1)] + weight_jj * E_y[(i + 1)][(j + 1)]\n",
        "        force_x = particle_charge * Ex_at_particle[p]\n",
        "        force_y = particle_charge * Ey_at_particle[p]\n",
        "        acc_x = force_x / particle_mass\n",
        "        acc_y = force_y / particle_mass\n",
        "\n",
        "    return Ex_at_particle, Ey_at_particle, force_x, force_y, acc_x, acc_y"
      ]
    },
    {
      "cell_type": "code",
      "source": [
        "def kinetic_energy(vel_x, vel_y, particle_mass):\n",
        "    vel_sq = vel_x**2 + vel_y**2\n",
        "    vel_resultant = np.sqrt(vel_sq)\n",
        "    ke_particle = 0.5 * particle_mass * vel_resultant\n",
        "\n",
        "    # Calculate total kinetic energy of the system\n",
        "    ke_system = np.sum(ke_particle)\n",
        "\n",
        "    return ke_particle, ke_system"
      ],
      "metadata": {
        "id": "KXroRbP_smuH"
      },
      "execution_count": 152,
      "outputs": []
    },
    {
      "cell_type": "code",
      "execution_count": 153,
      "metadata": {
        "id": "yp4F1mlh_JA2"
      },
      "outputs": [],
      "source": [
        "nparticles = 5000    #input(print(\"ENTER THE NUMBER OF PARTICLES : \"))\n",
        "ncell = 90000#input(print(\"ENTER THE NUMBER OF CELLS [A PERFECT SQUARE] : \"))\n",
        "length = 10  # DO NOT CHANGE\n",
        "#length = int(length)\n",
        "n_step = 100 #input(print(\"ENTER THE NUMBER OF TIMESTEPS : \"))\n",
        "t = 0\n",
        "dt = 0.01 #input(print(\"ENTER SIZE OF TIMESTEP\"))\n",
        "particle_charge = 1\n",
        "particle_mass = 1\n",
        "nghost = 10\n",
        "iteration = 0\n"
      ]
    },
    {
      "cell_type": "code",
      "execution_count": 154,
      "metadata": {
        "id": "h0opa0eR_MmJ"
      },
      "outputs": [],
      "source": [
        "position_x = np.random.uniform(0, length, nparticles)\n",
        "position_y = np.random.uniform(0, length, nparticles)\n",
        "vel_x = np.random.uniform(-0.1, 0.1, nparticles)\n",
        "vel_y = np.random.uniform(-0.01, 0.01, nparticles)"
      ]
    },
    {
      "cell_type": "code",
      "execution_count": 155,
      "metadata": {
        "id": "sQenGZMd_YGA"
      },
      "outputs": [],
      "source": [
        "dx = length / abs(ncell ** 0.5)\n",
        "dy = length / abs(ncell ** 0.5)"
      ]
    },
    {
      "cell_type": "code",
      "execution_count": 156,
      "metadata": {
        "id": "_g2MxB8j_cL9"
      },
      "outputs": [],
      "source": [
        "#pos_x_list = []\n",
        "#vel_x_list = []\n",
        "#rho_total_list = []\n",
        "ke_system_list = []\n",
        "timesteps_list = []"
      ]
    },
    {
      "cell_type": "code",
      "execution_count": 157,
      "metadata": {
        "colab": {
          "base_uri": "https://localhost:8080/",
          "height": 88
        },
        "id": "BFapLynW_go1",
        "outputId": "7d47b2e1-6e65-4f5b-8ccf-4f00d7791cb6"
      },
      "outputs": [
        {
          "output_type": "execute_result",
          "data": {
            "text/plain": [
              "'\\nposition_x, position_y = periodic_particles(position_x, position_y, length)\\nrho_electron = charge_density(position_x, position_y, dx, dy, length)\\nbackground_charge_density = calculate_background_charge_density(dx, dy, length, particle_charge, nparticles)\\nrho_total = background_charge_density + rho_electron\\n#print(force_x)\\n'"
            ],
            "application/vnd.google.colaboratory.intrinsic+json": {
              "type": "string"
            }
          },
          "metadata": {},
          "execution_count": 157
        }
      ],
      "source": [
        "' TESTS '\n",
        "'''\n",
        "position_x, position_y = periodic_particles(position_x, position_y, length)\n",
        "rho_electron = charge_density(position_x, position_y, dx, dy, length)\n",
        "background_charge_density = calculate_background_charge_density(dx, dy, length, particle_charge, nparticles)\n",
        "rho_total = background_charge_density + rho_electron\n",
        "#print(force_x)\n",
        "'''"
      ]
    },
    {
      "cell_type": "code",
      "execution_count": 158,
      "metadata": {
        "colab": {
          "base_uri": "https://localhost:8080/"
        },
        "id": "EpUIQ8hp_kBH",
        "outputId": "284d7f99-2b7a-4643-9de0-f9f4cbee13ec"
      },
      "outputs": [
        {
          "output_type": "stream",
          "name": "stdout",
          "text": [
            "ITERATION :  1\n",
            "ITERATION :  2\n",
            "ITERATION :  3\n",
            "ITERATION :  4\n",
            "ITERATION :  5\n",
            "ITERATION :  6\n",
            "ITERATION :  7\n",
            "ITERATION :  8\n",
            "ITERATION :  9\n",
            "ITERATION :  10\n",
            "ITERATION :  11\n",
            "ITERATION :  12\n",
            "ITERATION :  13\n",
            "ITERATION :  14\n",
            "ITERATION :  15\n",
            "ITERATION :  16\n",
            "ITERATION :  17\n",
            "ITERATION :  18\n",
            "ITERATION :  19\n",
            "ITERATION :  20\n",
            "ITERATION :  21\n",
            "ITERATION :  22\n",
            "ITERATION :  23\n",
            "ITERATION :  24\n",
            "ITERATION :  25\n",
            "ITERATION :  26\n",
            "ITERATION :  27\n",
            "ITERATION :  28\n",
            "ITERATION :  29\n",
            "ITERATION :  30\n",
            "ITERATION :  31\n",
            "ITERATION :  32\n",
            "ITERATION :  33\n",
            "ITERATION :  34\n",
            "ITERATION :  35\n",
            "ITERATION :  36\n",
            "ITERATION :  37\n",
            "ITERATION :  38\n",
            "ITERATION :  39\n",
            "ITERATION :  40\n",
            "ITERATION :  41\n",
            "ITERATION :  42\n",
            "ITERATION :  43\n",
            "ITERATION :  44\n",
            "ITERATION :  45\n",
            "ITERATION :  46\n",
            "ITERATION :  47\n",
            "ITERATION :  48\n",
            "ITERATION :  49\n",
            "ITERATION :  50\n",
            "ITERATION :  51\n",
            "ITERATION :  52\n",
            "ITERATION :  53\n",
            "ITERATION :  54\n",
            "ITERATION :  55\n",
            "ITERATION :  56\n",
            "ITERATION :  57\n",
            "ITERATION :  58\n",
            "ITERATION :  59\n",
            "ITERATION :  60\n",
            "ITERATION :  61\n",
            "ITERATION :  62\n",
            "ITERATION :  63\n",
            "ITERATION :  64\n",
            "ITERATION :  65\n",
            "ITERATION :  66\n",
            "ITERATION :  67\n",
            "ITERATION :  68\n",
            "ITERATION :  69\n",
            "ITERATION :  70\n",
            "ITERATION :  71\n",
            "ITERATION :  72\n",
            "ITERATION :  73\n",
            "ITERATION :  74\n",
            "ITERATION :  75\n",
            "ITERATION :  76\n",
            "ITERATION :  77\n",
            "ITERATION :  78\n",
            "ITERATION :  79\n",
            "ITERATION :  80\n",
            "ITERATION :  81\n",
            "ITERATION :  82\n",
            "ITERATION :  83\n",
            "ITERATION :  84\n",
            "ITERATION :  85\n",
            "ITERATION :  86\n",
            "ITERATION :  87\n",
            "ITERATION :  88\n",
            "ITERATION :  89\n",
            "ITERATION :  90\n",
            "ITERATION :  91\n",
            "ITERATION :  92\n",
            "ITERATION :  93\n",
            "ITERATION :  94\n",
            "ITERATION :  95\n",
            "ITERATION :  96\n",
            "ITERATION :  97\n",
            "ITERATION :  98\n",
            "ITERATION :  99\n",
            "ITERATION :  100\n"
          ]
        }
      ],
      "source": [
        "for step in range(n_step):\n",
        "    timesteps_list.append(iteration)\n",
        "    #pos_x_list = position_x\n",
        "    #print(\" POSITION X COORDINATES FOR EACH ITERATIONS \\n\", pos_x_list)\n",
        "    #vel_x_list.append(vel_x)\n",
        "    ke_particle, ke_system = kinetic_energy(vel_x, vel_y, particle_mass)\n",
        "    ke_system_list.append(ke_system)\n",
        "\n",
        "\n",
        "    rho_electron = charge_density(position_x, position_y, dx, dy, length, nghost)\n",
        "    background_charge_density = calculate_background_charge_density(dx, dy, length, particle_charge, nparticles)\n",
        "    rho_total = background_charge_density + rho_electron\n",
        "\n",
        "    E_grid_x, E_grid_y, k_square, electric_potential_grid = poisson_solver(rho_total, dx, dy)\n",
        "\n",
        "    Ex_at_particle, Ey_at_particle, force_x, force_y, acceleration_x, acceleration_y = interpolate_field(position_x, position_y, dx, dy, length, E_grid_x, E_grid_y)\n",
        "\n",
        "    vx_half = vel_x + (0.5 * dt * acceleration_x)\n",
        "    vy_half = vel_y + (0.5 * dt * acceleration_y)\n",
        "\n",
        "    position_x += vx_half * dt\n",
        "    position_y += vy_half * dt\n",
        "\n",
        "    rho_electron = charge_density(position_x, position_y, dx, dy, length, nghost)\n",
        "    background_charge_density = calculate_background_charge_density(dx, dy, length, particle_charge, nparticles)\n",
        "    rho_total = background_charge_density + rho_electron\n",
        "\n",
        "    E_grid_x, E_grid_y, k_square, electric_potential_grid = poisson_solver(rho_total, dx, dy)\n",
        "\n",
        "    Ex_at_particle, Ey_at_particle, force_x, force_y, acceleration_x, acceleration_y = interpolate_field(position_x, position_y, dx, dy, length, E_grid_x, E_grid_y)\n",
        "\n",
        "    vel_x = vx_half + 0.5 * dt * acceleration_x\n",
        "    vel_y = vy_half + 0.5 * dt * acceleration_y\n",
        "\n",
        "\n",
        "    #print(\"TOTAL CHARGE DENSITY OF SYSTEM : \", np.sum(rho_total))\n",
        "    #print(\"TOTAL POTENTIAL OF SYSTEM : \", np.sum(electric_potential_grid))\n",
        "\n",
        "    #rho_total_list.append(rho_total)\n",
        "    iteration += 1\n",
        "    print(\"ITERATION : \", iteration)\n",
        "\n",
        "    t += dt"
      ]
    },
    {
      "cell_type": "code",
      "execution_count": 159,
      "metadata": {
        "id": "qKcAA_vM_tHp",
        "outputId": "4e70ee08-d321-41f8-97f1-ca34d5c86ba2",
        "colab": {
          "base_uri": "https://localhost:8080/"
        }
      },
      "outputs": [
        {
          "output_type": "stream",
          "name": "stdout",
          "text": [
            "Length of timesteps_list: 100\n",
            "Length of ke_system_list: 100\n"
          ]
        }
      ],
      "source": [
        "#print(\"END POSITION X COORDINATES : \\n \",pos_x_list)\n",
        "print(\"Length of timesteps_list:\", len(timesteps_list))\n",
        "print(\"Length of ke_system_list:\", len(ke_system_list))"
      ]
    },
    {
      "cell_type": "code",
      "execution_count": 160,
      "metadata": {
        "id": "gPKQnU-v_xbZ",
        "colab": {
          "base_uri": "https://localhost:8080/",
          "height": 647
        },
        "outputId": "c9a953a4-fcf0-4d7d-aeec-5b6c091ee5ab"
      },
      "outputs": [
        {
          "output_type": "display_data",
          "data": {
            "text/plain": [
              "<Figure size 640x480 with 1 Axes>"
            ],
            "image/png": "[encoded data removed]"
          },
          "metadata": {}
        },
        {
          "output_type": "execute_result",
          "data": {
            "text/plain": [
              "\"\\nplt.imshow(rho_total, extent=(0, length, 0, length), origin='lower', cmap='viridis')\\nplt.colorbar(label='Charge Density')\\nplt.xlabel('x')\\nplt.ylabel('y')\\nplt.title('Charge Density Heatmap')\\nplt.show()\\n\\n\\nplt.imshow(electric_potential_grid, extent=(0, length, 0, length), origin='lower', cmap='viridis')\\nplt.colorbar(label='ELECTRIC POTENTIAL')\\nplt.xlabel('x')\\nplt.ylabel('y')\\nplt.title('ELECTRIC POTENTIAL HEAT MAP')\\nplt.show()\\n\\nplt.imshow(k_square, extent=(0, length, 0, length), origin='lower', cmap='viridis')\\nplt.colorbar(label='K SQUARE')\\nplt.xlabel('x')\\nplt.ylabel('y')\\nplt.title('K SQUARE HEAT MAP')\\nplt.show()\\n\\n\\n\\n\\nplt.imshow(rho_electron, extent=(0, length, 0, length), origin='lower', cmap='viridis')\\nplt.colorbar(label='Charge Density')\\nplt.xlabel('x')\\nplt.ylabel('y')\\nplt.title('Charge Density Heatmap')\\nplt.show()\\n\\nplt.imshow(background_charge_density, extent=(0, length, 0, length), origin='lower', cmap='viridis')\\nplt.colorbar(label='Charge Density')\\nplt.xlabel('x')\\nplt.ylabel('y')\\nplt.title('Charge Density Heatmap')\\nplt.show()\\n\\nplt.imshow(rho_total, extent=(0, length, 0, length), origin='lower', cmap='viridis')\\nplt.colorbar(label='Charge Density')\\nplt.xlabel('x')\\nplt.ylabel('y')\\nplt.title('Charge Density Heatmap')\\nplt.show()\\n\""
            ],
            "application/vnd.google.colaboratory.intrinsic+json": {
              "type": "string"
            }
          },
          "metadata": {},
          "execution_count": 160
        }
      ],
      "source": [
        "plt.plot(timesteps_list, ke_system_list, linestyle='-')\n",
        "plt.title('Kinetic Energy vs Timestep')\n",
        "plt.xlabel('Timestep')\n",
        "plt.ylabel('Kinetic Energy')\n",
        "#plt.grid(True)\n",
        "plt.show()\n",
        "\n",
        "\n",
        "\n",
        "'''\n",
        "plt.imshow(rho_total, extent=(0, length, 0, length), origin='lower', cmap='viridis')\n",
        "plt.colorbar(label='Charge Density')\n",
        "plt.xlabel('x')\n",
        "plt.ylabel('y')\n",
        "plt.title('Charge Density Heatmap')\n",
        "plt.show()\n",
        "\n",
        "\n",
        "plt.imshow(electric_potential_grid, extent=(0, length, 0, length), origin='lower', cmap='viridis')\n",
        "plt.colorbar(label='ELECTRIC POTENTIAL')\n",
        "plt.xlabel('x')\n",
        "plt.ylabel('y')\n",
        "plt.title('ELECTRIC POTENTIAL HEAT MAP')\n",
        "plt.show()\n",
        "\n",
        "plt.imshow(k_square, extent=(0, length, 0, length), origin='lower', cmap='viridis')\n",
        "plt.colorbar(label='K SQUARE')\n",
        "plt.xlabel('x')\n",
        "plt.ylabel('y')\n",
        "plt.title('K SQUARE HEAT MAP')\n",
        "plt.show()\n",
        "\n",
        "\n",
        "\n",
        "\n",
        "plt.imshow(rho_electron, extent=(0, length, 0, length), origin='lower', cmap='viridis')\n",
        "plt.colorbar(label='Charge Density')\n",
        "plt.xlabel('x')\n",
        "plt.ylabel('y')\n",
        "plt.title('Charge Density Heatmap')\n",
        "plt.show()\n",
        "\n",
        "plt.imshow(background_charge_density, extent=(0, length, 0, length), origin='lower', cmap='viridis')\n",
        "plt.colorbar(label='Charge Density')\n",
        "plt.xlabel('x')\n",
        "plt.ylabel('y')\n",
        "plt.title('Charge Density Heatmap')\n",
        "plt.show()\n",
        "\n",
        "plt.imshow(rho_total, extent=(0, length, 0, length), origin='lower', cmap='viridis')\n",
        "plt.colorbar(label='Charge Density')\n",
        "plt.xlabel('x')\n",
        "plt.ylabel('y')\n",
        "plt.title('Charge Density Heatmap')\n",
        "plt.show()\n",
        "'''"
      ]
    }
  ],
  "metadata": {
    "colab": {
      "provenance": [],
      "authorship_tag": "ABX9TyNfPd9zNrZ5bhtWmOHmhnaA",
      "include_colab_link": true
    },
    "kernelspec": {
      "display_name": "Python 3",
      "name": "python3"
    },
    "language_info": {
      "name": "python"
    }
  },
  "nbformat": 4,
  "nbformat_minor": 0
}